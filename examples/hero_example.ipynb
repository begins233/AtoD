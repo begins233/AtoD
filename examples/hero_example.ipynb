{
 "cells": [
  {
   "cell_type": "code",
   "execution_count": 1,
   "metadata": {
    "collapsed": false
   },
   "outputs": [],
   "source": [
    "from pprint import pprint\n",
    "from atod import Hero, Heroes"
   ]
  },
  {
   "cell_type": "markdown",
   "metadata": {},
   "source": [
    "### Hero creation\n",
    "Create a hero. The same can be done with Hero.from_name('Anti-Mage')"
   ]
  },
  {
   "cell_type": "code",
   "execution_count": 2,
   "metadata": {
    "collapsed": false
   },
   "outputs": [
    {
     "name": "stdout",
     "output_type": "stream",
     "text": [
      "Anti-Mage stats on lvl 1\n",
      "\tstrength   = 22\n",
      "\tagility    = 22\n",
      "\tintellect  = 15\n",
      "\t...\n"
     ]
    }
   ],
   "source": [
    "am = Hero(1)\n",
    "# You can use attributes to get some hero properties which depends on lvl, examples:\n",
    "print('Anti-Mage stats on lvl {}'.format(am.lvl))\n",
    "print('\\tstrength   = {}'.format(am.str))\n",
    "print('\\tagility    = {}'.format(am.agi))\n",
    "print('\\tintellect  = {}'.format(am.int))\n",
    "print('\\t...')"
   ]
  },
  {
   "cell_type": "markdown",
   "metadata": {},
   "source": [
    "### Class attributes\n",
    "It can be very useful to have hero's in-game name (how it is used in DotA files):"
   ]
  },
  {
   "cell_type": "code",
   "execution_count": 3,
   "metadata": {
    "collapsed": false
   },
   "outputs": [
    {
     "data": {
      "text/plain": [
       "'nevermore'"
      ]
     },
     "execution_count": 3,
     "metadata": {},
     "output_type": "execute_result"
    }
   ],
   "source": [
    "sf = Hero.from_name('Shadow Fiend')\n",
    "sf.in_game_name"
   ]
  },
  {
   "cell_type": "markdown",
   "metadata": {},
   "source": [
    "Also you can get all the specs. This is the dictionary with a lot of parameters."
   ]
  },
  {
   "cell_type": "code",
   "execution_count": 4,
   "metadata": {
    "collapsed": false
   },
   "outputs": [
    {
     "name": "stdout",
     "output_type": "stream",
     "text": [
      "{'ArmorPhysical': -1.0,\n",
      " 'AttackAcquisitionRange': 600,\n",
      " 'AttackAnimationPoint': 0.3,\n",
      " 'AttackCapabilities': 'DOTA_UNIT_CAP_MELEE_ATTACK',\n",
      " 'AttackDamageMax': 31,\n",
      " 'AttackDamageMin': 27,\n",
      " 'AttackRange': 150,\n",
      " 'AttackRate': 1.45,\n",
      " 'AttributeAgilityGain': 2.8,\n",
      " 'AttributeBaseAgility': 22,\n",
      " 'AttributeBaseIntelligence': 15,\n",
      " 'AttributeBaseStrength': 22,\n",
      " 'AttributeIntelligenceGain': 1.8,\n",
      " 'AttributePrimary': 'DOTA_ATTRIBUTE_AGILITY',\n",
      " 'AttributeStrengthGain': 1.5,\n",
      " 'HeroID': 1,\n",
      " 'HeroType': 'DOTA_BOT_HARD_CARRY',\n",
      " 'MovementSpeed': 315,\n",
      " 'MovementTurnRate': 0.5,\n",
      " 'ProvidesBabysit': 0,\n",
      " 'ProvidesSetup': 0,\n",
      " 'RequiresBabysit': 2,\n",
      " 'RequiresFarm': 2,\n",
      " 'RequiresSetup': 1,\n",
      " 'Role': 'Carry,Escape,Nuker',\n",
      " 'Rolelevels': '3,3,1',\n",
      " 'SoloDesire': 1,\n",
      " 'SurvivalRating': 2,\n",
      " 'Team': 'Good',\n",
      " 'aliases': 'am',\n",
      " 'in_game_name': 'antimage',\n",
      " 'index': 74,\n",
      " 'name': 'Anti-Mage',\n",
      " 'patch': '706f'}\n"
     ]
    }
   ],
   "source": [
    "pprint(am.specs)"
   ]
  },
  {
   "cell_type": "markdown",
   "metadata": {},
   "source": [
    "### Getting info"
   ]
  },
  {
   "cell_type": "markdown",
   "metadata": {},
   "source": [
    "The way to get info about certain side of the hero.\n",
    "List of all 'categories':\n",
    "* type\n",
    "* role\n",
    "* laning\n",
    "* attributes\n",
    "\n",
    "functions look like hero.get_*category*(), where *category* is one of the above words."
   ]
  },
  {
   "cell_type": "code",
   "execution_count": 5,
   "metadata": {
    "collapsed": false,
    "scrolled": true
   },
   "outputs": [
    {
     "data": {
      "text/plain": [
       "disabler     0.0\n",
       "nuker        1.0\n",
       "escape       3.0\n",
       "durable      0.0\n",
       "initiator    0.0\n",
       "pusher       0.0\n",
       "support      0.0\n",
       "jungler      0.0\n",
       "carry        3.0\n",
       "dtype: float64"
      ]
     },
     "execution_count": 5,
     "metadata": {},
     "output_type": "execute_result"
    }
   ],
   "source": [
    "am.get_role()"
   ]
  },
  {
   "cell_type": "markdown",
   "metadata": {},
   "source": [
    "If you want to combine few descriptions -- **Hero.get_description()** is the way to go.\n",
    "\n",
    "Note that `laning`, `role`s and hero `type` are read from the game files and sometimes can be strange."
   ]
  },
  {
   "cell_type": "code",
   "execution_count": 6,
   "metadata": {
    "collapsed": false
   },
   "outputs": [
    {
     "name": "stdout",
     "output_type": "stream",
     "text": [
      "category  var             \n",
      "laning    requires_farm               0\n",
      "          requires_setup              0\n",
      "          requires_babysit            2\n",
      "          provides_setup              2\n",
      "          solo_desire                 1\n",
      "          survival_rating             1\n",
      "          provides_babysit            2\n",
      "role      disabler                    0\n",
      "          nuker                       1\n",
      "          escape                      3\n",
      "          durable                     0\n",
      "          initiator                   0\n",
      "          pusher                      0\n",
      "          support                     0\n",
      "          jungler                     0\n",
      "          carry                       3\n",
      "name                          Anti-Mage\n",
      "dtype: object\n"
     ]
    }
   ],
   "source": [
    "print(am.get_description(include=['laning', 'role', 'name']))"
   ]
  }
 ],
 "metadata": {
  "kernelspec": {
   "display_name": "Python 3",
   "language": "python",
   "name": "python3"
  },
  "language_info": {
   "codemirror_mode": {
    "name": "ipython",
    "version": 3
   },
   "file_extension": ".py",
   "mimetype": "text/x-python",
   "name": "python",
   "nbconvert_exporter": "python",
   "pygments_lexer": "ipython3",
   "version": "3.5.0"
  }
 },
 "nbformat": 4,
 "nbformat_minor": 0
}
