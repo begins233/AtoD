{
 "cells": [
  {
   "cell_type": "markdown",
   "metadata": {},
   "source": [
    "# This class is under development\n",
    "still, there are few things to try out. Remember, you need to set up dota API to use `Match`. Read how to make it in README.rst."
   ]
  },
  {
   "cell_type": "code",
   "execution_count": 1,
   "metadata": {
    "collapsed": true
   },
   "outputs": [],
   "source": [
    "from atod import Match"
   ]
  },
  {
   "cell_type": "code",
   "execution_count": 2,
   "metadata": {
    "collapsed": false
   },
   "outputs": [],
   "source": [
    "# just a random match\n",
    "match_id = 1000193456\n",
    "match = Match(match_id)"
   ]
  },
  {
   "cell_type": "code",
   "execution_count": 3,
   "metadata": {
    "collapsed": false
   },
   "outputs": [
    {
     "data": {
      "text/plain": [
       "side     variables                 \n",
       "radiant  (laning, requires_farm)           8\n",
       "         (laning, requires_setup)          5\n",
       "         (laning, requires_babysit)        0\n",
       "         (laning, provides_setup)          5\n",
       "         (laning, solo_desire)             2\n",
       "         (laning, survival_rating)         1\n",
       "         (laning, provides_babysit)        7\n",
       "         (type, push_support)              2\n",
       "         (type, stun_support)              0\n",
       "         (type, semi_carry)                0\n",
       "         (type, hard_carry)                1\n",
       "         (type, nuker)                     2\n",
       "         (type, tank)                      2\n",
       "         (type, pure_support)              1\n",
       "         (type, ganker)                    2\n",
       "dire     (laning, requires_farm)           6\n",
       "         (laning, requires_setup)          7\n",
       "         (laning, requires_babysit)        2\n",
       "         (laning, provides_setup)          8\n",
       "         (laning, solo_desire)             0\n",
       "         (laning, survival_rating)         4\n",
       "         (laning, provides_babysit)        8\n",
       "         (type, push_support)              4\n",
       "         (type, stun_support)              1\n",
       "         (type, semi_carry)                0\n",
       "         (type, hard_carry)                0\n",
       "         (type, nuker)                     0\n",
       "         (type, tank)                      2\n",
       "         (type, pure_support)              2\n",
       "         (type, ganker)                    3\n",
       "result   radiant_win                   False\n",
       "dtype: object"
      ]
     },
     "execution_count": 3,
     "metadata": {},
     "output_type": "execute_result"
    }
   ],
   "source": [
    "# get the description of the match in terms of laning and heroes types\n",
    "d = match.get_description(include=['laning', 'type'])\n",
    "d"
   ]
  },
  {
   "cell_type": "markdown",
   "metadata": {},
   "source": [
    "**What's up with indexes?**\n",
    "This is how pandas MultiIndex looks when you are not expirienced user (like me). But exactly that thing makes Hero descriptions very beautiful!\n",
    "\n",
    "So, how to get how many point radiant team have in nuke power (type, nuker):"
   ]
  },
  {
   "cell_type": "code",
   "execution_count": 4,
   "metadata": {
    "collapsed": false
   },
   "outputs": [
    {
     "data": {
      "text/plain": [
       "2"
      ]
     },
     "execution_count": 4,
     "metadata": {},
     "output_type": "execute_result"
    }
   ],
   "source": [
    "d['radiant'][('type', 'nuker')]"
   ]
  },
  {
   "cell_type": "markdown",
   "metadata": {},
   "source": [
    "Yes, this is ugly, I will try to fix this ASAP.\n",
    "\n",
    "Here is another example of usage to make file look bigger."
   ]
  },
  {
   "cell_type": "code",
   "execution_count": 5,
   "metadata": {
    "collapsed": false
   },
   "outputs": [
    {
     "name": "stdout",
     "output_type": "stream",
     "text": [
      "side     variables        \n",
      "radiant  (role, disabler)         5\n",
      "         (role, nuker)            6\n",
      "         (role, escape)           3\n",
      "         (role, durable)          2\n",
      "         (role, initiator)        3\n",
      "         (role, pusher)           3\n",
      "         (role, support)          4\n",
      "         (role, jungler)          1\n",
      "         (role, carry)            3\n",
      "dire     (role, disabler)         6\n",
      "         (role, nuker)            5\n",
      "         (role, escape)           6\n",
      "         (role, durable)          6\n",
      "         (role, initiator)        6\n",
      "         (role, pusher)           0\n",
      "         (role, support)          3\n",
      "         (role, jungler)          1\n",
      "         (role, carry)            6\n",
      "result   radiant_win          False\n",
      "dtype: object\n"
     ]
    }
   ],
   "source": [
    "print(match.get_description(include=['role']))"
   ]
  },
  {
   "cell_type": "code",
   "execution_count": null,
   "metadata": {
    "collapsed": true
   },
   "outputs": [],
   "source": []
  }
 ],
 "metadata": {
  "kernelspec": {
   "display_name": "Python 3",
   "language": "python",
   "name": "python3"
  },
  "language_info": {
   "codemirror_mode": {
    "name": "ipython",
    "version": 3
   },
   "file_extension": ".py",
   "mimetype": "text/x-python",
   "name": "python",
   "nbconvert_exporter": "python",
   "pygments_lexer": "ipython3",
   "version": "3.5.0"
  }
 },
 "nbformat": 4,
 "nbformat_minor": 0
}
