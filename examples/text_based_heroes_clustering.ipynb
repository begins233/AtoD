{
 "cells": [
  {
   "cell_type": "code",
   "execution_count": 1,
   "metadata": {
    "collapsed": false
   },
   "outputs": [],
   "source": [
    "from pprint import pprint\n",
    "from nltk.stem.snowball import EnglishStemmer\n",
    "from sklearn.feature_extraction.text import TfidfVectorizer\n",
    "\n",
    "from atod import Heroes"
   ]
  },
  {
   "cell_type": "code",
   "execution_count": 2,
   "metadata": {
    "collapsed": false
   },
   "outputs": [
    {
     "name": "stdout",
     "output_type": "stream",
     "text": [
      "No abilities for this HeroID == 16\n"
     ]
    }
   ],
   "source": [
    "heroes = Heroes.all()"
   ]
  },
  {
   "cell_type": "code",
   "execution_count": 3,
   "metadata": {
    "collapsed": false
   },
   "outputs": [],
   "source": [
    "def replace_many(string: str, replacements: list):\n",
    "    ''' Performs many str.replace() functions in a row.\n",
    "    \n",
    "    Args:\n",
    "        string: string to be changed\n",
    "        replacements (list of tuples): tuples are args for replace function\n",
    "            in form (old, new)\n",
    "            \n",
    "    Returns:\n",
    "        str: `string` on which all replace() functions were performed\n",
    "        \n",
    "    '''\n",
    "    for repl in replacements:\n",
    "        string = string.replace(*repl)\n",
    "        \n",
    "    return string"
   ]
  },
  {
   "cell_type": "code",
   "execution_count": 4,
   "metadata": {
    "collapsed": false
   },
   "outputs": [],
   "source": [
    "def count_words(doc):\n",
    "    ''' Returns amount of unique words in the document.'''\n",
    "    words = set()\n",
    "    for text in doc:\n",
    "        words = words.union([w for w in text.split()])\n",
    "        \n",
    "    return len(words)"
   ]
  },
  {
   "cell_type": "code",
   "execution_count": 5,
   "metadata": {
    "collapsed": false
   },
   "outputs": [
    {
     "name": "stdout",
     "output_type": "stream",
     "text": [
      "2835\n"
     ]
    }
   ],
   "source": [
    "# replace (old, new)\n",
    "replacements = [('%', ''), ('\\\\n', ' '), ('%%', ''), ('_', ' ')]\n",
    "\n",
    "abilities = {h.name: list(map(lambda x: replace_many(x, replacements), \n",
    "                              h.abilities.get_texts()['description']))\n",
    "                     for h in heroes}\n",
    "\n",
    "texts_list = [text for hero in abilities.values() for text in hero]\n",
    "print(count_words(texts_list))\n",
    "\n",
    "# What above dict comprehension does: \n",
    "# abilities = dict()\n",
    "# for hero in heroes:\n",
    "#     abilities[hero.name] = list()\n",
    "#     for ability in hero.abilities.get_texts():\n",
    "#         abilities[hero.name].append(ability.replace('\\\\n', ' ').replace('%%', '%'))\n",
    "# I just love lambdas and comprehensions, so :)"
   ]
  },
  {
   "cell_type": "code",
   "execution_count": 6,
   "metadata": {
    "collapsed": false
   },
   "outputs": [],
   "source": [
    "# Create list of stop words \n",
    "# names of heroes commonly occur in descriptions, so\n",
    "# there is need to remove them\n",
    "heroes_names = [h.name for h in heroes]\n",
    "words_in_heroes_names = [word.lower() \n",
    "                         for name in heroes_names \n",
    "                         for word in name.split(' ')]\n",
    "\n",
    "eng_stop_words = TfidfVectorizer(stop_words='english').get_stop_words()\n",
    "stop_words = set(words_in_heroes_names + list(eng_stop_words) \n",
    "                 + ['font', 'color', '7998b5', 'target', 'enemy', 'friendly', 'allied',\n",
    "                    'remnant', 'aghanim', 'scepter', 'units', 'deal damage'\n",
    "                    'cause', 'creep'])"
   ]
  },
  {
   "cell_type": "code",
   "execution_count": 8,
   "metadata": {
    "collapsed": false
   },
   "outputs": [],
   "source": [
    "# stemmer = EnglishStemmer()\n",
    "corpus = dict()\n",
    "\n",
    "# # for every hero\n",
    "for hero, texts in abilities.items():    \n",
    "#     stemmed_corpus[hero] = list()\n",
    "#     # concatenate all abilities descriptions into one\n",
    "#     # and stem all words inside\n",
    "    corpus[hero] = ' '.join([word for doc in texts\n",
    "                                  for word in doc.split(' ')])\n",
    "    \n",
    "# print(count_words(list(stemmed_corpus.values())))\n",
    "    \n",
    "# stemmed_stop_words = [stemmer.stem(word) for word in stop_words]"
   ]
  },
  {
   "cell_type": "code",
   "execution_count": 9,
   "metadata": {
    "collapsed": false
   },
   "outputs": [
    {
     "data": {
      "text/plain": [
       "TfidfVectorizer(analyzer='word', binary=False, decode_error='strict',\n",
       "        dtype=<class 'numpy.int64'>, encoding='utf-8', input='content',\n",
       "        lowercase=True, max_df=1.0, max_features=None, min_df=2,\n",
       "        ngram_range=(1, 2), norm='l2', preprocessor=None, smooth_idf=True,\n",
       "        stop_words={'warrunner', 'viper', 'since', 'devourer', 'allied', 'without', 'night', 'find', 'pugna', 'morphling', 'former', 'ours', 'as', 'each', 'riki', 'clinkz', 'fifty', 'warlock', 'spirit', 'axe', 'stalker', 'few', 'further', 'mill', 'describe', 'fifteen', 'perhaps', 'cry', 'slardar', 'huskar',...', 'done', 'co', 'well', 'monkey', 'anything', 'winter', 'front', 'storm', 'razor', 'ten', 'anyway'},\n",
       "        strip_accents=None, sublinear_tf=False,\n",
       "        token_pattern='(?u)\\\\b\\\\w\\\\w+\\\\b', tokenizer=None, use_idf=True,\n",
       "        vocabulary=None)"
      ]
     },
     "execution_count": 9,
     "metadata": {},
     "output_type": "execute_result"
    }
   ],
   "source": [
    "vectorizer = TfidfVectorizer(stop_words=stop_words,\n",
    "                             ngram_range=(1,2),\n",
    "                             min_df=2,)\n",
    "vectorizer.fit(corpus.values())"
   ]
  },
  {
   "cell_type": "code",
   "execution_count": 10,
   "metadata": {
    "collapsed": false
   },
   "outputs": [
    {
     "name": "stdout",
     "output_type": "stream",
     "text": [
      "1151\n"
     ]
    }
   ],
   "source": [
    "print(len(vectorizer.vocabulary_))"
   ]
  },
  {
   "cell_type": "code",
   "execution_count": 11,
   "metadata": {
    "collapsed": false
   },
   "outputs": [
    {
     "name": "stdout",
     "output_type": "stream",
     "text": [
      "{'neutral': 723, 'wave dealing': 1143, 'arrows': 67, 'current': 240, 'effects': 398, 'invis': 594, 'lost': 653, 'slowing movement': 915, 'upgradable launches': 1116, 'min': 683, 'increasing movement': 578, '50': 14, 'golem': 491, 'gathers': 482, 'seconds unit': 867, 'rolls': 851, 'destroys trees': 352, 'short distance': 887, 'leaps': 624, 'speed movement': 944, 'cause': 176, 'initial': 582, 'burns enemies': 163, 'silencing': 899, 'evasion': 430, 'collides': 211, 'damage area': 247, 'speed slowed': 945, 'providing': 783, 'explodes': 439, 'gains bonus': 479, 'duration damage': 388, 'additional': 33, 'impassable terrain': 559, '35': 12, 'stacks diminishingly': 968, 'levels': 632, 'lets loose': 630, 'impassable': 558, 'spikes': 957, 'heroes': 532, 'takes': 1017, 'kills': 608, 'targeted location': 1023, 'impact': 557, 'launch': 620, 'preventing': 773, '100': 2, 'devastating': 354, 'ally': 46, 'based max': 115, 'separate': 871, 'nearby dealing': 714, 'main': 662, 'damaging energy': 311, 'melee': 680, 'teleportation allows': 1029, 'minor': 689, 'hero friend': 528, 'attacks slowing': 95, 'tornado': 1051, 'drain': 379, 'tooltip seconds': 1050, 'expires': 437, 'hide': 536, '600': 17, 'shatter': 879, 'flesh': 459, 'different': 357, 'swings': 1014, 'forth': 465, 'damaging nearby': 314, 'does damage': 372, 'stunning': 998, 'cold': 210, 'change': 188, 'total mana': 1053, 'force': 462, 'stunning nearby': 1002, 'stone': 977, 'time': 1037, 'pct max': 739, 'bonus movement': 141, 'spirits': 960, 'damage stun': 294, 'near': 709, 'times': 1046, 'break': 148, 'causing deal': 181, 'gold experience': 490, 'increases movement': 574, 'damage mana': 275, 'bonus': 136, 'great': 497, 'granting': 492, 'ability breaks': 24, 'launched': 621, 'armor armor': 60, 'unit strikes': 1108, 'negative status': 721, 'damages slows': 307, 'used': 1119, 'damage unit': 300, 'unique': 1084, 'damage dispel': 262, 'directly': 361, 'return': 839, 'slowed movement': 908, 'expire': 435, 'rune': 852, 'teleports unit': 1031, 'nearby area': 712, 'calls': 167, 'absorbs': 26, 'summoned': 1007, 'mana reaches': 667, 'slowed upgradable': 910, 'click': 204, 'pool': 762, 'turn stone': 1075, 'destroys': 351, 'drop': 385, 'coil': 209, 'does stack': 373, 'damaging enemies': 310, 'damage buildings': 254, 'restores': 838, 'far away': 450, 'damage briefly': 253, 'damage plus': 281, 'seconds enemies': 863, 'reduced': 812, 'team': 1026, 'hits': 540, 'upgradeable': 1117, 'life blood': 634, 'spell duration': 950, 'single unit': 901, 'ability': 22, 'echo': 396, 'enemies attack': 412, 'reduces armor': 814, 'aura': 99, 'time seconds': 1042, 'double damage': 376, 'destroy': 347, 'illusory': 550, 'properties': 778, 'time slowing': 1043, 'sight': 894, 'instantly kills': 589, 'blade': 123, 'gold': 489, 'attack rate': 81, 'distance creates': 369, 'stack': 965, '15 seconds': 5, 'distance': 367, 'damaging line': 313, 'steal': 973, 'abilities': 19, 'turns': 1076, 'swaps': 1012, 'slowed': 907, 'physical': 747, 'point': 757, 'damage enemies': 263, 'tooltip radius': 1049, 'diminishingly': 358, 'attributes': 98, 'activated': 29, 'fury': 473, 'rage': 794, 'unit stunning': 1109, 'percent': 740, 'hit': 539, 'extra damage': 445, 'threshold': 1035, 'short delay': 886, 'converts': 223, 'channeling': 192, 'returning': 840, 'taking': 1019, 'ice': 546, 'attacks abilities': 90, 'damaging': 308, 'unit reducing': 1106, 'spawn': 931, 'spectral': 934, 'attacked unit': 86, 'damage summons': 297, 'speed attacking': 938, 'gain': 474, 'max hp': 676, 'towers': 1056, 'showers': 892, 'nearest': 718, 'burst': 164, 'cast dispel': 169, 'fires': 455, 'allows': 45, 'armor lasts': 63, 'wave': 1142, 'magic dealing': 657, 'sprays': 962, 'ministun': 688, 'duration tooltip': 393, 'unit moves': 1105, 'additional damage': 34, 'affected': 36, 'magically': 661, 'equal': 426, 'focuses': 461, 'structure': 990, 'enemies hit': 418, 'creeps': 236, 'chilling': 200, 'vision': 1129, 'based level': 114, 'restore': 836, 'claws': 203, 'current health': 241, 'astral': 68, 'consumes': 218, 'pure': 786, 'unit hit': 1102, 'wounds': 1149, 'unit location': 1103, 'damage fall': 266, 'building damage': 158, 'missile': 693, 'half': 505, 'rapidly': 802, 'lifesteal': 635, 'air': 41, 'splits': 961, 'buff': 155, 'buffs': 156, 'lasts 10': 616, 'grants bonus': 496, 'lightning': 636, 'burning': 161, 'unable attack': 1081, 'hero location': 531, 'longer': 648, 'ball': 104, 'releases': 824, 'inflicts': 579, 'instantly': 588, 'shield absorbs': 882, 'damage upgradable': 301, 'chance attack': 185, 'initial cast': 583, 'place dealing': 752, 'attacks': 89, 'dealing bonus': 328, 'poison damage': 761, 'remaining': 826, 'implodes': 560, 'mana cost': 665, 'life': 633, 'portion': 763, 'incoming': 563, 'slowing': 911, 'deal massive': 324, 'morph': 699, 'gives chance': 486, 'passively gains': 735, 'silenced': 897, 'area': 52, 'damage attack': 248, 'landing': 612, 'dispel type': 366, 'seconds fires': 864, 'tooltip': 1047, 'knocking': 610, 'regenerate health': 820, 'regen': 818, 'enemies creates': 415, 'attack movement': 79, 'invisibly': 597, 'direction': 360, 'dispel': 365, 'nearby casts': 713, '60': 16, 'physical attack': 748, 'losing': 652, 'sound': 928, 'body': 133, 'mana second': 669, 'interrupts': 593, 'dealing additional': 326, 'removing': 830, 'provides': 781, 'sight hero': 895, 'percentage current': 742, 'damage player': 280, 'time creates': 1039, 'passively': 734, 'normal damage': 726, 'attack modifiers': 78, 'time casts': 1038, 'faster': 451, 'disabling': 364, 'ground stunning': 503, 'dealing': 325, 'strong': 987, 'damage resistance': 285, 'ward attack': 1139, 'speed upgradable': 948, 'receive': 807, '50 damage': 15, 'bonuses': 144, 'miss attacks': 692, 'magical': 658, 'deal extra': 323, 'trees path': 1069, 'accuracy': 27, 'ring': 844, 'teleport': 1027, 'falls': 448, 'armor heroes': 62, 'slowing effect': 914, 'uses ability': 1121, 'trail': 1057, 'attacks deal': 93, 'area damage': 55, 'demonic': 345, 'stunned damage': 996, 'percentage maximum': 744, 'visible': 1128, 'slowing unit': 917, 'heavy': 523, 'using items': 1123, 'wind': 1148, 'realm': 805, 'maximum health': 679, 'doing': 374, 'comes': 214, 'dies': 356, 'triggered': 1071, 'damage half': 270, 'stuns nearby': 1005, 'status': 971, 'applies': 50, 'surge': 1010, 'frozen': 472, 'damage bonus': 251, 'stops': 980, 'unit rune': 1107, 'increases': 572, 'abilities upgradable': 21, 'forward': 466, 'limited number': 640, 'changes': 189, 'enemies': 410, 'magic damage': 656, 'purges buffs': 789, 'circle': 201, 'speed armor': 936, 'attack modifier': 77, 'percentage damage': 743, 'energy unit': 425, 'plus': 756, 'slows': 919, 'damage second': 286, 'seconds creates': 861, 'invulnerable': 598, 'outside': 730, 'repeatedly': 833, 'passive': 732, 'damage seconds': 287, 'nearby': 710, 'hurled air': 544, 'wake': 1136, 'blasts': 125, 'extra': 444, 'modifier does': 696, 'location hook': 644, 'speed time': 946, 'damages nearby': 306, 'elements': 401, 'damage bounce': 252, 'total': 1052, 'distance away': 368, 'damage stunning': 295, 'random damage': 796, 'attack effects': 75, 'duration upgradable': 394, 'type': 1077, 'base movement': 108, 'damage creeps': 257, 'blinking': 129, 'beam': 121, 'process': 777, 'fade': 446, 'status effects': 972, 'damaging frost': 312, 'increased': 566, 'long': 646, 'ends': 408, 'destroyed': 348, '16 seconds': 7, 'killer': 607, 'shrapnel': 893, 'consumes charge': 219, 'sources': 929, 'straight': 981, 'reducing armor': 816, 'charges restore': 198, 'incoming damage': 564, 'pulling': 784, 'deals damage': 335, 'electricity': 400, 'path': 736, 'small area': 925, 'bonus damage': 139, 'seconds takes': 866, 'damage deal': 259, 'seconds creeps': 862, 'causing': 178, 'targeted area': 1022, 'traps': 1062, 'illusion': 548, 'power giving': 768, 'quickly': 791, 'increased speed': 571, 'damage taken': 298, 'healed': 512, 'released': 823, 'blinding': 128, 'purges': 788, 'turn': 1074, 'damage based': 250, 'share': 877, 'sun': 1009, 'afflicted': 38, 'hero gains': 529, 'prevents': 774, 'striking': 986, 'heals': 514, 'slow enemies': 906, 'debuffs': 342, 'granting bonus': 493, 'area casting': 53, 'channeling abilities': 193, 'range': 798, 'melee range': 681, 'unit attack': 1087, '10 seconds': 1, 'illusions': 549, 'surrounds': 1011, 'cost': 226, 'stunning dealing': 1000, 'link': 642, 'targets': 1025, 'magic': 655, 'buildings': 159, 'deal damage': 322, 'electrical': 399, 'creates shield': 234, 'spells deals': 954, 'points': 759, 'generates': 483, 'burst straight': 165, 'intense': 592, 'damage lost': 274, 'covers': 228, 'enemies landing': 419, 'vortex': 1135, 'stun duration': 993, 'unit damages': 1091, 'summons': 1008, 'stunned upgradable': 997, 'attacks chance': 91, 'deals bonus': 334, 'casts': 173, 'shares': 878, 'essence': 428, 'fixed': 456, 'dragged': 378, 'rock spikes': 848, 'shadows': 875, 'damaging slowing': 315, 'flames': 457, 'lasts duration': 618, '400': 13, 'lasts': 615, '30': 10, 'improve': 561, 'stunned': 995, 'increases power': 575, 'health missing': 519, 'does': 371, 'gains increased': 481, 'enchants': 405, 'stop': 979, 'damage upgradeable': 302, 'causing attacks': 179, 'stealing': 974, 'delay': 343, 'vision range': 1131, 'short': 885, 'nearby land': 717, 'transforms': 1058, 'chance deal': 186, 'spin': 959, 'mana': 663, 'stuns damages': 1004, 'closest hero': 207, 'doubled': 377, 'starts': 970, 'base': 106, 'enemies struck': 421, 'greater damage': 499, 'creating': 235, 'range lasts': 799, 'strike': 984, 'close': 205, '16': 6, 'ground': 501, 'attack range': 80, 'base damage': 107, 'pulls': 785, 'teleports': 1030, 'duration expired': 390, 'items': 601, 'magical damage': 659, 'basic': 117, 'movement attack': 701, 'control': 221, 'burns': 162, 'images': 551, 'enemies area': 411, 'healing': 513, 'attack drains': 74, 'launches ball': 623, 'grants': 495, 'removes': 828, 'stun seconds': 994, 'second': 856, 'violent': 1127, 'hook': 541, 'cone': 216, 'single': 900, 'anytime': 48, 'battlefield': 120, 'health mana': 518, 'destroyed attacks': 349, 'sources evasion': 930, 'evenly': 431, 'damaged': 303, 'nether': 722, 'damage slams': 288, 'reduction': 817, 'deals base': 333, 'blessed': 127, 'damage causing': 255, 'invisible': 596, 'ability attack': 23, 'attacks damage': 92, 'mana regeneration': 668, 'empowers': 402, 'active': 30, 'ethereal': 429, 'contact': 220, 'charged': 196, 'aura slows': 100, 'ends summons': 409, 'trap': 1060, 'damage extra': 265, '20': 8, 'armor duration': 61, 'massive': 671, 'type strong': 1079, 'victim': 1126, 'health regeneration': 522, 'throws': 1036, 'damage hero': 271, 'curses': 244, 'attack speed': 82, 'deadly': 318, 'reborn': 806, 'reduces': 813, 'burned': 160, 'based damage': 111, 'speed': 935, 'hero': 524, 'places': 753, '10': 0, 'cost health': 227, 'slams': 902, '20 damage': 9, 'waves': 1144, 'causing damage': 180, 'immunity': 556, 'stuns': 1003, 'attacks uses': 96, 'sword': 1015, 'enemies caught': 414, 'sends': 870, 'damage nearby': 277, 'higher': 538, 'radius radius': 793, 'attack structures': 83, 'rushes': 853, 'rockets': 849, 'damage gaining': 268, 'mini stuns': 686, 'shot deals': 891, 'trees': 1068, 'matter': 673, 'damage': 246, 'infuses': 581, 'set': 872, 'hero dies': 527, 'slow': 905, 'collides hero': 212, 'scorches': 855, 'heroes damage': 534, 'set damage': 873, 'max': 674, 'water': 1141, 'heal percentage': 511, 'damage creates': 256, 'health': 515, 'critical': 237, 'created': 230, 'powers': 770, 'attacks slow': 94, 'mystical': 708, 'large': 614, 'taking damage': 1020, 'bounce': 146, 'power': 767, 'enemies cast': 413, 'takes damage': 1018, 'heal': 510, 'health percentage': 520, 'item': 599, 'rock': 847, 'arrow': 66, 'path hurled': 737, 'spell': 949, 'frenzy': 469, 'enemies dispel': 416, 'timer': 1045, 'bolt': 134, 'speed health': 942, 'regenerate': 819, 'diminishingly sources': 359, 'silence': 896, 'revealed': 842, 'unit draining': 1096, 'damage slowing': 290, 'charging': 199, 'far': 449, 'immediately': 552, 'duplicate': 386, 'disabled': 362, 'percentage': 741, 'damage jump': 272, 'building': 157, 'seconds attacks': 859, 'bonus speed': 142, 'arrive': 65, 'releases wave': 825, 'modifier': 695, 'affected heroes': 37, 'unit causing': 1088, 'slowing nearby': 916, 'upgradable dispel': 1115, 'damage spells': 292, 'regeneration': 821, 'step': 976, 'formation': 464, 'proportion': 779, 'aoe': 49, 'sets': 874, 'breath': 150, 'sacrifices': 854, 'minimum': 687, '30 seconds': 11, 'removes negative': 829, 'removed': 827, 'damage dealt': 261, 'gains': 478, 'damage structures': 293, 'duration': 387, 'resistance magic': 835, 'movement': 700, 'creates circular': 232, 'increases attack': 573, 'renders': 832, 'strong dispel': 988, 'attacked': 85, 'blast': 124, 'attack deal': 72, 'casting': 171, 'unit deals': 1094, 'magical essence': 660, 'channels': 194, 'hp': 542, 'controlled': 222, 'based agility': 110, 'critical strike': 238, 'jump': 603, 'intelligence': 591, 'time kills': 1041, 'modifiers': 697, 'slows attack': 920, 'battle': 119, 'adds': 35, 'lightning strike': 637, 'travel': 1063, 'primary attribute': 776, 'unit damaged': 1090, 'hurled': 543, 'whirling': 1147, 'moment': 698, 'lasts seconds': 619, 'nearby allies': 711, 'swarm': 1013, 'locations': 645, 'deals takes': 339, 'damage gives': 269, 'reveals': 843, 'miss': 691, 'vital': 1133, 'speed damage': 940, 'cooldown': 224, 'invisibility': 595, 'short time': 889, 'killed': 606, 'gaining bonus': 477, 'pct': 738, 'bounces': 147, 'damage reduced': 282, 'slowing damaging': 913, 'speed unit': 947, 'icy': 547, 'springs': 964, 'plague': 754, 'flying': 460, 'passes': 731, 'damage deals': 260, 'attack upgradable': 84, 'limit': 638, 'dance': 317, 'damage pct': 278, 'damage attacks': 249, 'channeled': 190, 'slows enemies': 921, 'energy': 424, 'touch': 1054, 'dagger': 245, 'steals': 975, 'increased damage': 568, 'phases': 746, 'bash': 116, 'adding': 32, 'giving': 487, 'item ability': 600, 'enchantment': 404, 'deals random': 338, 'resistance': 834, 'spikes burst': 958, 'allowing': 44, 'radius': 792, 'traveled': 1065, 'multiple': 706, 'mana pool': 666, 'damage reduction': 284, 'speed attack': 937, 'sucks': 1006, 'seconds': 858, 'leaving': 627, 'damage stuns': 296, 'restore time': 837, 'increased health': 569, 'detonate': 353, 'shot': 890, 'attack heroes': 76, 'attacking': 87, 'launches': 622, 'special': 932, 'wards': 1140, 'unit dies': 1095, 'mana burned': 664, 'shifts': 883, 'physical damage': 750, 'charges': 197, 'transforms unit': 1059, 'unleashes': 1111, 'receives': 809, 'possessed': 765, 'caught': 175, 'stacks': 967, 'initial damage': 584, 'kill': 605, 'land': 611, 'create': 229, 'leaves': 626, 'permanent': 745, 'damage mini': 276, 'speed dealing': 941, 'spells upgradable': 955, 'immune': 554, 'fight': 454, 'mini stunned': 685, 'energies': 422, 'hero deals': 526, 'spell immunity': 952, 'player': 755, 'instances': 587, 'based': 109, 'fall': 447, 'deals massive': 337, 'dealt upgradable': 341, 'primary': 775, 'calling': 166, 'targeted unit': 1024, 'unaffected': 1082, 'powerful': 769, 'immune magic': 555, 'goes': 488, 'line': 641, 'ward': 1138, 'allies': 43, 'cast point': 170, 'unobstructed movement': 1113, 'abilities slowing': 20, 'position': 764, 'struck': 989, 'spread': 963, 'items abilities': 602, 'creates': 231, 'crosses': 239, 'massive damage': 672, 'grows': 504, 'current level': 242, 'existing': 433, 'health dealing': 516, 'deal critical': 321, 'travels': 1066, 'terrain': 1034, 'damage physical': 279, 'friend': 470, 'blood': 131, 'chance': 184, 'temporary': 1033, 'unit grants': 1097, 'shape': 876, 'damaging based': 309, 'gaining': 476, 'location': 643, 'unharmed': 1083, 'stunning enemies': 1001, 'sending': 869, 'bolt lightning': 135, 'special abilities': 933, 'damages': 304, 'way': 1145, 'duration seconds': 392, 'area duration': 57, 'immense': 553, 'targeted': 1021, 'secondary': 857, 'deal': 319, 'increasing': 576, 'ability cooldown': 25, 'ally unit': 47, 'uses': 1120, 'reaches': 804, 'roar': 846, 'heroes area': 533, 'disables': 363, 'end': 406, 'release': 822, 'explode': 438, 'rips': 845, 'nearby enemies': 715, 'lose': 650, 'energies unit': 423, 'attack': 69, 'tooltip damage': 1048, 'damaging stunning': 316, 'unit movement': 1104, 'unable': 1080, 'increased movement': 570, 'deals half': 336, 'curse': 243, 'blow': 132, 'speed increases': 943, 'soul': 927, 'deal bonus': 320, 'dealing heavy': 330, 'mighty': 682, 'binds': 122, 'volatile': 1134, 'destination': 346, 'dealing damage': 329, 'hero affected': 525, 'random nearby': 797, 'unit hero': 1101, 'number': 727, 'brings': 153, 'instance': 586, 'granting magic': 494, '12': 3, 'true': 1072, 'taken': 1016, 'causes': 177, 'damage reducing': 283, 'frost': 471, 'true sight': 1073, 'brief': 151, 'map': 670, 'long range': 647, 'hurls': 545, 'enemies slowed': 420, 'provides true': 782, 'weakens': 1146, 'cast': 168, 'seconds upgradable': 868, 'destroying': 350, 'moves': 703, 'stack unique': 966, 'original': 729, 'seconds bonus': 860, 'encases': 403, 'axes': 103, '75': 18, 'chance miss': 187, 'trapping': 1061, 'damage form': 267, 'seconds heroes': 865, 'shock': 884, 'loose': 649, 'connects': 217, '15': 4, 'blocks': 130, 'effect': 397, 'normal': 725, 'increased attack': 567, 'increase': 565, 'casts spell': 174, 'ranged': 801, 'reduce': 811, 'form': 463, 'unit heal': 1099, 'puts': 790, 'greater': 498, 'briefly': 152, 'multiplier': 707, 'using': 1122, 'place': 751, 'slips': 904, 'breaks': 149, 'young': 1150, 'fiery': 453, 'damage damage': 258, 'double': 375, 'half damage': 506, 'arcane': 51, 'draining': 380, 'agility': 39, 'stunning damaging': 999, 'harmless': 509, 'explosive': 443, 'reducing': 815, 'experience': 434, 'high': 537, 'rolling': 850, 'combat': 213, 'protects': 780, 'deals': 332, 'type basic': 1078, 'armor reduction': 64, 'use': 1118, 'unit time': 1110, 'maximum': 677, 'damage slow': 289, 'end duration': 407, 'attack damage': 71, 'time effect': 1040, 'rendering': 831, 'short duration': 888, 'gain bonus': 475, 'acid': 28, 'barrier': 105, 'movement speed': 702, 'straight path': 982, 'erupt': 427, 'range upgradable': 800, 'missing': 694, 'silences': 898, 'spells using': 956, 'dealing base': 327, 'temporarily': 1032, 'unit healing': 1100, 'attack attacked': 70, 'drains health': 382, 'drenches': 384, 'venom': 1124, 'harm': 508, 'channeled summons': 191, 'moving': 705, 'returns': 841, 'new': 724, 'influence': 580, 'based intelligence': 113, 'maximum damage': 678, 'health falls': 517, 'stone stunning': 978, 'bonus attack': 138, 'drains': 381, 'slowed seconds': 909, 'standing': 969, 'spells': 953, 'duration second': 391, 'gains chance': 480, 'time upgradable': 1044, 'strikes': 985, 'tree': 1067, 'unit damaging': 1092, 'slowly': 918, 'circular': 202, 'vision true': 1132, 'point mana': 758, 'bonus gold': 140, 'presence': 771, 'flaming': 458, 'trigger': 1070, 'enemies heal': 417, 'improves': 562, 'unit': 1086, 'shield': 881, 'area effect': 58, 'delayed': 344, 'loses': 651, 'attack dealing': 73, 'rate': 803, 'touches': 1055, 'kills unit': 609, 'freezing': 468, 'certain': 183, 'unit dealing': 1093, 'attribute': 97, 'expired': 436, 'unique attack': 1085, 'mini': 684, 'greatly': 500, 'strength': 983, 'duration ends': 389, 'comes contact': 215, 'presence increases': 772, 'spell immune': 951, 'teleportation': 1028, 'blasts unit': 126, 'explosion': 441, 'leaps forward': 625, 'receive attack': 808, 'slows movement': 922, 'exchange': 432, 'exploding': 440, 'receiving': 810, 'lets': 629, 'instead': 590, 'stun': 992, 'small': 924, 'ahead': 40, 'gives': 485, 'level': 631, 'physical attacks': 749, 'air stunned': 42, 'armor': 59, 'slows unit': 923, 'upgradable': 1114, 'ground damaging': 502, 'speed bonus': 939, 'pure damage': 787, 'explosions': 442, 'area dealing': 56, 'distance teleportation': 370, 'draws': 383, 'freeze': 467, 'earns': 395, 'dealt': 340, 'solid': 926, 'attacking unit': 88, 'unit damage': 1089, 'casting spells': 172, 'slowing attacks': 912, 'causing miss': 182, 'travel faster': 1064, 'bonus agility': 137, 'given': 484, 'damage equal': 264, 'hero granting': 530, 'basic dispel': 118, 'added': 31, 'halved': 507, 'cloud': 208, 'field': 452, 'passive bonus': 733, 'lower': 654, 'unobstructed': 1112, 'unit harmless': 1098, 'vicinity': 1125, 'damage lasts': 273, 'area causing': 54, 'heroes map': 535, 'damage time': 299, 'slams ground': 903, 'possesses': 766, 'nearby heroes': 716, 'die': 355, 'max health': 675, 'health regen': 521, 'automatically': 101, 'closest': 206, 'shatters': 880, 'structures': 991, 'nearest unit': 719, 'away': 102, 'lands': 613, 'damages enemies': 305, 'vision path': 1130, 'cooldowns': 225, 'creates damaging': 233, 'movespeed': 704, 'wall': 1137, 'increasing attack': 577, 'broken': 154, 'lasts 16': 617, 'inside': 585, 'based health': 112, 'poison': 760, 'boulder': 145, 'damage slows': 291, 'negative': 720, 'limited': 639, 'bonus strength': 143, 'minor damage': 690, 'random': 795, 'jumps': 604, 'charge': 195, 'dealing minor': 331, 'leaving unharmed': 628, 'orb': 728}\n"
     ]
    }
   ],
   "source": [
    "print(vectorizer.vocabulary_)"
   ]
  },
  {
   "cell_type": "code",
   "execution_count": 15,
   "metadata": {
    "collapsed": false
   },
   "outputs": [
    {
     "name": "stdout",
     "output_type": "stream",
     "text": [
      "[('', 0), ('', 0), ('', 0), ('', 0), ('', 0), ('', 0), ('', 0), ('', 0), ('', 0), ('', 0), ('', 0), ('', 0), ('', 0), ('', 0), ('', 0), ('', 0), ('', 0), ('', 0), ('', 0), ('', 0)]\n"
     ]
    }
   ],
   "source": [
    "# find the most popular words\n",
    "most_popular_words = [('', 0)] * 20\n",
    "print(most_popular_words)\n",
    "\n",
    "id2word = {str(id_): word for word, id_ in vectorizer.vocabulary_.items()}\n",
    "corpus_matrix = vectorizer.transform(corpus.values())\n",
    "\n",
    "for index in range(corpus_matrix.shape[1]):\n",
    "    col = corpus_matrix.getcol(index)\n",
    "    \n",
    "    if col.nnz > most_popular_words[0][1]:\n",
    "        most_popular_words[0] = (id2word[str(index)], \n",
    "                                  col.nnz)\n",
    "        most_popular_words = sorted(most_popular_words, key=lambda x: x[1])"
   ]
  },
  {
   "cell_type": "code",
   "execution_count": 16,
   "metadata": {
    "collapsed": false,
    "scrolled": true
   },
   "outputs": [
    {
     "name": "stdout",
     "output_type": "stream",
     "text": [
      "[('damaging', 36), ('attacks', 38), ('dealing damage', 39), ('hero', 41), ('time', 44), ('movement speed', 45), ('bonus', 45), ('duration', 46), ('deals', 46), ('area', 47), ('dealing', 53), ('seconds', 56), ('nearby', 56), ('movement', 59), ('speed', 60), ('enemies', 60), ('attack', 67), ('unit', 77), ('upgradable', 84), ('damage', 108)]\n"
     ]
    }
   ],
   "source": [
    "print(most_popular_words)"
   ]
  },
  {
   "cell_type": "code",
   "execution_count": null,
   "metadata": {
    "collapsed": true
   },
   "outputs": [],
   "source": []
  }
 ],
 "metadata": {
  "kernelspec": {
   "display_name": "Python 3",
   "language": "python",
   "name": "python3"
  },
  "language_info": {
   "codemirror_mode": {
    "name": "ipython",
    "version": 3
   },
   "file_extension": ".py",
   "mimetype": "text/x-python",
   "name": "python",
   "nbconvert_exporter": "python",
   "pygments_lexer": "ipython3",
   "version": "3.5.0"
  }
 },
 "nbformat": 4,
 "nbformat_minor": 0
}
