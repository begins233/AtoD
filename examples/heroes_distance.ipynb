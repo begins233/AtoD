{
 "cells": [
  {
   "cell_type": "markdown",
   "metadata": {},
   "source": [
    "In this file I'm gonna try to find appropriate description and distance functions for heroes. This is needed to apply Collaborative filtering in the future."
   ]
  },
  {
   "cell_type": "code",
   "execution_count": 1,
   "metadata": {
    "collapsed": true
   },
   "outputs": [],
   "source": [
    "import json\n",
    "import numpy as np\n",
    "import pandas as pd\n",
    "from sklearn.metrics.pairwise import (euclidean_distances,\n",
    "                                      manhattan_distances,\n",
    "                                      cosine_similarity,\n",
    "                                      cosine_distances)\n",
    "from itertools import combinations, product\n",
    "from atod import Heroes, Hero"
   ]
  },
  {
   "cell_type": "code",
   "execution_count": 2,
   "metadata": {
    "collapsed": false
   },
   "outputs": [
    {
     "name": "stdout",
     "output_type": "stream",
     "text": [
      "No abilities for this HeroID == 16\n"
     ]
    },
    {
     "data": {
      "text/html": [
       "<div>\n",
       "<style>\n",
       "    .dataframe thead tr:only-child th {\n",
       "        text-align: right;\n",
       "    }\n",
       "\n",
       "    .dataframe thead th {\n",
       "        text-align: left;\n",
       "    }\n",
       "\n",
       "    .dataframe tbody tr th {\n",
       "        vertical-align: top;\n",
       "    }\n",
       "</style>\n",
       "<table border=\"1\" class=\"dataframe\">\n",
       "  <thead>\n",
       "    <tr style=\"text-align: right;\">\n",
       "      <th></th>\n",
       "      <th>name</th>\n",
       "      <th>laning_provides_babysit</th>\n",
       "      <th>laning_provides_setup</th>\n",
       "      <th>laning_requires_babysit</th>\n",
       "      <th>laning_requires_farm</th>\n",
       "      <th>laning_requires_setup</th>\n",
       "      <th>laning_solo_desire</th>\n",
       "      <th>laning_survival_rating</th>\n",
       "      <th>role_disabler</th>\n",
       "      <th>role_nuker</th>\n",
       "      <th>...</th>\n",
       "      <th>role_jungler</th>\n",
       "      <th>role_carry</th>\n",
       "      <th>type_ganker</th>\n",
       "      <th>type_hard_carry</th>\n",
       "      <th>type_nuker</th>\n",
       "      <th>type_pure_support</th>\n",
       "      <th>type_push_support</th>\n",
       "      <th>type_semi_carry</th>\n",
       "      <th>type_stun_support</th>\n",
       "      <th>type_tank</th>\n",
       "    </tr>\n",
       "  </thead>\n",
       "  <tbody>\n",
       "    <tr>\n",
       "      <th>0</th>\n",
       "      <td>Faceless Void</td>\n",
       "      <td>0</td>\n",
       "      <td>0</td>\n",
       "      <td>2</td>\n",
       "      <td>2</td>\n",
       "      <td>2</td>\n",
       "      <td>0</td>\n",
       "      <td>1</td>\n",
       "      <td>2.0</td>\n",
       "      <td>0.0</td>\n",
       "      <td>...</td>\n",
       "      <td>0.0</td>\n",
       "      <td>2.0</td>\n",
       "      <td>0</td>\n",
       "      <td>1</td>\n",
       "      <td>0</td>\n",
       "      <td>0</td>\n",
       "      <td>0</td>\n",
       "      <td>0</td>\n",
       "      <td>0</td>\n",
       "      <td>0</td>\n",
       "    </tr>\n",
       "    <tr>\n",
       "      <th>1</th>\n",
       "      <td>Tidehunter</td>\n",
       "      <td>1</td>\n",
       "      <td>1</td>\n",
       "      <td>0</td>\n",
       "      <td>0</td>\n",
       "      <td>0</td>\n",
       "      <td>1</td>\n",
       "      <td>2</td>\n",
       "      <td>2.0</td>\n",
       "      <td>1.0</td>\n",
       "      <td>...</td>\n",
       "      <td>0.0</td>\n",
       "      <td>0.0</td>\n",
       "      <td>0</td>\n",
       "      <td>0</td>\n",
       "      <td>0</td>\n",
       "      <td>0</td>\n",
       "      <td>0</td>\n",
       "      <td>0</td>\n",
       "      <td>1</td>\n",
       "      <td>1</td>\n",
       "    </tr>\n",
       "    <tr>\n",
       "      <th>2</th>\n",
       "      <td>Tinker</td>\n",
       "      <td>2</td>\n",
       "      <td>0</td>\n",
       "      <td>0</td>\n",
       "      <td>1</td>\n",
       "      <td>1</td>\n",
       "      <td>1</td>\n",
       "      <td>1</td>\n",
       "      <td>0.0</td>\n",
       "      <td>3.0</td>\n",
       "      <td>...</td>\n",
       "      <td>0.0</td>\n",
       "      <td>1.0</td>\n",
       "      <td>1</td>\n",
       "      <td>0</td>\n",
       "      <td>0</td>\n",
       "      <td>0</td>\n",
       "      <td>1</td>\n",
       "      <td>0</td>\n",
       "      <td>0</td>\n",
       "      <td>0</td>\n",
       "    </tr>\n",
       "    <tr>\n",
       "      <th>3</th>\n",
       "      <td>Vengeful Spirit</td>\n",
       "      <td>2</td>\n",
       "      <td>2</td>\n",
       "      <td>0</td>\n",
       "      <td>0</td>\n",
       "      <td>0</td>\n",
       "      <td>0</td>\n",
       "      <td>1</td>\n",
       "      <td>2.0</td>\n",
       "      <td>1.0</td>\n",
       "      <td>...</td>\n",
       "      <td>0.0</td>\n",
       "      <td>0.0</td>\n",
       "      <td>1</td>\n",
       "      <td>0</td>\n",
       "      <td>0</td>\n",
       "      <td>0</td>\n",
       "      <td>0</td>\n",
       "      <td>0</td>\n",
       "      <td>1</td>\n",
       "      <td>0</td>\n",
       "    </tr>\n",
       "    <tr>\n",
       "      <th>4</th>\n",
       "      <td>Anti-Mage</td>\n",
       "      <td>0</td>\n",
       "      <td>0</td>\n",
       "      <td>2</td>\n",
       "      <td>2</td>\n",
       "      <td>1</td>\n",
       "      <td>1</td>\n",
       "      <td>2</td>\n",
       "      <td>0.0</td>\n",
       "      <td>1.0</td>\n",
       "      <td>...</td>\n",
       "      <td>0.0</td>\n",
       "      <td>3.0</td>\n",
       "      <td>0</td>\n",
       "      <td>1</td>\n",
       "      <td>0</td>\n",
       "      <td>0</td>\n",
       "      <td>0</td>\n",
       "      <td>0</td>\n",
       "      <td>0</td>\n",
       "      <td>0</td>\n",
       "    </tr>\n",
       "  </tbody>\n",
       "</table>\n",
       "<p>5 rows × 25 columns</p>\n",
       "</div>"
      ],
      "text/plain": [
       "              name  laning_provides_babysit  laning_provides_setup  \\\n",
       "0    Faceless Void                        0                      0   \n",
       "1       Tidehunter                        1                      1   \n",
       "2           Tinker                        2                      0   \n",
       "3  Vengeful Spirit                        2                      2   \n",
       "4        Anti-Mage                        0                      0   \n",
       "\n",
       "   laning_requires_babysit  laning_requires_farm  laning_requires_setup  \\\n",
       "0                        2                     2                      2   \n",
       "1                        0                     0                      0   \n",
       "2                        0                     1                      1   \n",
       "3                        0                     0                      0   \n",
       "4                        2                     2                      1   \n",
       "\n",
       "   laning_solo_desire  laning_survival_rating  role_disabler  role_nuker  \\\n",
       "0                   0                       1            2.0         0.0   \n",
       "1                   1                       2            2.0         1.0   \n",
       "2                   1                       1            0.0         3.0   \n",
       "3                   0                       1            2.0         1.0   \n",
       "4                   1                       2            0.0         1.0   \n",
       "\n",
       "     ...      role_jungler  role_carry  type_ganker  type_hard_carry  \\\n",
       "0    ...               0.0         2.0            0                1   \n",
       "1    ...               0.0         0.0            0                0   \n",
       "2    ...               0.0         1.0            1                0   \n",
       "3    ...               0.0         0.0            1                0   \n",
       "4    ...               0.0         3.0            0                1   \n",
       "\n",
       "   type_nuker  type_pure_support  type_push_support  type_semi_carry  \\\n",
       "0           0                  0                  0                0   \n",
       "1           0                  0                  0                0   \n",
       "2           0                  0                  1                0   \n",
       "3           0                  0                  0                0   \n",
       "4           0                  0                  0                0   \n",
       "\n",
       "   type_stun_support  type_tank  \n",
       "0                  0          0  \n",
       "1                  1          1  \n",
       "2                  0          0  \n",
       "3                  1          0  \n",
       "4                  0          0  \n",
       "\n",
       "[5 rows x 25 columns]"
      ]
     },
     "execution_count": 2,
     "metadata": {},
     "output_type": "execute_result"
    }
   ],
   "source": [
    "heroes = Heroes.all()\n",
    "data = pd.DataFrame([h.get_description(['name', 'laning', 'role', 'type'])\n",
    "                     for h in heroes])\n",
    "data.head()"
   ]
  },
  {
   "cell_type": "code",
   "execution_count": 3,
   "metadata": {
    "collapsed": true
   },
   "outputs": [],
   "source": [
    "def hero_vector(name: str):\n",
    "    return data[data['name'] == name].drop(['name'], axis=1)"
   ]
  },
  {
   "cell_type": "code",
   "execution_count": 4,
   "metadata": {
    "collapsed": false
   },
   "outputs": [
    {
     "name": "stdout",
     "output_type": "stream",
     "text": [
      "[('Io', 0.99999999999999978), ('Keeper of the Light', 0.83650191257130413), ('Lich', 0.82478609884232257), ('Omniknight', 0.80317450514460775), ('Dazzle', 0.78354679390020654), ('Mirana', 0.75592894601845451), ('Abaddon', 0.72524066762284223), ('Bounty Hunter', 0.71838111651923897), ('Oracle', 0.7127864449672372), ('Visage', 0.70929936561519058)]\n"
     ]
    }
   ],
   "source": [
    "# find all the closest heroes to the \n",
    "puck = hero_vector('Io')\n",
    "distances = list()\n",
    "\n",
    "for hero in heroes:\n",
    "    distances.append((hero.name, \n",
    "                      cosine_similarity(puck, hero_vector(hero.name))[0][0]))\n",
    "    \n",
    "distances = list(reversed(sorted(distances, key=lambda x: x[1])))\n",
    "print(distances[:10])"
   ]
  },
  {
   "cell_type": "markdown",
   "metadata": {
    "collapsed": true
   },
   "source": [
    "## Second idea\n",
    "Something like hero2vec: from 48k professional matches, if heroes were used together and won, add `won_weight` to\n",
    "$hero2vec[i][j]$, where $i$ - id of the first hero, $j$ - id of the second hero for all pairs of heroes in pick."
   ]
  },
  {
   "cell_type": "code",
   "execution_count": 5,
   "metadata": {
    "collapsed": false
   },
   "outputs": [],
   "source": [
    "with open('data/players_in_matches.json') as fp:\n",
    "    players_in_matches = json.load(fp)"
   ]
  },
  {
   "cell_type": "code",
   "execution_count": 6,
   "metadata": {
    "collapsed": false
   },
   "outputs": [],
   "source": [
    "matches = dict()\n",
    "\n",
    "for record in players_in_matches:\n",
    "    # create match in matches dictionary with arrays for\n",
    "    # winners and losers ids\n",
    "    matches.setdefault(str(record['match_id']), \n",
    "                       {\n",
    "                        'winners': [],\n",
    "                        'loosers': [],\n",
    "                       }\n",
    "                      )\n",
    "    if record['win']:\n",
    "        # add hero to winners of this match\n",
    "        matches[str(record['match_id'])]['winners'].append(record['hero_id'])\n",
    "    else:\n",
    "        # add hero to losers\n",
    "        matches[str(record['match_id'])]['loosers'].append(record['hero_id'])\n",
    "\n",
    "# length of matches should be 10 times smaller than length of players...\n",
    "# since there are 10 players in each match\n",
    "assert len(matches), len(players_in_matches) / 10"
   ]
  },
  {
   "cell_type": "code",
   "execution_count": 7,
   "metadata": {
    "collapsed": false
   },
   "outputs": [],
   "source": [
    "n_heroes = 115\n",
    "hero2vec = np.zeros((n_heroes, n_heroes))\n",
    "\n",
    "for match in matches.values():\n",
    "    # for winners\n",
    "    # sorting is needed to have upper traingular matrix\n",
    "    # combinations produces all heroes pairs with smaller id first\n",
    "    for hero1, hero2 in product(match['winners'], repeat=2):\n",
    "        hero2vec[hero1][hero2] += 1\n",
    "        \n",
    "    for hero1, hero2 in product(match['loosers'], repeat=2):\n",
    "        hero2vec[hero1][hero2] += .75"
   ]
  },
  {
   "cell_type": "code",
   "execution_count": 10,
   "metadata": {
    "collapsed": false
   },
   "outputs": [
    {
     "name": "stdout",
     "output_type": "stream",
     "text": [
      "[[ 0.78849408]]\n",
      "[[ 0.76660642]]\n",
      "[[ 0.81325883]]\n",
      "[[ 0.84008312]]\n"
     ]
    },
    {
     "name": "stderr",
     "output_type": "stream",
     "text": [
      "/Users/gasabr/.virtualenvs/dota/lib/python3.5/site-packages/sklearn/utils/validation.py:395: DeprecationWarning: Passing 1d arrays as data is deprecated in 0.17 and will raise ValueError in 0.19. Reshape your data either using X.reshape(-1, 1) if your data has a single feature or X.reshape(1, -1) if it contains a single sample.\n",
      "  DeprecationWarning)\n",
      "/Users/gasabr/.virtualenvs/dota/lib/python3.5/site-packages/sklearn/utils/validation.py:395: DeprecationWarning: Passing 1d arrays as data is deprecated in 0.17 and will raise ValueError in 0.19. Reshape your data either using X.reshape(-1, 1) if your data has a single feature or X.reshape(1, -1) if it contains a single sample.\n",
      "  DeprecationWarning)\n",
      "/Users/gasabr/.virtualenvs/dota/lib/python3.5/site-packages/sklearn/utils/validation.py:395: DeprecationWarning: Passing 1d arrays as data is deprecated in 0.17 and will raise ValueError in 0.19. Reshape your data either using X.reshape(-1, 1) if your data has a single feature or X.reshape(1, -1) if it contains a single sample.\n",
      "  DeprecationWarning)\n",
      "/Users/gasabr/.virtualenvs/dota/lib/python3.5/site-packages/sklearn/utils/validation.py:395: DeprecationWarning: Passing 1d arrays as data is deprecated in 0.17 and will raise ValueError in 0.19. Reshape your data either using X.reshape(-1, 1) if your data has a single feature or X.reshape(1, -1) if it contains a single sample.\n",
      "  DeprecationWarning)\n",
      "/Users/gasabr/.virtualenvs/dota/lib/python3.5/site-packages/sklearn/utils/validation.py:395: DeprecationWarning: Passing 1d arrays as data is deprecated in 0.17 and will raise ValueError in 0.19. Reshape your data either using X.reshape(-1, 1) if your data has a single feature or X.reshape(1, -1) if it contains a single sample.\n",
      "  DeprecationWarning)\n",
      "/Users/gasabr/.virtualenvs/dota/lib/python3.5/site-packages/sklearn/utils/validation.py:395: DeprecationWarning: Passing 1d arrays as data is deprecated in 0.17 and will raise ValueError in 0.19. Reshape your data either using X.reshape(-1, 1) if your data has a single feature or X.reshape(1, -1) if it contains a single sample.\n",
      "  DeprecationWarning)\n",
      "/Users/gasabr/.virtualenvs/dota/lib/python3.5/site-packages/sklearn/utils/validation.py:395: DeprecationWarning: Passing 1d arrays as data is deprecated in 0.17 and will raise ValueError in 0.19. Reshape your data either using X.reshape(-1, 1) if your data has a single feature or X.reshape(1, -1) if it contains a single sample.\n",
      "  DeprecationWarning)\n",
      "/Users/gasabr/.virtualenvs/dota/lib/python3.5/site-packages/sklearn/utils/validation.py:395: DeprecationWarning: Passing 1d arrays as data is deprecated in 0.17 and will raise ValueError in 0.19. Reshape your data either using X.reshape(-1, 1) if your data has a single feature or X.reshape(1, -1) if it contains a single sample.\n",
      "  DeprecationWarning)\n"
     ]
    }
   ],
   "source": [
    "id1 = Hero.from_name('Naga Siren').id\n",
    "id2 = Hero.from_name('Anti-Mage').id\n",
    "id3 = Hero.from_name('Beastmaster').id\n",
    "id4 = Hero.from_name('Dazzle').id\n",
    "id5 = Hero.from_name('Oracle').id\n",
    "\n",
    "# print(hero2vec[id1])\n",
    "\n",
    "print(cosine_distances(hero2vec[id1], hero2vec[id2]))\n",
    "print(cosine_distances(hero2vec[id2], hero2vec[id3]))\n",
    "print(cosine_distances(hero2vec[id1], hero2vec[id3]))\n",
    "print(cosine_distances(hero2vec[id4], hero2vec[id5]))"
   ]
  },
  {
   "cell_type": "code",
   "execution_count": null,
   "metadata": {
    "collapsed": true
   },
   "outputs": [],
   "source": []
  }
 ],
 "metadata": {
  "kernelspec": {
   "display_name": "Python 3",
   "language": "python",
   "name": "python3"
  },
  "language_info": {
   "codemirror_mode": {
    "name": "ipython",
    "version": 3
   },
   "file_extension": ".py",
   "mimetype": "text/x-python",
   "name": "python",
   "nbconvert_exporter": "python",
   "pygments_lexer": "ipython3",
   "version": "3.5.0"
  }
 },
 "nbformat": 4,
 "nbformat_minor": 0
}
