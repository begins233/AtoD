{
 "cells": [
  {
   "cell_type": "code",
   "execution_count": 1,
   "metadata": {
    "collapsed": true
   },
   "outputs": [],
   "source": [
    "import json\n",
    "import numpy as np\n",
    "import pandas as pd\n",
    "from itertools import combinations"
   ]
  },
  {
   "cell_type": "code",
   "execution_count": 2,
   "metadata": {
    "collapsed": true
   },
   "outputs": [],
   "source": [
    "n_heroes = 115"
   ]
  },
  {
   "cell_type": "code",
   "execution_count": 3,
   "metadata": {
    "collapsed": false
   },
   "outputs": [],
   "source": [
    "with open('data/players_in_matches.json', 'r') as fp:\n",
    "    players_in_matches = json.load(fp)"
   ]
  },
  {
   "cell_type": "code",
   "execution_count": 4,
   "metadata": {
    "collapsed": false
   },
   "outputs": [
    {
     "data": {
      "text/plain": [
       "' Print some info about dataset:\\n    * first match date\\n    * last match date\\n    * number of matches\\n'"
      ]
     },
     "execution_count": 4,
     "metadata": {},
     "output_type": "execute_result"
    }
   ],
   "source": [
    "''' Print some info about dataset:\n",
    "    * first match date\n",
    "    * last match date\n",
    "    * number of matches\n",
    "'''"
   ]
  },
  {
   "cell_type": "code",
   "execution_count": 5,
   "metadata": {
    "collapsed": false
   },
   "outputs": [],
   "source": [
    "matches = dict()\n",
    "\n",
    "for record in players_in_matches:\n",
    "    # create match in matches dictionary with arrays for\n",
    "    # winners and losers ids\n",
    "    matches.setdefault(str(record['match_id']), \n",
    "                       {\n",
    "                        'winners': [],\n",
    "                        'loosers': [],\n",
    "                       }\n",
    "                      )\n",
    "    if record['win']:\n",
    "        # add hero to winners of this match\n",
    "        matches[str(record['match_id'])]['winners'].append(record['hero_id'])\n",
    "    else:\n",
    "        # add hero to losers\n",
    "        matches[str(record['match_id'])]['loosers'].append(record['hero_id'])\n",
    "\n",
    "# length of matches should be 10 times smaller than length of players...\n",
    "# since there are 10 players in each match\n",
    "assert len(matches), len(players_in_matches) / 10"
   ]
  },
  {
   "cell_type": "code",
   "execution_count": 6,
   "metadata": {
    "collapsed": false
   },
   "outputs": [],
   "source": [
    "# crete and fill \n",
    "matches_played = np.zeros((n_heroes, n_heroes))\n",
    "matches_won = np.zeros((n_heroes, n_heroes))\n",
    "\n",
    "for match in matches.values():\n",
    "    # for winners\n",
    "    # sorting is needed to have upper traingular matrix\n",
    "    # combinations produces all heroes pairs with smaller id first\n",
    "    for hero1, hero2 in combinations(sorted(match['winners']), 2):\n",
    "        matches_played[hero1][hero2] += 1\n",
    "        matches_won[hero1][hero2] += 1\n",
    "        \n",
    "    for hero1, hero2 in combinations(sorted(match['loosers']), 2):\n",
    "        matches_played[hero1][hero2] += 1"
   ]
  },
  {
   "cell_type": "code",
   "execution_count": 7,
   "metadata": {
    "collapsed": false
   },
   "outputs": [
    {
     "name": "stdout",
     "output_type": "stream",
     "text": [
      "[[  nan   nan   nan ...,   nan   nan   nan]\n",
      " [  nan   nan  142. ...,  142.   nan   20.]\n",
      " [  nan   nan   nan ...,  109.   nan   51.]\n",
      " ..., \n",
      " [  nan   nan   nan ...,   nan   nan   nan]\n",
      " [  nan   nan   nan ...,   nan   nan   nan]\n",
      " [  nan   nan   nan ...,   nan   nan   nan]]\n",
      "-6952\n"
     ]
    }
   ],
   "source": [
    "# minimum number of matches for pair of heroes to be included in dataset\n",
    "min_matches = 10\n",
    "were_nulls = sum([a.shape[0] - np.count_nonzero(a) for a in matches_played])\n",
    "\n",
    "# if combination of 2 heroes were used less than `min_matches` times,\n",
    "# don't count their winrate (it would be NaN in `winrate` matrix)\n",
    "matches_played[matches_played < min_matches] = np.NaN\n",
    "print(matches_played)\n",
    "become_nulls = sum([a.shape[0] - np.count_nonzero(a) for a in matches_played])\n",
    "\n",
    "print(become_nulls - were_nulls)"
   ]
  },
  {
   "cell_type": "code",
   "execution_count": 8,
   "metadata": {
    "collapsed": false
   },
   "outputs": [
    {
     "name": "stdout",
     "output_type": "stream",
     "text": [
      "nan\n"
     ]
    }
   ],
   "source": [
    "# find maximum amount of matches played by 2 heroes\n",
    "print(max([max(hero) for hero in matches_played]))"
   ]
  },
  {
   "cell_type": "code",
   "execution_count": 9,
   "metadata": {
    "collapsed": false
   },
   "outputs": [
    {
     "data": {
      "text/html": [
       "<div>\n",
       "<style>\n",
       "    .dataframe thead tr:only-child th {\n",
       "        text-align: right;\n",
       "    }\n",
       "\n",
       "    .dataframe thead th {\n",
       "        text-align: left;\n",
       "    }\n",
       "\n",
       "    .dataframe tbody tr th {\n",
       "        vertical-align: top;\n",
       "    }\n",
       "</style>\n",
       "<table border=\"1\" class=\"dataframe\">\n",
       "  <thead>\n",
       "    <tr style=\"text-align: right;\">\n",
       "      <th></th>\n",
       "      <th>2</th>\n",
       "      <th>3</th>\n",
       "      <th>4</th>\n",
       "      <th>5</th>\n",
       "      <th>6</th>\n",
       "      <th>7</th>\n",
       "      <th>8</th>\n",
       "      <th>9</th>\n",
       "      <th>10</th>\n",
       "      <th>11</th>\n",
       "      <th>...</th>\n",
       "      <th>105</th>\n",
       "      <th>106</th>\n",
       "      <th>107</th>\n",
       "      <th>108</th>\n",
       "      <th>109</th>\n",
       "      <th>110</th>\n",
       "      <th>111</th>\n",
       "      <th>112</th>\n",
       "      <th>113</th>\n",
       "      <th>114</th>\n",
       "    </tr>\n",
       "  </thead>\n",
       "  <tbody>\n",
       "    <tr>\n",
       "      <th>1</th>\n",
       "      <td>0.485915</td>\n",
       "      <td>0.514286</td>\n",
       "      <td>NaN</td>\n",
       "      <td>0.506250</td>\n",
       "      <td>NaN</td>\n",
       "      <td>0.526490</td>\n",
       "      <td>0.533333</td>\n",
       "      <td>0.541935</td>\n",
       "      <td>NaN</td>\n",
       "      <td>0.558621</td>\n",
       "      <td>...</td>\n",
       "      <td>NaN</td>\n",
       "      <td>0.450000</td>\n",
       "      <td>0.441176</td>\n",
       "      <td>NaN</td>\n",
       "      <td>NaN</td>\n",
       "      <td>0.465517</td>\n",
       "      <td>0.482353</td>\n",
       "      <td>0.556338</td>\n",
       "      <td>NaN</td>\n",
       "      <td>0.300000</td>\n",
       "    </tr>\n",
       "    <tr>\n",
       "      <th>2</th>\n",
       "      <td>NaN</td>\n",
       "      <td>0.554348</td>\n",
       "      <td>0.292683</td>\n",
       "      <td>0.572254</td>\n",
       "      <td>0.577181</td>\n",
       "      <td>0.425703</td>\n",
       "      <td>0.512448</td>\n",
       "      <td>0.554930</td>\n",
       "      <td>0.567839</td>\n",
       "      <td>0.507979</td>\n",
       "      <td>...</td>\n",
       "      <td>NaN</td>\n",
       "      <td>0.439614</td>\n",
       "      <td>0.485149</td>\n",
       "      <td>NaN</td>\n",
       "      <td>0.537815</td>\n",
       "      <td>0.466216</td>\n",
       "      <td>0.462500</td>\n",
       "      <td>0.440367</td>\n",
       "      <td>NaN</td>\n",
       "      <td>0.490196</td>\n",
       "    </tr>\n",
       "    <tr>\n",
       "      <th>3</th>\n",
       "      <td>NaN</td>\n",
       "      <td>NaN</td>\n",
       "      <td>0.468750</td>\n",
       "      <td>0.556818</td>\n",
       "      <td>0.580357</td>\n",
       "      <td>0.489474</td>\n",
       "      <td>0.492308</td>\n",
       "      <td>0.583113</td>\n",
       "      <td>0.456790</td>\n",
       "      <td>0.557864</td>\n",
       "      <td>...</td>\n",
       "      <td>NaN</td>\n",
       "      <td>0.510638</td>\n",
       "      <td>0.581081</td>\n",
       "      <td>0.500000</td>\n",
       "      <td>0.666667</td>\n",
       "      <td>0.379310</td>\n",
       "      <td>0.375000</td>\n",
       "      <td>0.450980</td>\n",
       "      <td>NaN</td>\n",
       "      <td>NaN</td>\n",
       "    </tr>\n",
       "    <tr>\n",
       "      <th>4</th>\n",
       "      <td>NaN</td>\n",
       "      <td>NaN</td>\n",
       "      <td>NaN</td>\n",
       "      <td>0.489362</td>\n",
       "      <td>NaN</td>\n",
       "      <td>0.503497</td>\n",
       "      <td>0.517241</td>\n",
       "      <td>0.430769</td>\n",
       "      <td>0.363636</td>\n",
       "      <td>0.474576</td>\n",
       "      <td>...</td>\n",
       "      <td>0.307692</td>\n",
       "      <td>0.642857</td>\n",
       "      <td>0.600000</td>\n",
       "      <td>NaN</td>\n",
       "      <td>NaN</td>\n",
       "      <td>0.483871</td>\n",
       "      <td>0.562500</td>\n",
       "      <td>0.472973</td>\n",
       "      <td>NaN</td>\n",
       "      <td>NaN</td>\n",
       "    </tr>\n",
       "    <tr>\n",
       "      <th>5</th>\n",
       "      <td>NaN</td>\n",
       "      <td>NaN</td>\n",
       "      <td>NaN</td>\n",
       "      <td>NaN</td>\n",
       "      <td>0.519231</td>\n",
       "      <td>0.469925</td>\n",
       "      <td>0.571429</td>\n",
       "      <td>0.490463</td>\n",
       "      <td>0.488636</td>\n",
       "      <td>0.582822</td>\n",
       "      <td>...</td>\n",
       "      <td>NaN</td>\n",
       "      <td>0.557047</td>\n",
       "      <td>0.596708</td>\n",
       "      <td>0.580645</td>\n",
       "      <td>0.657658</td>\n",
       "      <td>0.531915</td>\n",
       "      <td>0.500000</td>\n",
       "      <td>0.454545</td>\n",
       "      <td>NaN</td>\n",
       "      <td>0.539683</td>\n",
       "    </tr>\n",
       "  </tbody>\n",
       "</table>\n",
       "<p>5 rows × 112 columns</p>\n",
       "</div>"
      ],
      "text/plain": [
       "        2         3         4         5         6         7         8    \\\n",
       "1  0.485915  0.514286       NaN  0.506250       NaN  0.526490  0.533333   \n",
       "2       NaN  0.554348  0.292683  0.572254  0.577181  0.425703  0.512448   \n",
       "3       NaN       NaN  0.468750  0.556818  0.580357  0.489474  0.492308   \n",
       "4       NaN       NaN       NaN  0.489362       NaN  0.503497  0.517241   \n",
       "5       NaN       NaN       NaN       NaN  0.519231  0.469925  0.571429   \n",
       "\n",
       "        9         10        11     ...          105       106       107  \\\n",
       "1  0.541935       NaN  0.558621    ...          NaN  0.450000  0.441176   \n",
       "2  0.554930  0.567839  0.507979    ...          NaN  0.439614  0.485149   \n",
       "3  0.583113  0.456790  0.557864    ...          NaN  0.510638  0.581081   \n",
       "4  0.430769  0.363636  0.474576    ...     0.307692  0.642857  0.600000   \n",
       "5  0.490463  0.488636  0.582822    ...          NaN  0.557047  0.596708   \n",
       "\n",
       "        108       109       110       111       112  113       114  \n",
       "1       NaN       NaN  0.465517  0.482353  0.556338  NaN  0.300000  \n",
       "2       NaN  0.537815  0.466216  0.462500  0.440367  NaN  0.490196  \n",
       "3  0.500000  0.666667  0.379310  0.375000  0.450980  NaN       NaN  \n",
       "4       NaN       NaN  0.483871  0.562500  0.472973  NaN       NaN  \n",
       "5  0.580645  0.657658  0.531915  0.500000  0.454545  NaN  0.539683  \n",
       "\n",
       "[5 rows x 112 columns]"
      ]
     },
     "execution_count": 9,
     "metadata": {},
     "output_type": "execute_result"
    }
   ],
   "source": [
    "winrate_ = matches_won / matches_played\n",
    "winrate = pd.DataFrame(winrate_)\n",
    "winrate.dropna(axis=0, how='all', inplace=True)\n",
    "winrate.dropna(axis=1, how='all', inplace=True)\n",
    "winrate.head()"
   ]
  },
  {
   "cell_type": "code",
   "execution_count": 22,
   "metadata": {
    "collapsed": false,
    "scrolled": true
   },
   "outputs": [
    {
     "name": "stdout",
     "output_type": "stream",
     "text": [
      "Percent of pairs with not enough matches to count them: 0.0346955796497\n"
     ]
    }
   ],
   "source": [
    "n = winrate.shape[0]\n",
    "# how many heroes pairs don't have enough matches to have\n",
    "# meaningful winrate\n",
    "n_bad_pairs = n**2 - winrate.count().sum() - (n**2 - n)/2\n",
    "n_pairs = (n**2 - n)/2\n",
    "print('Percent of pairs with not enough matches to count them:', \n",
    "      n_bad_pairs / n_pairs)"
   ]
  },
  {
   "cell_type": "code",
   "execution_count": 40,
   "metadata": {
    "collapsed": false
   },
   "outputs": [
    {
     "name": "stdout",
     "output_type": "stream",
     "text": [
      "66\n",
      "269.0 0.620817843866\n"
     ]
    }
   ],
   "source": [
    "print(winrate.loc[26,:].argmax())\n",
    "print(matches_played[26][66], winrate_[26][66])"
   ]
  },
  {
   "cell_type": "code",
   "execution_count": null,
   "metadata": {
    "collapsed": true
   },
   "outputs": [],
   "source": []
  }
 ],
 "metadata": {
  "kernelspec": {
   "display_name": "Python 3",
   "language": "python",
   "name": "python3"
  },
  "language_info": {
   "codemirror_mode": {
    "name": "ipython",
    "version": 3
   },
   "file_extension": ".py",
   "mimetype": "text/x-python",
   "name": "python",
   "nbconvert_exporter": "python",
   "pygments_lexer": "ipython3",
   "version": "3.5.0"
  }
 },
 "nbformat": 4,
 "nbformat_minor": 0
}
