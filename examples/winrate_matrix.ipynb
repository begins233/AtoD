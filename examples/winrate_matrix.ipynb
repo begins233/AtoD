{
 "cells": [
  {
   "cell_type": "code",
   "execution_count": 1,
   "metadata": {
    "collapsed": true
   },
   "outputs": [],
   "source": [
    "import json\n",
    "import numpy as np\n",
    "import pandas as pd\n",
    "from itertools import combinations"
   ]
  },
  {
   "cell_type": "code",
   "execution_count": 2,
   "metadata": {
    "collapsed": true
   },
   "outputs": [],
   "source": [
    "n_heroes = 115"
   ]
  },
  {
   "cell_type": "code",
   "execution_count": 3,
   "metadata": {
    "collapsed": false
   },
   "outputs": [],
   "source": [
    "with open('data/players_in_matches.json', 'r') as fp:\n",
    "    players_in_matches = json.load(fp)"
   ]
  },
  {
   "cell_type": "code",
   "execution_count": 4,
   "metadata": {
    "collapsed": false
   },
   "outputs": [
    {
     "data": {
      "text/plain": [
       "' Print some info about dataset:\\n    * first match date\\n    * last match date\\n    * number of matches\\n'"
      ]
     },
     "execution_count": 4,
     "metadata": {},
     "output_type": "execute_result"
    }
   ],
   "source": [
    "''' Print some info about dataset:\n",
    "    * first match date\n",
    "    * last match date\n",
    "    * number of matches\n",
    "'''"
   ]
  },
  {
   "cell_type": "code",
   "execution_count": 5,
   "metadata": {
    "collapsed": false
   },
   "outputs": [],
   "source": [
    "matches = dict()\n",
    "\n",
    "for record in players_in_matches:\n",
    "    # create match in matches dictionary with arrays for\n",
    "    # winners and losers ids\n",
    "    matches.setdefault(str(record['match_id']), \n",
    "                       {\n",
    "                        'winners': [],\n",
    "                        'loosers': [],\n",
    "                       }\n",
    "                      )\n",
    "    if record['win']:\n",
    "        # add hero to winners of this match\n",
    "        matches[str(record['match_id'])]['winners'].append(record['hero_id'])\n",
    "    else:\n",
    "        # add hero to losers\n",
    "        matches[str(record['match_id'])]['loosers'].append(record['hero_id'])\n",
    "\n",
    "# length of matches should be 10 times smaller than length of players...\n",
    "# since there are 10 players in each match\n",
    "assert len(matches), len(players_in_matches) / 10"
   ]
  },
  {
   "cell_type": "code",
   "execution_count": 6,
   "metadata": {
    "collapsed": false
   },
   "outputs": [],
   "source": [
    "# crete and fill \n",
    "matches_played = np.zeros((n_heroes, n_heroes))\n",
    "matches_won = np.zeros((n_heroes, n_heroes))\n",
    "\n",
    "for match in matches.values():\n",
    "    # for winners\n",
    "    # sorting is needed to have upper traingular matrix\n",
    "    # combinations produces all heroes pairs with smaller id first\n",
    "    for hero1, hero2 in combinations(sorted(match['winners']), 2):\n",
    "        matches_played[hero1][hero2] += 1\n",
    "        matches_won[hero1][hero2] += 1\n",
    "        \n",
    "    for hero1, hero2 in combinations(sorted(match['loosers']), 2):\n",
    "        matches_played[hero1][hero2] += 1"
   ]
  },
  {
   "cell_type": "code",
   "execution_count": 7,
   "metadata": {
    "collapsed": false
   },
   "outputs": [
    {
     "name": "stdout",
     "output_type": "stream",
     "text": [
      "[[  nan   nan   nan ...,   nan   nan   nan]\n",
      " [  nan   nan  142. ...,  142.   nan   20.]\n",
      " [  nan   nan   nan ...,  109.   nan   51.]\n",
      " ..., \n",
      " [  nan   nan   nan ...,   nan   nan   nan]\n",
      " [  nan   nan   nan ...,   nan   nan   nan]\n",
      " [  nan   nan   nan ...,   nan   nan   nan]]\n",
      "-6952\n"
     ]
    }
   ],
   "source": [
    "# minimum number of matches for pair of heroes to be included in dataset\n",
    "min_matches_played = 10\n",
    "max_matches_played = max([max(a) for a in matches_played])\n",
    "were_nulls = sum([a.shape[0] - np.count_nonzero(a) for a in matches_played])\n",
    "\n",
    "# if combination of 2 heroes were used less than `min_matches` times,\n",
    "# don't count their winrate (it would be NaN in `winrate` matrix)\n",
    "matches_played[matches_played < min_matches_played] = np.NaN\n",
    "print(matches_played)\n",
    "become_nulls = sum([a.shape[0] - np.count_nonzero(a) for a in matches_played])\n",
    "\n",
    "print(become_nulls - were_nulls)"
   ]
  },
  {
   "cell_type": "code",
   "execution_count": 8,
   "metadata": {
    "collapsed": false
   },
   "outputs": [
    {
     "name": "stderr",
     "output_type": "stream",
     "text": [
      "/Library/Frameworks/Python.framework/Versions/3.5/lib/python3.5/site-packages/ipykernel/__main__.py:3: RuntimeWarning: All-NaN slice encountered\n",
      "  app.launch_new_instance()\n"
     ]
    }
   ],
   "source": [
    "# find maximum amount of matches played by 2 heroes\n",
    "max_matches_played = np.nanmax([np.nanmax(hero) \n",
    "                                for hero in matches_played])\n",
    "\n",
    "# some combinations were played more than another, so\n",
    "# there is more confidence in picking this kind of heroes (tiny-wi)"
   ]
  },
  {
   "cell_type": "code",
   "execution_count": 9,
   "metadata": {
    "collapsed": false
   },
   "outputs": [
    {
     "ename": "ValueError",
     "evalue": "operands could not be broadcast together with shapes (115,115) (110,112) ",
     "output_type": "error",
     "traceback": [
      "\u001b[0;31m---------------------------------------------------------------------------\u001b[0m",
      "\u001b[0;31mValueError\u001b[0m                                Traceback (most recent call last)",
      "\u001b[0;32m<ipython-input-9-9ef930cf2edb>\u001b[0m in \u001b[0;36m<module>\u001b[0;34m()\u001b[0m\n\u001b[1;32m      3\u001b[0m \u001b[0mwinrate\u001b[0m\u001b[0;34m.\u001b[0m\u001b[0mdropna\u001b[0m\u001b[0;34m(\u001b[0m\u001b[0maxis\u001b[0m\u001b[0;34m=\u001b[0m\u001b[0;36m0\u001b[0m\u001b[0;34m,\u001b[0m \u001b[0mhow\u001b[0m\u001b[0;34m=\u001b[0m\u001b[0;34m'all'\u001b[0m\u001b[0;34m,\u001b[0m \u001b[0minplace\u001b[0m\u001b[0;34m=\u001b[0m\u001b[0;32mTrue\u001b[0m\u001b[0;34m)\u001b[0m\u001b[0;34m\u001b[0m\u001b[0m\n\u001b[1;32m      4\u001b[0m \u001b[0mwinrate\u001b[0m\u001b[0;34m.\u001b[0m\u001b[0mdropna\u001b[0m\u001b[0;34m(\u001b[0m\u001b[0maxis\u001b[0m\u001b[0;34m=\u001b[0m\u001b[0;36m1\u001b[0m\u001b[0;34m,\u001b[0m \u001b[0mhow\u001b[0m\u001b[0;34m=\u001b[0m\u001b[0;34m'all'\u001b[0m\u001b[0;34m,\u001b[0m \u001b[0minplace\u001b[0m\u001b[0;34m=\u001b[0m\u001b[0;32mTrue\u001b[0m\u001b[0;34m)\u001b[0m\u001b[0;34m\u001b[0m\u001b[0m\n\u001b[0;32m----> 5\u001b[0;31m \u001b[0mwinrate\u001b[0m \u001b[0;34m=\u001b[0m \u001b[0mnp\u001b[0m\u001b[0;34m.\u001b[0m\u001b[0mmultiply\u001b[0m\u001b[0;34m(\u001b[0m\u001b[0mmatches_played\u001b[0m \u001b[0;34m/\u001b[0m \u001b[0mmax_matches_played\u001b[0m\u001b[0;34m,\u001b[0m \u001b[0mwinrate\u001b[0m\u001b[0;34m)\u001b[0m\u001b[0;34m\u001b[0m\u001b[0m\n\u001b[0m\u001b[1;32m      6\u001b[0m \u001b[0mwinrate\u001b[0m\u001b[0;34m.\u001b[0m\u001b[0mhead\u001b[0m\u001b[0;34m(\u001b[0m\u001b[0;34m)\u001b[0m\u001b[0;34m\u001b[0m\u001b[0m\n",
      "\u001b[0;31mValueError\u001b[0m: operands could not be broadcast together with shapes (115,115) (110,112) "
     ]
    }
   ],
   "source": [
    "winrate_ = matches_won / matches_played\n",
    "winrate = pd.DataFrame(winrate_)\n",
    "winrate.dropna(axis=0, how='all', inplace=True)\n",
    "winrate.dropna(axis=1, how='all', inplace=True)\n",
    "winrate.head()"
   ]
  },
  {
   "cell_type": "code",
   "execution_count": null,
   "metadata": {
    "collapsed": false,
    "scrolled": true
   },
   "outputs": [],
   "source": [
    "n = winrate.shape[0]\n",
    "# how many heroes pairs don't have enough matches to have\n",
    "# meaningful winrate\n",
    "n_bad_pairs = n**2 - winrate.count().sum() - (n**2 - n)/2\n",
    "n_pairs = (n**2 - n)/2\n",
    "print('Percent of pairs with not enough matches to count them:', \n",
    "      n_bad_pairs / n_pairs)"
   ]
  },
  {
   "cell_type": "markdown",
   "metadata": {
    "collapsed": true
   },
   "source": [
    "## Building a pick\n",
    "Idea: user gives 2 heroes as input, after that algorithms searches for the best next hero till there are 5 of them. The best hero would be choosen by maximazing the weight of edges in heroes graph. Heroes graph -- vertices are rows in winrate matrix and edges are winrates of heroes pairs."
   ]
  },
  {
   "cell_type": "code",
   "execution_count": null,
   "metadata": {
    "collapsed": false
   },
   "outputs": [],
   "source": [
    "opening = (74, 77, 14, 52, 70)\n",
    "\n",
    "best_connection = 0\n",
    "next_pick = 0\n",
    "\n",
    "for hero_id in winrate.index:\n",
    "    # if this hero is not in the opening\n",
    "    if hero_id not in opening:\n",
    "        # check if this hero fits the best\n",
    "        ids = sorted([*opening, hero_id])\n",
    "\n",
    "        # count sum of all created edges\n",
    "        total_connection = sum([winrate.loc[ids[i]][ids[i + 1]] \n",
    "                                for i in range(len(opening) - 1)])\n",
    "        \n",
    "        if total_connection > best_connection:\n",
    "            next_pick = hero_id\n",
    "            best_connection = total_connection\n",
    "\n",
    "# opening.append(next_pick)\n",
    "print(next_pick)"
   ]
  },
  {
   "cell_type": "code",
   "execution_count": null,
   "metadata": {
    "collapsed": true
   },
   "outputs": [],
   "source": []
  }
 ],
 "metadata": {
  "kernelspec": {
   "display_name": "Python 3",
   "language": "python",
   "name": "python3"
  },
  "language_info": {
   "codemirror_mode": {
    "name": "ipython",
    "version": 3
   },
   "file_extension": ".py",
   "mimetype": "text/x-python",
   "name": "python",
   "nbconvert_exporter": "python",
   "pygments_lexer": "ipython3",
   "version": "3.5.0"
  }
 },
 "nbformat": 4,
 "nbformat_minor": 0
}
