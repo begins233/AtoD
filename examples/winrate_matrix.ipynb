{
 "cells": [
  {
   "cell_type": "code",
   "execution_count": 1,
   "metadata": {
    "collapsed": false
   },
   "outputs": [],
   "source": [
    "import json\n",
    "import numpy as np\n",
    "import pandas as pd\n",
    "from itertools import combinations, product\n",
    "\n",
    "from atod import Hero, Heroes"
   ]
  },
  {
   "cell_type": "code",
   "execution_count": 2,
   "metadata": {
    "collapsed": true
   },
   "outputs": [],
   "source": [
    "n_heroes = 115"
   ]
  },
  {
   "cell_type": "code",
   "execution_count": 3,
   "metadata": {
    "collapsed": false
   },
   "outputs": [],
   "source": [
    "with open('data/players_in_matches.json', 'r') as fp:\n",
    "    players_in_matches = json.load(fp)"
   ]
  },
  {
   "cell_type": "code",
   "execution_count": 4,
   "metadata": {
    "collapsed": false
   },
   "outputs": [],
   "source": [
    "# TODO:\n",
    "# Print some info about dataset:\n",
    "#  * first match date\n",
    "#  * last match date\n",
    "#  * number of matches"
   ]
  },
  {
   "cell_type": "code",
   "execution_count": 5,
   "metadata": {
    "collapsed": true
   },
   "outputs": [],
   "source": [
    "# TODO:\n",
    "# def how_many_nans(X: pd.DataFrame) -> int:"
   ]
  },
  {
   "cell_type": "code",
   "execution_count": 6,
   "metadata": {
    "collapsed": false
   },
   "outputs": [],
   "source": [
    "matches = dict()\n",
    "\n",
    "for record in players_in_matches:\n",
    "    # create match in matches dictionary with arrays for\n",
    "    # winners and losers ids\n",
    "    matches.setdefault(str(record['match_id']), \n",
    "                       {\n",
    "                        'winners': [],\n",
    "                        'loosers': [],\n",
    "                       }\n",
    "                      )\n",
    "    if record['win']:\n",
    "        # add hero to winners of this match\n",
    "        matches[str(record['match_id'])]['winners'].append(record['hero_id'])\n",
    "    else:\n",
    "        # add hero to losers\n",
    "        matches[str(record['match_id'])]['loosers'].append(record['hero_id'])\n",
    "\n",
    "# length of matches should be 10 times smaller than length of players...\n",
    "# since there are 10 players in each match\n",
    "assert len(matches), len(players_in_matches) / 10"
   ]
  },
  {
   "cell_type": "code",
   "execution_count": 7,
   "metadata": {
    "collapsed": false
   },
   "outputs": [],
   "source": [
    "# crete and fill \n",
    "# TODO: rename matrices\n",
    "matches_together = np.zeros((n_heroes, n_heroes))\n",
    "matches_won = np.zeros((n_heroes, n_heroes))\n",
    "matches_lost = np.zeros((n_heroes, n_heroes))\n",
    "matches_against = np.zeros((n_heroes, n_heroes))\n",
    "\n",
    "for match in matches.values():\n",
    "    # for winners\n",
    "    # sorting is needed to have upper traingular matrix\n",
    "    # combinations produces all heroes pairs with smaller id first\n",
    "    for hero1, hero2 in combinations(sorted(match['winners']), 2):\n",
    "        matches_together[hero1][hero2] += 1\n",
    "        matches_won[hero1][hero2] += 1\n",
    "        \n",
    "    for hero1, hero2 in combinations(sorted(match['loosers']), 2):\n",
    "        matches_together[hero1][hero2] += 1\n",
    "        \n",
    "    for looser, winner in product(match['loosers'], match['winners']):\n",
    "        matches_against[looser][winner] += 1\n",
    "        matches_against[winner][looser] += 1\n",
    "        matches_lost[looser][winner] += 1"
   ]
  },
  {
   "cell_type": "code",
   "execution_count": 8,
   "metadata": {
    "collapsed": false
   },
   "outputs": [
    {
     "name": "stdout",
     "output_type": "stream",
     "text": [
      "-6952\n"
     ]
    }
   ],
   "source": [
    "# minimum number of matches for pair of heroes to be included in dataset\n",
    "min_matches_played = 10\n",
    "max_matches_together = max([max(a) for a in matches_together])\n",
    "were_nulls = sum([a.shape[0] - np.count_nonzero(a) for a in matches_together])\n",
    "\n",
    "# if combination of 2 heroes were used less than `min_matches` times,\n",
    "# don't count their win(lose)rate (it would be NaN in result matrix)\n",
    "matches_together[matches_together < min_matches_played] = np.NaN\n",
    "matches_against[matches_against < min_matches_played] = np.NaN\n",
    "\n",
    "become_nulls = sum([a.shape[0] - np.count_nonzero(a) for a in matches_together])\n",
    "\n",
    "print(become_nulls - were_nulls)"
   ]
  },
  {
   "cell_type": "code",
   "execution_count": 9,
   "metadata": {
    "collapsed": false
   },
   "outputs": [
    {
     "name": "stderr",
     "output_type": "stream",
     "text": [
      "/Library/Frameworks/Python.framework/Versions/3.5/lib/python3.5/site-packages/ipykernel/__main__.py:3: RuntimeWarning: All-NaN slice encountered\n",
      "  app.launch_new_instance()\n"
     ]
    }
   ],
   "source": [
    "# find maximum amount of matches played by 2 heroes\n",
    "max_matches_played = np.nanmax([np.nanmax(hero) \n",
    "                                for hero in matches_together])\n",
    "\n",
    "# some combinations were played more than another, so\n",
    "# there is more confidence in picking this kind of heroes (tiny-wi)"
   ]
  },
  {
   "cell_type": "code",
   "execution_count": 10,
   "metadata": {
    "collapsed": false
   },
   "outputs": [
    {
     "data": {
      "text/html": [
       "<div>\n",
       "<table border=\"1\" class=\"dataframe\">\n",
       "  <thead>\n",
       "    <tr style=\"text-align: right;\">\n",
       "      <th></th>\n",
       "      <th>2</th>\n",
       "      <th>3</th>\n",
       "      <th>4</th>\n",
       "      <th>5</th>\n",
       "      <th>6</th>\n",
       "      <th>7</th>\n",
       "      <th>8</th>\n",
       "      <th>9</th>\n",
       "      <th>10</th>\n",
       "      <th>11</th>\n",
       "      <th>...</th>\n",
       "      <th>105</th>\n",
       "      <th>106</th>\n",
       "      <th>107</th>\n",
       "      <th>108</th>\n",
       "      <th>109</th>\n",
       "      <th>110</th>\n",
       "      <th>111</th>\n",
       "      <th>112</th>\n",
       "      <th>113</th>\n",
       "      <th>114</th>\n",
       "    </tr>\n",
       "  </thead>\n",
       "  <tbody>\n",
       "    <tr>\n",
       "      <th>1</th>\n",
       "      <td>0.532759</td>\n",
       "      <td>0.563166</td>\n",
       "      <td>NaN</td>\n",
       "      <td>0.561240</td>\n",
       "      <td>NaN</td>\n",
       "      <td>0.634433</td>\n",
       "      <td>0.549627</td>\n",
       "      <td>0.598962</td>\n",
       "      <td>NaN</td>\n",
       "      <td>0.613611</td>\n",
       "      <td>...</td>\n",
       "      <td>NaN</td>\n",
       "      <td>0.474440</td>\n",
       "      <td>0.471726</td>\n",
       "      <td>NaN</td>\n",
       "      <td>NaN</td>\n",
       "      <td>0.483847</td>\n",
       "      <td>0.510187</td>\n",
       "      <td>0.609970</td>\n",
       "      <td>NaN</td>\n",
       "      <td>0.304073</td>\n",
       "    </tr>\n",
       "    <tr>\n",
       "      <th>2</th>\n",
       "      <td>NaN</td>\n",
       "      <td>0.588971</td>\n",
       "      <td>0.300830</td>\n",
       "      <td>0.639464</td>\n",
       "      <td>0.635565</td>\n",
       "      <td>0.497665</td>\n",
       "      <td>0.680133</td>\n",
       "      <td>0.688670</td>\n",
       "      <td>0.644553</td>\n",
       "      <td>0.637646</td>\n",
       "      <td>...</td>\n",
       "      <td>NaN</td>\n",
       "      <td>0.501392</td>\n",
       "      <td>0.551679</td>\n",
       "      <td>NaN</td>\n",
       "      <td>0.581264</td>\n",
       "      <td>0.513059</td>\n",
       "      <td>0.512738</td>\n",
       "      <td>0.472954</td>\n",
       "      <td>NaN</td>\n",
       "      <td>0.507168</td>\n",
       "    </tr>\n",
       "    <tr>\n",
       "      <th>3</th>\n",
       "      <td>NaN</td>\n",
       "      <td>NaN</td>\n",
       "      <td>0.478933</td>\n",
       "      <td>0.590084</td>\n",
       "      <td>0.624485</td>\n",
       "      <td>0.552610</td>\n",
       "      <td>0.579205</td>\n",
       "      <td>0.883181</td>\n",
       "      <td>0.481909</td>\n",
       "      <td>0.685494</td>\n",
       "      <td>...</td>\n",
       "      <td>NaN</td>\n",
       "      <td>0.608398</td>\n",
       "      <td>0.610273</td>\n",
       "      <td>0.503394</td>\n",
       "      <td>0.682960</td>\n",
       "      <td>0.394246</td>\n",
       "      <td>0.385183</td>\n",
       "      <td>0.482209</td>\n",
       "      <td>NaN</td>\n",
       "      <td>NaN</td>\n",
       "    </tr>\n",
       "    <tr>\n",
       "      <th>4</th>\n",
       "      <td>NaN</td>\n",
       "      <td>NaN</td>\n",
       "      <td>NaN</td>\n",
       "      <td>0.504976</td>\n",
       "      <td>NaN</td>\n",
       "      <td>0.552376</td>\n",
       "      <td>0.527425</td>\n",
       "      <td>0.449778</td>\n",
       "      <td>0.366352</td>\n",
       "      <td>0.493585</td>\n",
       "      <td>...</td>\n",
       "      <td>0.310408</td>\n",
       "      <td>0.655077</td>\n",
       "      <td>0.606110</td>\n",
       "      <td>NaN</td>\n",
       "      <td>NaN</td>\n",
       "      <td>0.494054</td>\n",
       "      <td>0.568610</td>\n",
       "      <td>0.496734</td>\n",
       "      <td>NaN</td>\n",
       "      <td>NaN</td>\n",
       "    </tr>\n",
       "    <tr>\n",
       "      <th>5</th>\n",
       "      <td>NaN</td>\n",
       "      <td>NaN</td>\n",
       "      <td>NaN</td>\n",
       "      <td>NaN</td>\n",
       "      <td>0.537561</td>\n",
       "      <td>0.554786</td>\n",
       "      <td>0.766948</td>\n",
       "      <td>0.612663</td>\n",
       "      <td>0.547021</td>\n",
       "      <td>0.711811</td>\n",
       "      <td>...</td>\n",
       "      <td>NaN</td>\n",
       "      <td>0.669742</td>\n",
       "      <td>0.695146</td>\n",
       "      <td>0.592865</td>\n",
       "      <td>0.707216</td>\n",
       "      <td>0.548887</td>\n",
       "      <td>0.504073</td>\n",
       "      <td>0.464729</td>\n",
       "      <td>NaN</td>\n",
       "      <td>0.585847</td>\n",
       "    </tr>\n",
       "  </tbody>\n",
       "</table>\n",
       "<p>5 rows × 112 columns</p>\n",
       "</div>"
      ],
      "text/plain": [
       "        2         3         4         5         6         7         8    \\\n",
       "1  0.532759  0.563166       NaN  0.561240       NaN  0.634433  0.549627   \n",
       "2       NaN  0.588971  0.300830  0.639464  0.635565  0.497665  0.680133   \n",
       "3       NaN       NaN  0.478933  0.590084  0.624485  0.552610  0.579205   \n",
       "4       NaN       NaN       NaN  0.504976       NaN  0.552376  0.527425   \n",
       "5       NaN       NaN       NaN       NaN  0.537561  0.554786  0.766948   \n",
       "\n",
       "        9         10        11     ...          105       106       107  \\\n",
       "1  0.598962       NaN  0.613611    ...          NaN  0.474440  0.471726   \n",
       "2  0.688670  0.644553  0.637646    ...          NaN  0.501392  0.551679   \n",
       "3  0.883181  0.481909  0.685494    ...          NaN  0.608398  0.610273   \n",
       "4  0.449778  0.366352  0.493585    ...     0.310408  0.655077  0.606110   \n",
       "5  0.612663  0.547021  0.711811    ...          NaN  0.669742  0.695146   \n",
       "\n",
       "        108       109       110       111       112  113       114  \n",
       "1       NaN       NaN  0.483847  0.510187  0.609970  NaN  0.304073  \n",
       "2       NaN  0.581264  0.513059  0.512738  0.472954  NaN  0.507168  \n",
       "3  0.503394  0.682960  0.394246  0.385183  0.482209  NaN       NaN  \n",
       "4       NaN       NaN  0.494054  0.568610  0.496734  NaN       NaN  \n",
       "5  0.592865  0.707216  0.548887  0.504073  0.464729  NaN  0.585847  \n",
       "\n",
       "[5 rows x 112 columns]"
      ]
     },
     "execution_count": 10,
     "metadata": {},
     "output_type": "execute_result"
    }
   ],
   "source": [
    "winrate_ = (matches_won / matches_together) * (1 + matches_together / max_matches_played)\n",
    "winrate = pd.DataFrame(winrate_)\n",
    "winrate.dropna(axis=0, how='all', inplace=True)\n",
    "winrate.dropna(axis=1, how='all', inplace=True)\n",
    "winrate.head()"
   ]
  },
  {
   "cell_type": "code",
   "execution_count": 11,
   "metadata": {
    "collapsed": false
   },
   "outputs": [
    {
     "data": {
      "text/html": [
       "<div>\n",
       "<table border=\"1\" class=\"dataframe\">\n",
       "  <thead>\n",
       "    <tr style=\"text-align: right;\">\n",
       "      <th></th>\n",
       "      <th>1</th>\n",
       "      <th>2</th>\n",
       "      <th>3</th>\n",
       "      <th>4</th>\n",
       "      <th>5</th>\n",
       "      <th>6</th>\n",
       "      <th>7</th>\n",
       "      <th>8</th>\n",
       "      <th>9</th>\n",
       "      <th>10</th>\n",
       "      <th>...</th>\n",
       "      <th>105</th>\n",
       "      <th>106</th>\n",
       "      <th>107</th>\n",
       "      <th>108</th>\n",
       "      <th>109</th>\n",
       "      <th>110</th>\n",
       "      <th>111</th>\n",
       "      <th>112</th>\n",
       "      <th>113</th>\n",
       "      <th>114</th>\n",
       "    </tr>\n",
       "  </thead>\n",
       "  <tbody>\n",
       "    <tr>\n",
       "      <th>1</th>\n",
       "      <td>NaN</td>\n",
       "      <td>0.484848</td>\n",
       "      <td>0.553191</td>\n",
       "      <td>0.478873</td>\n",
       "      <td>0.535032</td>\n",
       "      <td>0.611111</td>\n",
       "      <td>0.483607</td>\n",
       "      <td>0.529412</td>\n",
       "      <td>0.500000</td>\n",
       "      <td>0.466667</td>\n",
       "      <td>...</td>\n",
       "      <td>NaN</td>\n",
       "      <td>0.517241</td>\n",
       "      <td>0.551724</td>\n",
       "      <td>NaN</td>\n",
       "      <td>0.525424</td>\n",
       "      <td>0.489583</td>\n",
       "      <td>0.424242</td>\n",
       "      <td>0.486111</td>\n",
       "      <td>NaN</td>\n",
       "      <td>0.400000</td>\n",
       "    </tr>\n",
       "    <tr>\n",
       "      <th>2</th>\n",
       "      <td>0.515152</td>\n",
       "      <td>NaN</td>\n",
       "      <td>0.458333</td>\n",
       "      <td>0.652174</td>\n",
       "      <td>0.541436</td>\n",
       "      <td>0.595588</td>\n",
       "      <td>0.493766</td>\n",
       "      <td>0.511561</td>\n",
       "      <td>0.558442</td>\n",
       "      <td>0.526971</td>\n",
       "      <td>...</td>\n",
       "      <td>0.3</td>\n",
       "      <td>0.521739</td>\n",
       "      <td>0.527660</td>\n",
       "      <td>0.428571</td>\n",
       "      <td>0.543860</td>\n",
       "      <td>0.543689</td>\n",
       "      <td>0.461538</td>\n",
       "      <td>0.552941</td>\n",
       "      <td>NaN</td>\n",
       "      <td>0.372093</td>\n",
       "    </tr>\n",
       "    <tr>\n",
       "      <th>3</th>\n",
       "      <td>0.446809</td>\n",
       "      <td>0.541667</td>\n",
       "      <td>NaN</td>\n",
       "      <td>0.380000</td>\n",
       "      <td>0.451220</td>\n",
       "      <td>0.471429</td>\n",
       "      <td>0.457680</td>\n",
       "      <td>0.517123</td>\n",
       "      <td>0.573770</td>\n",
       "      <td>0.427586</td>\n",
       "      <td>...</td>\n",
       "      <td>NaN</td>\n",
       "      <td>0.451613</td>\n",
       "      <td>0.549618</td>\n",
       "      <td>NaN</td>\n",
       "      <td>0.485714</td>\n",
       "      <td>0.442857</td>\n",
       "      <td>0.472222</td>\n",
       "      <td>0.413223</td>\n",
       "      <td>NaN</td>\n",
       "      <td>NaN</td>\n",
       "    </tr>\n",
       "    <tr>\n",
       "      <th>4</th>\n",
       "      <td>0.521127</td>\n",
       "      <td>0.347826</td>\n",
       "      <td>0.620000</td>\n",
       "      <td>NaN</td>\n",
       "      <td>0.560000</td>\n",
       "      <td>0.511628</td>\n",
       "      <td>0.503145</td>\n",
       "      <td>0.486486</td>\n",
       "      <td>0.523077</td>\n",
       "      <td>0.708333</td>\n",
       "      <td>...</td>\n",
       "      <td>NaN</td>\n",
       "      <td>0.588235</td>\n",
       "      <td>0.590909</td>\n",
       "      <td>NaN</td>\n",
       "      <td>0.500000</td>\n",
       "      <td>0.578947</td>\n",
       "      <td>0.454545</td>\n",
       "      <td>0.500000</td>\n",
       "      <td>NaN</td>\n",
       "      <td>NaN</td>\n",
       "    </tr>\n",
       "    <tr>\n",
       "      <th>5</th>\n",
       "      <td>0.464968</td>\n",
       "      <td>0.458564</td>\n",
       "      <td>0.548780</td>\n",
       "      <td>0.440000</td>\n",
       "      <td>NaN</td>\n",
       "      <td>0.474747</td>\n",
       "      <td>0.457875</td>\n",
       "      <td>0.495146</td>\n",
       "      <td>0.511962</td>\n",
       "      <td>0.446667</td>\n",
       "      <td>...</td>\n",
       "      <td>NaN</td>\n",
       "      <td>0.416667</td>\n",
       "      <td>0.435294</td>\n",
       "      <td>0.303030</td>\n",
       "      <td>0.461538</td>\n",
       "      <td>0.289157</td>\n",
       "      <td>0.462500</td>\n",
       "      <td>0.470588</td>\n",
       "      <td>NaN</td>\n",
       "      <td>0.414634</td>\n",
       "    </tr>\n",
       "  </tbody>\n",
       "</table>\n",
       "<p>5 rows × 113 columns</p>\n",
       "</div>"
      ],
      "text/plain": [
       "        1         2         3         4         5         6         7    \\\n",
       "1       NaN  0.484848  0.553191  0.478873  0.535032  0.611111  0.483607   \n",
       "2  0.515152       NaN  0.458333  0.652174  0.541436  0.595588  0.493766   \n",
       "3  0.446809  0.541667       NaN  0.380000  0.451220  0.471429  0.457680   \n",
       "4  0.521127  0.347826  0.620000       NaN  0.560000  0.511628  0.503145   \n",
       "5  0.464968  0.458564  0.548780  0.440000       NaN  0.474747  0.457875   \n",
       "\n",
       "        8         9         10     ...     105       106       107       108  \\\n",
       "1  0.529412  0.500000  0.466667    ...     NaN  0.517241  0.551724       NaN   \n",
       "2  0.511561  0.558442  0.526971    ...     0.3  0.521739  0.527660  0.428571   \n",
       "3  0.517123  0.573770  0.427586    ...     NaN  0.451613  0.549618       NaN   \n",
       "4  0.486486  0.523077  0.708333    ...     NaN  0.588235  0.590909       NaN   \n",
       "5  0.495146  0.511962  0.446667    ...     NaN  0.416667  0.435294  0.303030   \n",
       "\n",
       "        109       110       111       112  113       114  \n",
       "1  0.525424  0.489583  0.424242  0.486111  NaN  0.400000  \n",
       "2  0.543860  0.543689  0.461538  0.552941  NaN  0.372093  \n",
       "3  0.485714  0.442857  0.472222  0.413223  NaN       NaN  \n",
       "4  0.500000  0.578947  0.454545  0.500000  NaN       NaN  \n",
       "5  0.461538  0.289157  0.462500  0.470588  NaN  0.414634  \n",
       "\n",
       "[5 rows x 113 columns]"
      ]
     },
     "execution_count": 11,
     "metadata": {},
     "output_type": "execute_result"
    }
   ],
   "source": [
    "lose_rate_ = matches_lost / matches_against\n",
    "lose_rate = pd.DataFrame(lose_rate_)\n",
    "lose_rate.dropna(axis=0, how='all', inplace=True)\n",
    "lose_rate.dropna(axis=1, how='all', inplace=True)\n",
    "lose_rate.head()"
   ]
  },
  {
   "cell_type": "code",
   "execution_count": 12,
   "metadata": {
    "collapsed": false,
    "scrolled": true
   },
   "outputs": [
    {
     "name": "stdout",
     "output_type": "stream",
     "text": [
      "Percent of pairs with not enough matches to count them: 0.0346955796497\n"
     ]
    }
   ],
   "source": [
    "n = winrate.shape[0]\n",
    "# how many heroes pairs don't have enough matches to have\n",
    "# meaningful winrate\n",
    "n_bad_pairs = n**2 - winrate.count().sum() - (n**2 - n)/2\n",
    "n_pairs = (n**2 - n)/2\n",
    "print('Percent of pairs with not enough matches to count them:', \n",
    "      n_bad_pairs / n_pairs)"
   ]
  },
  {
   "cell_type": "markdown",
   "metadata": {
    "collapsed": true
   },
   "source": [
    "## Building a pick\n",
    "Idea: user gives 2 heroes as input, after that algorithms searches for the best next hero till there are 5 of them. The best hero would be choosen by maximazing the weight of edges in heroes graph. Heroes graph -- vertices are rows in winrate matrix and edges are winrates of heroes pairs."
   ]
  },
  {
   "cell_type": "code",
   "execution_count": 23,
   "metadata": {
    "collapsed": false
   },
   "outputs": [],
   "source": [
    "def get_next_hero(pick, against=[], ban=[]):\n",
    "    best_connection = -100\n",
    "    next_pick = 0\n",
    "\n",
    "    for next_hero_id in winrate.index:\n",
    "        # if this hero is not in the opening\n",
    "        if next_hero_id not in pick and next_hero_id not in ban \\\n",
    "                and next_hero_id not in against:\n",
    "                \n",
    "            total_connection = 0\n",
    "            for picked_hero in pick:\n",
    "                hero1, hero2 = sorted([next_hero_id, picked_hero])\n",
    "                total_connection += winrate.loc[hero1][hero2]\n",
    "                \n",
    "            for enemy in against:\n",
    "                total_connection -= lose_rate.loc[next_hero_id][enemy]\n",
    "\n",
    "            if total_connection > best_connection:\n",
    "                best_hero = next_hero_id\n",
    "                best_connection = total_connection\n",
    "\n",
    "    return best_hero.item()"
   ]
  },
  {
   "cell_type": "code",
   "execution_count": 24,
   "metadata": {
    "collapsed": false
   },
   "outputs": [
    {
     "name": "stdout",
     "output_type": "stream",
     "text": [
      "['Keeper of the Light', 'Huskar', 'Lifestealer', 'Rubick', 'Slardar']\n"
     ]
    }
   ],
   "source": [
    "pick = Heroes()\n",
    "pick.add(Hero.from_name('Keeper of the Light'))\n",
    "\n",
    "ban = Heroes()\n",
    "ban.add(Hero.from_name('Shadow Fiend'))\n",
    "ban.add(Hero.from_name('Meepo'))\n",
    "\n",
    "against = Heroes()\n",
    "against.add(Hero.from_name('Batrider'))\n",
    "against.add(Hero.from_name('Witch Doctor'))\n",
    "\n",
    "while len(pick) < 5:\n",
    "    next_hero = get_next_hero(list(pick.get_ids()),\n",
    "                              ban=list(ban.get_ids()),\n",
    "                              against=list(against.get_ids()))\n",
    "    pick.add(Hero(next_hero))\n",
    "    \n",
    "print(pick.get_names())"
   ]
  },
  {
   "cell_type": "code",
   "execution_count": null,
   "metadata": {
    "collapsed": false
   },
   "outputs": [],
   "source": [
    "h1 = Hero(4)\n",
    "h2 = Hero(108)\n",
    "print(h1.name, h2.name)"
   ]
  },
  {
   "cell_type": "code",
   "execution_count": null,
   "metadata": {
    "collapsed": true
   },
   "outputs": [],
   "source": []
  }
 ],
 "metadata": {
  "kernelspec": {
   "display_name": "Python 3",
   "language": "python",
   "name": "python3"
  },
  "language_info": {
   "codemirror_mode": {
    "name": "ipython",
    "version": 3
   },
   "file_extension": ".py",
   "mimetype": "text/x-python",
   "name": "python",
   "nbconvert_exporter": "python",
   "pygments_lexer": "ipython3",
   "version": "3.5.0"
  }
 },
 "nbformat": 4,
 "nbformat_minor": 0
}
