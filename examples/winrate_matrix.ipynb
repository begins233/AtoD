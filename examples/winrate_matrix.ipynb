{
 "cells": [
  {
   "cell_type": "code",
   "execution_count": 1,
   "metadata": {
    "collapsed": true
   },
   "outputs": [],
   "source": [
    "import json\n",
    "import numpy as np\n",
    "import pandas as pd\n",
    "from itertools import combinations\n",
    "\n",
    "from atod import Hero, Heroes"
   ]
  },
  {
   "cell_type": "code",
   "execution_count": 2,
   "metadata": {
    "collapsed": true
   },
   "outputs": [],
   "source": [
    "n_heroes = 115"
   ]
  },
  {
   "cell_type": "code",
   "execution_count": 3,
   "metadata": {
    "collapsed": false
   },
   "outputs": [],
   "source": [
    "with open('data/players_in_matches.json', 'r') as fp:\n",
    "    players_in_matches = json.load(fp)"
   ]
  },
  {
   "cell_type": "code",
   "execution_count": 4,
   "metadata": {
    "collapsed": false
   },
   "outputs": [
    {
     "data": {
      "text/plain": [
       "' Print some info about dataset:\\n    * first match date\\n    * last match date\\n    * number of matches\\n'"
      ]
     },
     "execution_count": 4,
     "metadata": {},
     "output_type": "execute_result"
    }
   ],
   "source": [
    "''' Print some info about dataset:\n",
    "    * first match date\n",
    "    * last match date\n",
    "    * number of matches\n",
    "'''"
   ]
  },
  {
   "cell_type": "code",
   "execution_count": 5,
   "metadata": {
    "collapsed": false
   },
   "outputs": [],
   "source": [
    "matches = dict()\n",
    "\n",
    "for record in players_in_matches:\n",
    "    # create match in matches dictionary with arrays for\n",
    "    # winners and losers ids\n",
    "    matches.setdefault(str(record['match_id']), \n",
    "                       {\n",
    "                        'winners': [],\n",
    "                        'loosers': [],\n",
    "                       }\n",
    "                      )\n",
    "    if record['win']:\n",
    "        # add hero to winners of this match\n",
    "        matches[str(record['match_id'])]['winners'].append(record['hero_id'])\n",
    "    else:\n",
    "        # add hero to losers\n",
    "        matches[str(record['match_id'])]['loosers'].append(record['hero_id'])\n",
    "\n",
    "# length of matches should be 10 times smaller than length of players...\n",
    "# since there are 10 players in each match\n",
    "assert len(matches), len(players_in_matches) / 10"
   ]
  },
  {
   "cell_type": "code",
   "execution_count": 6,
   "metadata": {
    "collapsed": false
   },
   "outputs": [],
   "source": [
    "# crete and fill \n",
    "matches_played = np.zeros((n_heroes, n_heroes))\n",
    "matches_won = np.zeros((n_heroes, n_heroes))\n",
    "\n",
    "for match in matches.values():\n",
    "    # for winners\n",
    "    # sorting is needed to have upper traingular matrix\n",
    "    # combinations produces all heroes pairs with smaller id first\n",
    "    for hero1, hero2 in combinations(sorted(match['winners']), 2):\n",
    "        matches_played[hero1][hero2] += 1\n",
    "        matches_won[hero1][hero2] += 1\n",
    "        \n",
    "    for hero1, hero2 in combinations(sorted(match['loosers']), 2):\n",
    "        matches_played[hero1][hero2] += 1"
   ]
  },
  {
   "cell_type": "code",
   "execution_count": 7,
   "metadata": {
    "collapsed": false
   },
   "outputs": [
    {
     "name": "stdout",
     "output_type": "stream",
     "text": [
      "[[  nan   nan   nan ...,   nan   nan   nan]\n",
      " [  nan   nan  142. ...,  142.   nan   20.]\n",
      " [  nan   nan   nan ...,  109.   nan   51.]\n",
      " ..., \n",
      " [  nan   nan   nan ...,   nan   nan   nan]\n",
      " [  nan   nan   nan ...,   nan   nan   nan]\n",
      " [  nan   nan   nan ...,   nan   nan   nan]]\n",
      "-6952\n"
     ]
    }
   ],
   "source": [
    "# minimum number of matches for pair of heroes to be included in dataset\n",
    "min_matches_played = 10\n",
    "max_matches_played = max([max(a) for a in matches_played])\n",
    "were_nulls = sum([a.shape[0] - np.count_nonzero(a) for a in matches_played])\n",
    "\n",
    "# if combination of 2 heroes were used less than `min_matches` times,\n",
    "# don't count their winrate (it would be NaN in `winrate` matrix)\n",
    "matches_played[matches_played < min_matches_played] = np.NaN\n",
    "print(matches_played)\n",
    "become_nulls = sum([a.shape[0] - np.count_nonzero(a) for a in matches_played])\n",
    "\n",
    "print(become_nulls - were_nulls)"
   ]
  },
  {
   "cell_type": "code",
   "execution_count": 8,
   "metadata": {
    "collapsed": false
   },
   "outputs": [
    {
     "name": "stderr",
     "output_type": "stream",
     "text": [
      "/Library/Frameworks/Python.framework/Versions/3.5/lib/python3.5/site-packages/ipykernel/__main__.py:3: RuntimeWarning: All-NaN slice encountered\n",
      "  app.launch_new_instance()\n"
     ]
    }
   ],
   "source": [
    "# find maximum amount of matches played by 2 heroes\n",
    "max_matches_played = np.nanmax([np.nanmax(hero) \n",
    "                                for hero in matches_played])\n",
    "\n",
    "# some combinations were played more than another, so\n",
    "# there is more confidence in picking this kind of heroes (tiny-wi)"
   ]
  },
  {
   "cell_type": "code",
   "execution_count": 9,
   "metadata": {
    "collapsed": false
   },
   "outputs": [
    {
     "data": {
      "text/html": [
       "<div>\n",
       "<style>\n",
       "    .dataframe thead tr:only-child th {\n",
       "        text-align: right;\n",
       "    }\n",
       "\n",
       "    .dataframe thead th {\n",
       "        text-align: left;\n",
       "    }\n",
       "\n",
       "    .dataframe tbody tr th {\n",
       "        vertical-align: top;\n",
       "    }\n",
       "</style>\n",
       "<table border=\"1\" class=\"dataframe\">\n",
       "  <thead>\n",
       "    <tr style=\"text-align: right;\">\n",
       "      <th></th>\n",
       "      <th>2</th>\n",
       "      <th>3</th>\n",
       "      <th>4</th>\n",
       "      <th>5</th>\n",
       "      <th>6</th>\n",
       "      <th>7</th>\n",
       "      <th>8</th>\n",
       "      <th>9</th>\n",
       "      <th>10</th>\n",
       "      <th>11</th>\n",
       "      <th>...</th>\n",
       "      <th>105</th>\n",
       "      <th>106</th>\n",
       "      <th>107</th>\n",
       "      <th>108</th>\n",
       "      <th>109</th>\n",
       "      <th>110</th>\n",
       "      <th>111</th>\n",
       "      <th>112</th>\n",
       "      <th>113</th>\n",
       "      <th>114</th>\n",
       "    </tr>\n",
       "  </thead>\n",
       "  <tbody>\n",
       "    <tr>\n",
       "      <th>1</th>\n",
       "      <td>0.532759</td>\n",
       "      <td>0.563166</td>\n",
       "      <td>NaN</td>\n",
       "      <td>0.561240</td>\n",
       "      <td>NaN</td>\n",
       "      <td>0.634433</td>\n",
       "      <td>0.549627</td>\n",
       "      <td>0.598962</td>\n",
       "      <td>NaN</td>\n",
       "      <td>0.613611</td>\n",
       "      <td>...</td>\n",
       "      <td>NaN</td>\n",
       "      <td>0.474440</td>\n",
       "      <td>0.471726</td>\n",
       "      <td>NaN</td>\n",
       "      <td>NaN</td>\n",
       "      <td>0.483847</td>\n",
       "      <td>0.510187</td>\n",
       "      <td>0.609970</td>\n",
       "      <td>NaN</td>\n",
       "      <td>0.304073</td>\n",
       "    </tr>\n",
       "    <tr>\n",
       "      <th>2</th>\n",
       "      <td>NaN</td>\n",
       "      <td>0.588971</td>\n",
       "      <td>0.300830</td>\n",
       "      <td>0.639464</td>\n",
       "      <td>0.635565</td>\n",
       "      <td>0.497665</td>\n",
       "      <td>0.680133</td>\n",
       "      <td>0.688670</td>\n",
       "      <td>0.644553</td>\n",
       "      <td>0.637646</td>\n",
       "      <td>...</td>\n",
       "      <td>NaN</td>\n",
       "      <td>0.501392</td>\n",
       "      <td>0.551679</td>\n",
       "      <td>NaN</td>\n",
       "      <td>0.581264</td>\n",
       "      <td>0.513059</td>\n",
       "      <td>0.512738</td>\n",
       "      <td>0.472954</td>\n",
       "      <td>NaN</td>\n",
       "      <td>0.507168</td>\n",
       "    </tr>\n",
       "    <tr>\n",
       "      <th>3</th>\n",
       "      <td>NaN</td>\n",
       "      <td>NaN</td>\n",
       "      <td>0.478933</td>\n",
       "      <td>0.590084</td>\n",
       "      <td>0.624485</td>\n",
       "      <td>0.552610</td>\n",
       "      <td>0.579205</td>\n",
       "      <td>0.883181</td>\n",
       "      <td>0.481909</td>\n",
       "      <td>0.685494</td>\n",
       "      <td>...</td>\n",
       "      <td>NaN</td>\n",
       "      <td>0.608398</td>\n",
       "      <td>0.610273</td>\n",
       "      <td>0.503394</td>\n",
       "      <td>0.682960</td>\n",
       "      <td>0.394246</td>\n",
       "      <td>0.385183</td>\n",
       "      <td>0.482209</td>\n",
       "      <td>NaN</td>\n",
       "      <td>NaN</td>\n",
       "    </tr>\n",
       "    <tr>\n",
       "      <th>4</th>\n",
       "      <td>NaN</td>\n",
       "      <td>NaN</td>\n",
       "      <td>NaN</td>\n",
       "      <td>0.504976</td>\n",
       "      <td>NaN</td>\n",
       "      <td>0.552376</td>\n",
       "      <td>0.527425</td>\n",
       "      <td>0.449778</td>\n",
       "      <td>0.366352</td>\n",
       "      <td>0.493585</td>\n",
       "      <td>...</td>\n",
       "      <td>0.310408</td>\n",
       "      <td>0.655077</td>\n",
       "      <td>0.606110</td>\n",
       "      <td>NaN</td>\n",
       "      <td>NaN</td>\n",
       "      <td>0.494054</td>\n",
       "      <td>0.568610</td>\n",
       "      <td>0.496734</td>\n",
       "      <td>NaN</td>\n",
       "      <td>NaN</td>\n",
       "    </tr>\n",
       "    <tr>\n",
       "      <th>5</th>\n",
       "      <td>NaN</td>\n",
       "      <td>NaN</td>\n",
       "      <td>NaN</td>\n",
       "      <td>NaN</td>\n",
       "      <td>0.537561</td>\n",
       "      <td>0.554786</td>\n",
       "      <td>0.766948</td>\n",
       "      <td>0.612663</td>\n",
       "      <td>0.547021</td>\n",
       "      <td>0.711811</td>\n",
       "      <td>...</td>\n",
       "      <td>NaN</td>\n",
       "      <td>0.669742</td>\n",
       "      <td>0.695146</td>\n",
       "      <td>0.592865</td>\n",
       "      <td>0.707216</td>\n",
       "      <td>0.548887</td>\n",
       "      <td>0.504073</td>\n",
       "      <td>0.464729</td>\n",
       "      <td>NaN</td>\n",
       "      <td>0.585847</td>\n",
       "    </tr>\n",
       "  </tbody>\n",
       "</table>\n",
       "<p>5 rows × 112 columns</p>\n",
       "</div>"
      ],
      "text/plain": [
       "        2         3         4         5         6         7         8    \\\n",
       "1  0.532759  0.563166       NaN  0.561240       NaN  0.634433  0.549627   \n",
       "2       NaN  0.588971  0.300830  0.639464  0.635565  0.497665  0.680133   \n",
       "3       NaN       NaN  0.478933  0.590084  0.624485  0.552610  0.579205   \n",
       "4       NaN       NaN       NaN  0.504976       NaN  0.552376  0.527425   \n",
       "5       NaN       NaN       NaN       NaN  0.537561  0.554786  0.766948   \n",
       "\n",
       "        9         10        11     ...          105       106       107  \\\n",
       "1  0.598962       NaN  0.613611    ...          NaN  0.474440  0.471726   \n",
       "2  0.688670  0.644553  0.637646    ...          NaN  0.501392  0.551679   \n",
       "3  0.883181  0.481909  0.685494    ...          NaN  0.608398  0.610273   \n",
       "4  0.449778  0.366352  0.493585    ...     0.310408  0.655077  0.606110   \n",
       "5  0.612663  0.547021  0.711811    ...          NaN  0.669742  0.695146   \n",
       "\n",
       "        108       109       110       111       112  113       114  \n",
       "1       NaN       NaN  0.483847  0.510187  0.609970  NaN  0.304073  \n",
       "2       NaN  0.581264  0.513059  0.512738  0.472954  NaN  0.507168  \n",
       "3  0.503394  0.682960  0.394246  0.385183  0.482209  NaN       NaN  \n",
       "4       NaN       NaN  0.494054  0.568610  0.496734  NaN       NaN  \n",
       "5  0.592865  0.707216  0.548887  0.504073  0.464729  NaN  0.585847  \n",
       "\n",
       "[5 rows x 112 columns]"
      ]
     },
     "execution_count": 9,
     "metadata": {},
     "output_type": "execute_result"
    }
   ],
   "source": [
    "winrate_ = (matches_won / matches_played) * (1 + matches_played / max_matches_played)\n",
    "winrate = pd.DataFrame(winrate_)\n",
    "winrate.dropna(axis=0, how='all', inplace=True)\n",
    "winrate.dropna(axis=1, how='all', inplace=True)\n",
    "winrate.head()"
   ]
  },
  {
   "cell_type": "code",
   "execution_count": 10,
   "metadata": {
    "collapsed": false,
    "scrolled": true
   },
   "outputs": [
    {
     "name": "stdout",
     "output_type": "stream",
     "text": [
      "Percent of pairs with not enough matches to count them: 0.0346955796497\n"
     ]
    }
   ],
   "source": [
    "n = winrate.shape[0]\n",
    "# how many heroes pairs don't have enough matches to have\n",
    "# meaningful winrate\n",
    "n_bad_pairs = n**2 - winrate.count().sum() - (n**2 - n)/2\n",
    "n_pairs = (n**2 - n)/2\n",
    "print('Percent of pairs with not enough matches to count them:', \n",
    "      n_bad_pairs / n_pairs)"
   ]
  },
  {
   "cell_type": "markdown",
   "metadata": {
    "collapsed": true
   },
   "source": [
    "## Building a pick\n",
    "Idea: user gives 2 heroes as input, after that algorithms searches for the best next hero till there are 5 of them. The best hero would be choosen by maximazing the weight of edges in heroes graph. Heroes graph -- vertices are rows in winrate matrix and edges are winrates of heroes pairs."
   ]
  },
  {
   "cell_type": "code",
   "execution_count": 11,
   "metadata": {
    "collapsed": false
   },
   "outputs": [],
   "source": [
    "def get_next_hero(opening):\n",
    "    best_connection = 0\n",
    "    next_pick = 0\n",
    "\n",
    "    for hero_id in winrate.index:\n",
    "        # if this hero is not in the opening\n",
    "        if hero_id not in opening:\n",
    "            # check if this hero fits the best\n",
    "            ids = sorted([*opening, hero_id])\n",
    "\n",
    "            # count sum of all created edges\n",
    "            total_connection = sum([winrate.loc[hero1][hero2]\n",
    "                                    for hero1, hero2 in combinations(ids, 2)])\n",
    "\n",
    "            if total_connection > best_connection:\n",
    "                next_pick = hero_id\n",
    "                best_connection = total_connection\n",
    "\n",
    "    return next_pick.item()"
   ]
  },
  {
   "cell_type": "code",
   "execution_count": 14,
   "metadata": {
    "collapsed": false
   },
   "outputs": [
    {
     "name": "stdout",
     "output_type": "stream",
     "text": [
      "['Centaur Warrunner', 'Shadow Fiend', 'Rubick', 'Clockwerk', 'Juggernaut']\n"
     ]
    }
   ],
   "source": [
    "pick = Heroes()\n",
    "pick.add(Hero.from_name('Centaur Warrunner'))\n",
    "pick.add(Hero.from_name('Shadow Fiend'))\n",
    "\n",
    "while len(pick) < 5:\n",
    "    next_hero = get_next_hero(pick.get_ids())\n",
    "    pick.add(Hero(next_hero))\n",
    "    \n",
    "print(pick.get_names())"
   ]
  },
  {
   "cell_type": "code",
   "execution_count": null,
   "metadata": {
    "collapsed": true
   },
   "outputs": [],
   "source": []
  }
 ],
 "metadata": {
  "kernelspec": {
   "display_name": "Python 3",
   "language": "python",
   "name": "python3"
  },
  "language_info": {
   "codemirror_mode": {
    "name": "ipython",
    "version": 3
   },
   "file_extension": ".py",
   "mimetype": "text/x-python",
   "name": "python",
   "nbconvert_exporter": "python",
   "pygments_lexer": "ipython3",
   "version": "3.5.0"
  }
 },
 "nbformat": 4,
 "nbformat_minor": 0
}
