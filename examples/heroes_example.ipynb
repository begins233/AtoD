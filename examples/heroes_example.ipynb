{
 "cells": [
  {
   "cell_type": "code",
   "execution_count": 1,
   "metadata": {
    "collapsed": false
   },
   "outputs": [],
   "source": [
    "import numpy as np\n",
    "import pandas as pd\n",
    "\n",
    "from atod import Hero, Heroes, Ability, Abilities"
   ]
  },
  {
   "cell_type": "markdown",
   "metadata": {},
   "source": [
    "### Heroes initialisation\n",
    "there are 3 ways to create Heroes object:\n",
    "1. `Heroes.from\\_ids()` -- takes list of ids as the argument\n",
    "2. `Heroes.from\\_names(h)` -- takes list of names as the argument\n",
    "3. `Heroes()` -- takes list of Hero objects as the argument"
   ]
  },
  {
   "cell_type": "code",
   "execution_count": 2,
   "metadata": {
    "collapsed": false
   },
   "outputs": [
    {
     "name": "stdout",
     "output_type": "stream",
     "text": [
      "['Anti-Mage', 'Crystal Maiden', 'Slardar', 'Batrider', 'Phantom Lancer']\n",
      "Anti-Mage          1\n",
      "Batrider          65\n",
      "Crystal Maiden     5\n",
      "Phantom Lancer    12\n",
      "Slardar           28\n",
      "dtype: int64\n"
     ]
    }
   ],
   "source": [
    "pick = Heroes.from_ids([1, 5, 28, 65, 12])"
   ]
  },
  {
   "cell_type": "markdown",
   "metadata": {},
   "source": [
    "### Basic information\n",
    "with this functions you can get some basic information about set of heroes in the object."
   ]
  },
  {
   "cell_type": "code",
   "execution_count": 8,
   "metadata": {
    "collapsed": false
   },
   "outputs": [
    {
     "name": "stdout",
     "output_type": "stream",
     "text": [
      "Names = ['Anti-Mage', 'Crystal Maiden', 'Slardar', 'Batrider', 'Phantom Lancer'] \n",
      "\n",
      "IDs:\n",
      "Anti-Mage          1\n",
      "Batrider          65\n",
      "Crystal Maiden     5\n",
      "Phantom Lancer    12\n",
      "Slardar           28\n",
      "dtype: int64\n"
     ]
    }
   ],
   "source": [
    "print('Names =', pick.get_names(), '\\n')\n",
    "\n",
    "print('IDs:')\n",
    "print(pick.get_ids())"
   ]
  },
  {
   "cell_type": "markdown",
   "metadata": {},
   "source": [
    "In the few papers I read about DotA binary encoded set of heroes ids were used to represent pick. `get_ids()` with `binarised=True` returns One-Hot encoded heroes ids on the vector of all the heroes ids."
   ]
  },
  {
   "cell_type": "code",
   "execution_count": 3,
   "metadata": {
    "collapsed": false
   },
   "outputs": [
    {
     "name": "stdout",
     "output_type": "stream",
     "text": [
      "113\n"
     ]
    }
   ],
   "source": [
    "print(pick.get_ids(binarised=True).shape[0])"
   ]
  },
  {
   "cell_type": "markdown",
   "metadata": {},
   "source": [
    "`get_description()` works the same way it does for single Hero, except `name` and `id` columns will be removed from description, because result is the sum of parameters between heroes in the Heroes object."
   ]
  },
  {
   "cell_type": "code",
   "execution_count": 5,
   "metadata": {
    "collapsed": false
   },
   "outputs": [
    {
     "name": "stdout",
     "output_type": "stream",
     "text": [
      "category  var             \n",
      "laning    requires_farm       5\n",
      "          requires_setup      5\n",
      "          requires_babysit    5\n",
      "          provides_setup      8\n",
      "          solo_desire         2\n",
      "          survival_rating     4\n",
      "          provides_babysit    8\n",
      "role      disabler            5\n",
      "          nuker               4\n",
      "          escape              7\n",
      "          durable             2\n",
      "          initiator           5\n",
      "          pusher              1\n",
      "          support             3\n",
      "          jungler             3\n",
      "          carry               7\n",
      "dtype: int64\n"
     ]
    }
   ],
   "source": [
    "print(pick.get_description(include=['laning', 'role']))"
   ]
  }
 ],
 "metadata": {
  "kernelspec": {
   "display_name": "Python 3",
   "language": "python",
   "name": "python3"
  },
  "language_info": {
   "codemirror_mode": {
    "name": "ipython",
    "version": 3
   },
   "file_extension": ".py",
   "mimetype": "text/x-python",
   "name": "python",
   "nbconvert_exporter": "python",
   "pygments_lexer": "ipython3",
   "version": "3.5.0"
  }
 },
 "nbformat": 4,
 "nbformat_minor": 0
}
