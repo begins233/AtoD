{
 "cells": [
  {
   "cell_type": "code",
   "execution_count": 1,
   "metadata": {
    "collapsed": false
   },
   "outputs": [],
   "source": [
    "from atod import Hero, Heroes"
   ]
  },
  {
   "cell_type": "code",
   "execution_count": 2,
   "metadata": {
    "collapsed": false
   },
   "outputs": [
    {
     "name": "stdout",
     "output_type": "stream",
     "text": [
      "Anti-Mage stats on lvl 1\n",
      "\tstrength   = 22\n",
      "\tagility    = 22\n",
      "\tintellect  = 15\n",
      "\t...\n"
     ]
    }
   ],
   "source": [
    "# create a hero. The same can be done with Hero.from_name('Anti-Mage')\n",
    "am = Hero(1)\n",
    "# You can use attributes to get some hero properties which depends on lvl, examples:\n",
    "print('Anti-Mage stats on lvl {}'.format(am.lvl))\n",
    "print('\\tstrength   = {}'.format(am.str))\n",
    "print('\\tagility    = {}'.format(am.agi))\n",
    "print('\\tintellect  = {}'.format(am.int))\n",
    "print('\\t...')"
   ]
  },
  {
   "cell_type": "code",
   "execution_count": 3,
   "metadata": {
    "collapsed": false
   },
   "outputs": [
    {
     "data": {
      "text/plain": [
       "'nevermore'"
      ]
     },
     "execution_count": 3,
     "metadata": {},
     "output_type": "execute_result"
    }
   ],
   "source": [
    "# it can be very useful to have hero's in-game name (how it is used in DotA files):\n",
    "sf = Hero.from_name('Shadow Fiend')\n",
    "sf.in_game_name"
   ]
  },
  {
   "cell_type": "code",
   "execution_count": 4,
   "metadata": {
    "collapsed": false
   },
   "outputs": [
    {
     "name": "stdout",
     "output_type": "stream",
     "text": [
      "{'ArmorPhysical': -1.0, 'ProvidesBabysit': 0, 'AttributeBaseAgility': 22, 'RequiresSetup': 1, 'Rolelevels': '3,3,1', 'AttributeIntelligenceGain': 1.8, 'Role': 'Carry,Escape,Nuker', 'MovementTurnRate': 0.5, 'patch': '706f', 'AttackDamageMin': 27, 'aliases': 'am', 'RequiresFarm': 2, 'index': 74, 'AttackDamageMax': 31, 'AttackRate': 1.45, 'HeroType': 'DOTA_BOT_HARD_CARRY', 'AttributeBaseIntelligence': 15, 'AttackCapabilities': 'DOTA_UNIT_CAP_MELEE_ATTACK', 'MovementSpeed': 315, 'HeroID': 1, 'AttackAnimationPoint': 0.3, 'AttributeStrengthGain': 1.5, 'ProvidesSetup': 0, 'AttributeAgilityGain': 2.8, 'AttributeBaseStrength': 22, 'AttackRange': 150, 'SurvivalRating': 2, 'Team': 'Good', 'AttackAcquisitionRange': 600, 'in_game_name': 'antimage', 'name': 'Anti-Mage', 'AttributePrimary': 'DOTA_ATTRIBUTE_AGILITY', 'SoloDesire': 1, 'RequiresBabysit': 2}\n"
     ]
    }
   ],
   "source": [
    "# Also you can get all the specs. This is the dictionary with a lot of parameters.\n",
    "print(am.specs)"
   ]
  },
  {
   "cell_type": "code",
   "execution_count": 5,
   "metadata": {
    "collapsed": false
   },
   "outputs": [
    {
     "name": "stdout",
     "output_type": "stream",
     "text": [
      "category  var             \n",
      "laning    requires_farm       0\n",
      "          requires_setup      0\n",
      "          requires_babysit    2\n",
      "          provides_setup      2\n",
      "          solo_desire         1\n",
      "          survival_rating     1\n",
      "          provides_babysit    2\n",
      "dtype: int64\n"
     ]
    }
   ],
   "source": [
    "# Get laninng info.\n",
    "# Note that laning, roles and hero type are read from the game files and sometimes can be strange.\n",
    "print(am.get_description(include=['laning']))"
   ]
  },
  {
   "cell_type": "code",
   "execution_count": 6,
   "metadata": {
    "collapsed": false,
    "scrolled": true
   },
   "outputs": [
    {
     "data": {
      "text/plain": [
       "category  var      \n",
       "role      disabler     0\n",
       "          nuker        1\n",
       "          escape       3\n",
       "          durable      0\n",
       "          initiator    0\n",
       "          pusher       0\n",
       "          support      0\n",
       "          jungler      0\n",
       "          carry        3\n",
       "dtype: int64"
      ]
     },
     "execution_count": 6,
     "metadata": {},
     "output_type": "execute_result"
    }
   ],
   "source": [
    "# the way to get info about certain side of the hero\n",
    "am.get_role()\n",
    "\n",
    "# there are also get_type(), get_attributes(), get_laning()"
   ]
  },
  {
   "cell_type": "code",
   "execution_count": 8,
   "metadata": {
    "collapsed": false
   },
   "outputs": [
    {
     "name": "stdout",
     "output_type": "stream",
     "text": [
      "1\n"
     ]
    }
   ],
   "source": [
    "print(am.specs['SoloDesire'])"
   ]
  },
  {
   "cell_type": "code",
   "execution_count": 9,
   "metadata": {
    "collapsed": false
   },
   "outputs": [
    {
     "data": {
      "text/plain": [
       "side     variables                 \n",
       "radiant  (laning, requires_farm)           7\n",
       "         (laning, requires_setup)          7\n",
       "         (laning, requires_babysit)        2\n",
       "         (laning, provides_setup)          5\n",
       "         (laning, solo_desire)             3\n",
       "         (laning, survival_rating)         3\n",
       "         (laning, provides_babysit)        7\n",
       "         (role, disabler)                  9\n",
       "         (role, nuker)                     6\n",
       "         (role, escape)                    4\n",
       "         (role, durable)                   1\n",
       "         (role, initiator)                 8\n",
       "         (role, pusher)                    4\n",
       "         (role, support)                   5\n",
       "         (role, jungler)                   0\n",
       "         (role, carry)                     3\n",
       "dire     (laning, requires_farm)           7\n",
       "         (laning, requires_setup)          3\n",
       "         (laning, requires_babysit)        1\n",
       "         (laning, provides_setup)          6\n",
       "         (laning, solo_desire)             3\n",
       "         (laning, survival_rating)         5\n",
       "         (laning, provides_babysit)        5\n",
       "         (role, disabler)                  6\n",
       "         (role, nuker)                     6\n",
       "         (role, escape)                    0\n",
       "         (role, durable)                   5\n",
       "         (role, initiator)                 6\n",
       "         (role, pusher)                    0\n",
       "         (role, support)                   2\n",
       "         (role, jungler)                   0\n",
       "         (role, carry)                     4\n",
       "result   radiant_win                   False\n",
       "dtype: object"
      ]
     },
     "execution_count": 9,
     "metadata": {},
     "output_type": "execute_result"
    }
   ],
   "source": [
    "from atod import Match\n",
    "m = Match(3430944845)\n",
    "m.get_description(['laning', 'role'])"
   ]
  },
  {
   "cell_type": "code",
   "execution_count": null,
   "metadata": {
    "collapsed": true
   },
   "outputs": [],
   "source": []
  }
 ],
 "metadata": {
  "kernelspec": {
   "display_name": "Python 3",
   "language": "python",
   "name": "python3"
  },
  "language_info": {
   "codemirror_mode": {
    "name": "ipython",
    "version": 3
   },
   "file_extension": ".py",
   "mimetype": "text/x-python",
   "name": "python",
   "nbconvert_exporter": "python",
   "pygments_lexer": "ipython3",
   "version": "3.5.0"
  }
 },
 "nbformat": 4,
 "nbformat_minor": 0
}
