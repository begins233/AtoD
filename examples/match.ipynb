{
 "cells": [
  {
   "cell_type": "code",
   "execution_count": 1,
   "metadata": {
    "collapsed": true
   },
   "outputs": [],
   "source": [
    "from atod import Match"
   ]
  },
  {
   "cell_type": "code",
   "execution_count": 2,
   "metadata": {
    "collapsed": false
   },
   "outputs": [
    {
     "name": "stdout",
     "output_type": "stream",
     "text": [
      "side     variables              \n",
      "radiant  laning_provides_babysit        8\n",
      "         laning_provides_setup          5\n",
      "         laning_requires_babysit        0\n",
      "         laning_requires_farm           5\n",
      "         laning_requires_setup          2\n",
      "         laning_solo_desire             1\n",
      "         laning_survival_rating         7\n",
      "         type_ganker                    2\n",
      "         type_hard_carry                0\n",
      "         type_nuker                     0\n",
      "         type_pure_support              1\n",
      "         type_push_support              2\n",
      "         type_semi_carry                2\n",
      "         type_stun_support              1\n",
      "         type_tank                      2\n",
      "dire     laning_provides_babysit        6\n",
      "         laning_provides_setup          7\n",
      "         laning_requires_babysit        2\n",
      "         laning_requires_farm           8\n",
      "         laning_requires_setup          0\n",
      "         laning_solo_desire             4\n",
      "         laning_survival_rating         8\n",
      "         type_ganker                    4\n",
      "         type_hard_carry                1\n",
      "         type_nuker                     0\n",
      "         type_pure_support              0\n",
      "         type_push_support              0\n",
      "         type_semi_carry                2\n",
      "         type_stun_support              2\n",
      "         type_tank                      3\n",
      "result   radiant_win                False\n",
      "dtype: object\n"
     ]
    }
   ],
   "source": [
    "# just a random match\n",
    "match_id = 1000193456\n",
    "match = Match(match_id)\n",
    "\n",
    "# get the description of the match in terms of laning and heroes types\n",
    "print(match.get_description(include=['laning', 'type']))"
   ]
  },
  {
   "cell_type": "code",
   "execution_count": null,
   "metadata": {
    "collapsed": true
   },
   "outputs": [],
   "source": []
  }
 ],
 "metadata": {
  "kernelspec": {
   "display_name": "Python 3",
   "language": "python",
   "name": "python3"
  },
  "language_info": {
   "codemirror_mode": {
    "name": "ipython",
    "version": 3
   },
   "file_extension": ".py",
   "mimetype": "text/x-python",
   "name": "python",
   "nbconvert_exporter": "python",
   "pygments_lexer": "ipython3",
   "version": "3.5.0"
  }
 },
 "nbformat": 4,
 "nbformat_minor": 0
}
