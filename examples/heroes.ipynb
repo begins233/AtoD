{
 "cells": [
  {
   "cell_type": "code",
   "execution_count": 1,
   "metadata": {
    "collapsed": false
   },
   "outputs": [],
   "source": [
    "import numpy as np\n",
    "import pandas as pd\n",
    "\n",
    "from atod import Hero, Heroes, Ability, Abilities"
   ]
  },
  {
   "cell_type": "code",
   "execution_count": 2,
   "metadata": {
    "collapsed": false
   },
   "outputs": [
    {
     "name": "stdout",
     "output_type": "stream",
     "text": [
      "['Anti-Mage', 'Crystal Maiden', 'Slardar', 'Batrider', 'Phantom Lancer']\n",
      "Anti-Mage          1\n",
      "Batrider          65\n",
      "Crystal Maiden     5\n",
      "Phantom Lancer    12\n",
      "Slardar           28\n",
      "dtype: int64\n"
     ]
    }
   ],
   "source": [
    "# just random heroes ids\n",
    "pick = Heroes.from_ids([1, 5, 28, 65, 12])\n",
    "print(pick.get_names())\n",
    "print(pick.get_ids())"
   ]
  },
  {
   "cell_type": "code",
   "execution_count": 3,
   "metadata": {
    "collapsed": false
   },
   "outputs": [
    {
     "name": "stdout",
     "output_type": "stream",
     "text": [
      "113\n"
     ]
    }
   ],
   "source": [
    "print(pick.get_ids(binarised=True).shape[0])"
   ]
  },
  {
   "cell_type": "code",
   "execution_count": 4,
   "metadata": {
    "collapsed": false
   },
   "outputs": [
    {
     "name": "stdout",
     "output_type": "stream",
     "text": [
      "laning_provides_babysit    5.0\n",
      "laning_provides_setup      5.0\n",
      "laning_requires_babysit    5.0\n",
      "laning_requires_farm       8.0\n",
      "laning_requires_setup      2.0\n",
      "laning_solo_desire         4.0\n",
      "laning_survival_rating     8.0\n",
      "role_disabler              5.0\n",
      "role_nuker                 4.0\n",
      "role_escape                7.0\n",
      "role_durable               2.0\n",
      "role_initiator             5.0\n",
      "role_pusher                1.0\n",
      "role_support               3.0\n",
      "role_jungler               3.0\n",
      "role_carry                 7.0\n",
      "dtype: float64\n"
     ]
    }
   ],
   "source": [
    "print(pick.get_summary(include=['laning', 'role']))"
   ]
  }
 ],
 "metadata": {
  "kernelspec": {
   "display_name": "Python 3",
   "language": "python",
   "name": "python3"
  },
  "language_info": {
   "codemirror_mode": {
    "name": "ipython",
    "version": 3
   },
   "file_extension": ".py",
   "mimetype": "text/x-python",
   "name": "python",
   "nbconvert_exporter": "python",
   "pygments_lexer": "ipython3",
   "version": "3.5.0"
  }
 },
 "nbformat": 4,
 "nbformat_minor": 0
}
