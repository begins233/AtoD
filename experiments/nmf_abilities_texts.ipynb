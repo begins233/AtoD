{
 "cells": [
  {
   "cell_type": "markdown",
   "metadata": {
    "collapsed": true
   },
   "source": [
    "# Topic modeling of abilities texts\n",
    "In this file I'm trying to cluster the abilities by performing topic modeling (with NMF decomposition) on their descriptions."
   ]
  },
  {
   "cell_type": "code",
   "execution_count": 1,
   "metadata": {
    "collapsed": false
   },
   "outputs": [],
   "source": [
    "import pandas as pd\n",
    "from pprint import pprint\n",
    "from sklearn.decomposition import NMF\n",
    "from nltk.stem.snowball import EnglishStemmer\n",
    "from sklearn.feature_extraction.text import TfidfVectorizer\n",
    "\n",
    "from atod import Abilities, Heroes"
   ]
  },
  {
   "cell_type": "markdown",
   "metadata": {},
   "source": [
    "## NMF"
   ]
  },
  {
   "cell_type": "code",
   "execution_count": 2,
   "metadata": {
    "collapsed": false
   },
   "outputs": [
    {
     "name": "stdout",
     "output_type": "stream",
     "text": [
      "No abilities for this HeroID == 16\n"
     ]
    }
   ],
   "source": [
    "# create stop-words list\n",
    "heroes = Heroes.all()\n",
    "heroes_names = [h.name for h in heroes]\n",
    "# names of heroes commonly occur in descriptions, so\n",
    "# deleting them is a good idea\n",
    "words_in_heroes_names = [word.lower() for name in heroes_names for word in name.split(' ')]\n",
    "\n",
    "eng_stop_words = TfidfVectorizer(stop_words='english').get_stop_words()\n",
    "stop_words = set(words_in_heroes_names + list(eng_stop_words) \n",
    "                 + ['font', 'color', '7998b5', 'target', 'enemy', 'friendly', 'allied',\n",
    "                    'remnant', 'aghanim', 'scepter', 'units', 'deal damage'\n",
    "                    'cause', 'creep'])"
   ]
  },
  {
   "cell_type": "code",
   "execution_count": 3,
   "metadata": {
    "collapsed": false
   },
   "outputs": [],
   "source": [
    "# get all texts for all abilities\n",
    "texts = Abilities.all().get_texts()\n",
    "# get abilities names and  descriptions\n",
    "descriptions = texts[['description', 'name']]\n",
    "corpus = [a.replace('\\\\n', ' ').replace('%%', '%') for a in descriptions['description']]\n",
    "corpus.extend(['stun', 'silence', \n",
    "               'blink is short distance teleportation', \n",
    "               'silence', \n",
    "               'healing',\n",
    "               'invisibility', 'area of usage', 'armor', 'percentage',\n",
    "               'DOT is damage over time (seconds)',\n",
    "               'summon or place a ward', 'illusions, images, duplicates, nemesisis',\n",
    "               'critical damage', 'movement speed', 'attack speed'])\n",
    "\n",
    "stemmer = EnglishStemmer()\n",
    "stemmed_corpus = []\n",
    "for doc in corpus:\n",
    "    stemmed_corpus.append(' '.join([stemmer.stem(word) for word in doc.split(' ')]))\n",
    "\n",
    "corpus = stemmed_corpus"
   ]
  },
  {
   "cell_type": "code",
   "execution_count": 4,
   "metadata": {
    "collapsed": false
   },
   "outputs": [
    {
     "data": {
      "text/plain": [
       "(503, 12251)"
      ]
     },
     "execution_count": 4,
     "metadata": {},
     "output_type": "execute_result"
    }
   ],
   "source": [
    "tfidf_vectorizer = TfidfVectorizer(stop_words=stop_words,\n",
    "                                   ngram_range=(1,3))\n",
    "tfidf_vectorizer.fit(corpus)\n",
    "tf_corpus = tfidf_vectorizer.transform(corpus)\n",
    "tf_features_names = tfidf_vectorizer.get_feature_names()\n",
    "\n",
    "tf_corpus.shape"
   ]
  },
  {
   "cell_type": "code",
   "execution_count": 5,
   "metadata": {
    "collapsed": false,
    "scrolled": true
   },
   "outputs": [
    {
     "name": "stdout",
     "output_type": "stream",
     "text": [
      "Topic 0:\n",
      "area, area deal, raze, raze area, area deal damag, raze area deal, deal damag enemi, enemi unit area, unit area, damag enemi unit\n",
      "Topic 1:\n",
      "movement speed, movement, speed, increas movement speed, increas movement, increas, attack movement speed, attack movement, bear, bonus movement\n",
      "Topic 2:\n",
      "damag time, time, deal damag time, deal damag, deal, damag, poison, enemi unit, seconds, unit\n",
      "Topic 3:\n",
      "dispel, type, dispel type, dispel type basic, basic dispel, type basic dispel, type basic, basic, purg, type strong\n",
      "Topic 4:\n",
      "base level, level, base, invok, level quas, base level quas, quas, level cabe68 exort, base level cabe68, level cabe68\n",
      "Topic 5:\n",
      "slow movement, slow movement speed, damag slow movement, damag slow, slow, movement, movement speed, speed, unit damag slow, kick unit damag\n",
      "Topic 6:\n",
      "friend, friend unit, heal friend unit, heal friend, unit, friend unit damag, unit damag, instant heal, unit damag nearbi, instant heal friend\n",
      "Topic 7:\n",
      "stun, damag stun, stun deal, stun damag, damag, stun damag enemi, throw, unit stun, unit damag stun, throw boulder unit\n",
      "Topic 8:\n",
      "silenc, enchant, damag silenc, addit damag, addit, silenc enemi unit, silenc enemi, deal addit damag, silenc caus, silenc caus addit\n",
      "Topic 9:\n",
      "nearbi enemi, nearbi, damag nearbi enemi, damag nearbi, slam, ground, slam ground, slam ground stun, ground stun, enemi\n",
      "Topic 10:\n",
      "attack speed, attack, speed, increas attack, increas attack speed, increas, gain increas, gain increas attack, gain, alli\n",
      "Topic 11:\n",
      "unit, enemi unit, enemi, damag enemi unit, damag enemi, send, stone, damag, line, wave\n",
      "Topic 12:\n",
      "short distanc teleport, short distanc, distanc teleport, teleport, distanc, short, teleport allow, distanc teleport allow, combat, allow\n",
      "Topic 13:\n",
      "poison slow, poison, slow attack, slow attack movement, movement speeds, inflict poison, inflict poison slow, poison slow attack, attack movement speeds, speeds\n",
      "Topic 14:\n",
      "armor, reduc, reduc armor, seconds, armor enemi, armor nearbi enemies, reduc armor nearbi, armor nearbi, presenc reduc, presenc reduc armor\n",
      "Topic 15:\n",
      "bonus, bonus damag, deal bonus, deal bonus damag, damag, deal, attack, grant, grant bonus, attack enemi\n",
      "Topic 16:\n",
      "great, area, area effect, damag time attack, affect enemi unit, great reduced, unit damag time, launch independ, attack speed great, area effect affect\n",
      "Topic 17:\n",
      "spike, hurl air stun, straight path enemi, unit hurl air, spike burst, spike burst straight, enemi unit hurl, burst straight path, hurl air, unit hurl\n",
      "Topic 18:\n",
      "hero, enemi hero, enemi, upgrad, alli hero, steal, alli, essenc, duration, true sight\n",
      "Topic 19:\n",
      "point, strength, morphl, morph, process reversible, shift form, change passiv, change, pull point, morphl shift form\n",
      "Topic 20:\n",
      "ward, summon, ward attack enemi, ward attack, attack enemi, immun, summon place, place ward, summon place ward, place\n",
      "Topic 21:\n",
      "spells, cast spells, area cast, unit area cast, area cast spells, cast, enemi unit area, unit area, prevent enemi, prevent\n",
      "Topic 22:\n",
      "slow, slow enemi, slow enemi unit, damag slow, damag slow enemi, enemi, area, channel, damag, movement attack\n",
      "Topic 23:\n",
      "invis, attack use ability, use ability, attack use, ability, becom invis, use, invis unit, becom, unit moment attack\n",
      "Topic 24:\n",
      "percentag, health, current health, current, beam, damag enemi heal, enemi heal, heal percentag, percentag current, percentag current health\n",
      "Topic 25:\n",
      "deal damag stun, blast enemi, blast enemi unit, blast, wave deal damag, wave deal, enemi unit wave, unit wave deal, unit wave, damag stun\n",
      "Topic 26:\n",
      "uniqu, uniqu attack, attack, modifiers, attack modifiers, uniqu attack modifiers, doe, doe stack uniqu, modifier doe, uniqu attack modifier\n",
      "Topic 27:\n",
      "instanc provid increas, instanc provid, provid increas, allow manipul, elements, manipul, instanc, allow, provid, provid increas attack\n",
      "Topic 28:\n",
      "heal, alli, heal nearbi alli, heal nearbi, nearbi alli, focus magic heal, focus magic, magic heal, magic heal nearbi, unit heal\n",
      "Topic 29:\n",
      "miss, caus, caus miss, attacks, miss attacks, caus miss attacks, blind, area, caus attack, unit caus\n",
      "Topic 30:\n",
      "mana, equal, lose mana, point mana, lose, pool, mana pool, total mana, absorb, restor\n",
      "Topic 31:\n",
      "extra, extra damag, deal extra damag, deal extra, damag attack, deal, chanc deal, nearbi unit attacking, extra damag nearbi, damag nearbi unit\n",
      "Topic 32:\n",
      "critic, strike, critic strike, critic damag, chanc, chanc deal, attack, ad, hit, victim\n",
      "Topic 33:\n",
      "ani, teleport, snowbal, teleport ani, ani enemi, tether, ani point, launch, point, teleport ani point\n",
      "Topic 34:\n",
      "creat, illus, deal damage, creat illus, terrorblad, damage, terrorblad deal damage, illus terrorblad deal, illus terrorblad, terrorblad deal\n",
      "Topic 35:\n",
      "enemies, nearbi enemies, nearbi, damag nearbi enemies, damag nearbi, slow nearbi enemies, slow nearbi, attacked, attack deal, trap slow nearbi\n",
      "Topic 36:\n",
      "damage, damage upgrad, upgrad, deal massiv, massiv, deal massiv damage, massiv damage, massiv damage upgrad, deal, magic\n",
      "Topic 37:\n",
      "gain, gain bonus, bonus, bonus damage, damage, gain bonus damage, kill, unit, die, avoid\n",
      "Topic 38:\n",
      "lightn, bolt, bolt lightn, strike, strike enemi, lightn bolt, cast lightn, cast lightn bolt, true sight, sight\n",
      "Topic 39:\n",
      "second, damag second, burn, deal damag second, golem, damag, everi, enemi damag second, golem nearbi, golem nearbi enemi\n"
     ]
    }
   ],
   "source": [
    "nmf = NMF(n_components=40, init='nndsvd').fit(tf_corpus)\n",
    "\n",
    "for topic_idx, topic in enumerate(nmf.components_):\n",
    "    print(\"Topic %d:\" % (topic_idx))\n",
    "    print(\", \".join([tf_features_names[i]\n",
    "                    for i in topic.argsort()[:-10 - 1:-1]]))"
   ]
  },
  {
   "cell_type": "code",
   "execution_count": 6,
   "metadata": {
    "collapsed": false,
    "scrolled": false
   },
   "outputs": [
    {
     "name": "stdout",
     "output_type": "stream",
     "text": [
      "fissure\n",
      "Slams the ground with a mighty totem, creating an impassable ridge of stone while stunning and damaging enemy units along its line.\n",
      "-------\n",
      "enemi, enemi unit, unit, \n",
      "deal extra damag, extra damag, extra, \n",
      "damag nearbi enemi, nearbi, nearbi enemi, \n"
     ]
    }
   ],
   "source": [
    "# find the ability with `index` in descriptions DataFrame\n",
    "# and define categories of this ability\n",
    "index = 19\n",
    "test = tfidf_vectorizer.transform([descriptions['description'][index]])\n",
    "weights = nmf.transform(test)\n",
    "topics = weights.argsort()[0][-3:]\n",
    "\n",
    "print(descriptions['name'][index])\n",
    "print(descriptions['description'][index])\n",
    "print('-' * len(descriptions['name'][index]))\n",
    "\n",
    "for topic in topics:\n",
    "    for i in nmf.components_[topic].argsort()[-3:]:\n",
    "        print(tf_features_names[i], end=', ')\n",
    "        \n",
    "    print()"
   ]
  },
  {
   "cell_type": "code",
   "execution_count": 7,
   "metadata": {
    "collapsed": false
   },
   "outputs": [
    {
     "name": "stderr",
     "output_type": "stream",
     "text": [
      "/Library/Frameworks/Python.framework/Versions/3.5/lib/python3.5/site-packages/matplotlib/font_manager.py:273: UserWarning: Matplotlib is building the font cache using fc-list. This may take a moment.\n",
      "  warnings.warn('Matplotlib is building the font cache using fc-list. This may take a moment.')\n",
      "/Library/Frameworks/Python.framework/Versions/3.5/lib/python3.5/site-packages/matplotlib/font_manager.py:273: UserWarning: Matplotlib is building the font cache using fc-list. This may take a moment.\n",
      "  warnings.warn('Matplotlib is building the font cache using fc-list. This may take a moment.')\n"
     ]
    }
   ],
   "source": [
    "# distribution of categories\n",
    "%matplotlib inline\n",
    "categories_dist = dict()\n",
    "skills_by_category = dict()\n",
    "\n",
    "for index, text in enumerate(descriptions['description']):\n",
    "    vect = tfidf_vectorizer.transform([text])\n",
    "    weights = nmf.transform(vect)\n",
    "    topics = weights.argsort()[0][-2:]\n",
    "    \n",
    "    for topic in topics:\n",
    "        # find words describing topic\n",
    "        for i in nmf.components_[topic].argsort()[-1:]:\n",
    "            skills_by_category.setdefault(tf_features_names[i], [])\n",
    "            skills_by_category[tf_features_names[i]].append(descriptions['name'][index])\n",
    "            \n",
    "# categories_dist = categories_dist.dropna()\n",
    "categories_dist = pd.Series({k: len(skills_by_category[k]) for k in skills_by_category})\n",
    "# categories_dist.plot()"
   ]
  },
  {
   "cell_type": "code",
   "execution_count": 8,
   "metadata": {
    "collapsed": false
   },
   "outputs": [
    {
     "name": "stdout",
     "output_type": "stream",
     "text": [
      "NOTE: the name of category can be misleading, check the above example with fissure\n",
      "#categories 39\n",
      "ani                        37\n",
      "armor                      20\n",
      "attack speed               29\n",
      "base level                 18\n",
      "bonus                      10\n",
      "creat                      43\n",
      "critic                     14\n",
      "damag time                  1\n",
      "damage                    161\n",
      "deal damag stun            10\n",
      "dispel                     27\n",
      "enemies                    78\n",
      "extra                      12\n",
      "friend                     11\n",
      "gain                       79\n",
      "great                       8\n",
      "heal                       15\n",
      "hero                       29\n",
      "instanc provid increas      7\n",
      "invis                      13\n",
      "lightn                     28\n",
      "mana                       24\n",
      "miss                       32\n",
      "movement speed             68\n",
      "nearbi enemi                7\n",
      "percentag                  30\n",
      "point                      14\n",
      "poison slow                 8\n",
      "second                     27\n",
      "short distanc teleport     16\n",
      "silenc                      3\n",
      "slow                       13\n",
      "slow movement               8\n",
      "spells                     11\n",
      "spike                      10\n",
      "stun                       11\n",
      "uniqu                      15\n",
      "unit                       18\n",
      "ward                       11\n",
      "dtype: int64\n"
     ]
    }
   ],
   "source": [
    "print('#categories', categories_dist.shape[0])\n",
    "print(categories_dist)"
   ]
  },
  {
   "cell_type": "code",
   "execution_count": 14,
   "metadata": {
    "collapsed": false
   },
   "outputs": [
    {
     "name": "stdout",
     "output_type": "stream",
     "text": [
      "['dragon_slave', 'death_pulse', 'sonic_wave', 'shadow_wave', 'dual_breath', 'deafening_blast', 'fireblast', 'unrefined_fireblast', 'rip_tide', 'shockwave']\n"
     ]
    }
   ],
   "source": [
    "# print abilities by category\n",
    "print(skills_by_category['deal damag stun'])"
   ]
  },
  {
   "cell_type": "code",
   "execution_count": null,
   "metadata": {
    "collapsed": false
   },
   "outputs": [],
   "source": [
    "# print categories which were separated good enough from others\n",
    "sorted_abilities = dict()\n",
    "for category in skills_by_category:\n",
    "    if len(skills_by_category[category]) <= 30:\n",
    "        sorted_abilities[category] = skills_by_category[category]\n",
    "        \n",
    "pprint(sorted_abilities)"
   ]
  },
  {
   "cell_type": "code",
   "execution_count": null,
   "metadata": {
    "collapsed": true
   },
   "outputs": [],
   "source": []
  },
  {
   "cell_type": "code",
   "execution_count": null,
   "metadata": {
    "collapsed": true
   },
   "outputs": [],
   "source": []
  }
 ],
 "metadata": {
  "kernelspec": {
   "display_name": "Python 3",
   "language": "python",
   "name": "python3"
  },
  "language_info": {
   "codemirror_mode": {
    "name": "ipython",
    "version": 3
   },
   "file_extension": ".py",
   "mimetype": "text/x-python",
   "name": "python",
   "nbconvert_exporter": "python",
   "pygments_lexer": "ipython3",
   "version": "3.5.0"
  }
 },
 "nbformat": 4,
 "nbformat_minor": 0
}
