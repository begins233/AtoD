{
 "cells": [
  {
   "cell_type": "code",
   "execution_count": 1,
   "metadata": {
    "collapsed": true
   },
   "outputs": [],
   "source": [
    "from atod import Hero, Heroes, Ability, Abilities"
   ]
  },
  {
   "cell_type": "code",
   "execution_count": 2,
   "metadata": {
    "collapsed": false
   },
   "outputs": [
    {
     "data": {
      "text/plain": [
       "'Phantom Lancer'"
      ]
     },
     "execution_count": 2,
     "metadata": {},
     "output_type": "execute_result"
    }
   ],
   "source": [
    "hero = Hero(12)\n",
    "hero.name"
   ]
  },
  {
   "cell_type": "code",
   "execution_count": 3,
   "metadata": {
    "collapsed": false
   },
   "outputs": [
    {
     "name": "stdout",
     "output_type": "stream",
     "text": [
      "<Abilities [<Ability name=spirit_lance>, <Ability name=doppelwalk>, <Ability name=juxtapose>, <Ability name=phantom_edge>, ]>\n"
     ]
    }
   ],
   "source": [
    "print(hero.abilities)"
   ]
  },
  {
   "cell_type": "code",
   "execution_count": 5,
   "metadata": {
    "collapsed": false
   },
   "outputs": [
    {
     "data": {
      "text/plain": [
       "ArmorPhysical                                                          0\n",
       "AttackAcquisitionRange                                               600\n",
       "AttackAnimationPoint                                                 0.5\n",
       "AttackCapabilities                            DOTA_UNIT_CAP_MELEE_ATTACK\n",
       "AttackDamageMax                                                       44\n",
       "AttackDamageMin                                                       22\n",
       "AttackRange                                                          150\n",
       "AttackRate                                                           1.7\n",
       "AttributeAgilityGain                                                 2.6\n",
       "AttributeBaseAgility                                                  29\n",
       "AttributeBaseIntelligence                                             21\n",
       "AttributeBaseStrength                                                 21\n",
       "AttributeIntelligenceGain                                              2\n",
       "AttributePrimary                                  DOTA_ATTRIBUTE_AGILITY\n",
       "AttributeStrengthGain                                                1.7\n",
       "HeroID                                                                12\n",
       "HeroType                     DOTA_BOT_PUSH_SUPPORT | DOTA_BOT_HARD_CARRY\n",
       "MovementSpeed                                                        290\n",
       "MovementTurnRate                                                     0.6\n",
       "ProvidesBabysit                                                        0\n",
       "ProvidesSetup                                                          0\n",
       "RequiresBabysit                                                        2\n",
       "RequiresFarm                                                           2\n",
       "RequiresSetup                                                          1\n",
       "Role                                           Carry,Escape,Pusher,Nuker\n",
       "Rolelevels                                                       2,2,1,1\n",
       "SoloDesire                                                             0\n",
       "SurvivalRating                                                         2\n",
       "Team                                                                Good\n",
       "aliases                                                               pl\n",
       "                                                ...                     \n",
       "label_attack_debuff                                                    0\n",
       "label_attribute_gain                                                   0\n",
       "label_based_on_attr                                                    0\n",
       "label_chance                                                           2\n",
       "label_daytime_dependent                                                0\n",
       "label_durability                                                       0\n",
       "label_escape                                                           1\n",
       "label_global                                                           0\n",
       "label_heal                                                             0\n",
       "label_illusions                                                        1\n",
       "label_in_percents                                                      0\n",
       "label_invis                                                            0\n",
       "label_lifesteal                                                        0\n",
       "label_move_speed_buff                                                  0\n",
       "label_multiply_heroes                                                  1\n",
       "label_non_hero                                                         0\n",
       "label_nuke                                                             0\n",
       "label_period_damage                                                    0\n",
       "label_purge                                                            0\n",
       "label_regen                                                            0\n",
       "label_save                                                             0\n",
       "label_shield                                                           0\n",
       "label_silence                                                          0\n",
       "label_slow                                                             0\n",
       "label_stacks                                                           0\n",
       "label_stun                                                             0\n",
       "label_summon_unit                                                      0\n",
       "label_transformation                                                   0\n",
       "label_vision                                                           0\n",
       "name                         spirit_lancedoppelwalkjuxtaposephantom_edge\n",
       "dtype: object"
      ]
     },
     "execution_count": 5,
     "metadata": {},
     "output_type": "execute_result"
    }
   ],
   "source": [
    "hero.get_description()"
   ]
  },
  {
   "cell_type": "code",
   "execution_count": null,
   "metadata": {
    "collapsed": true
   },
   "outputs": [],
   "source": []
  }
 ],
 "metadata": {
  "kernelspec": {
   "display_name": "Python 3",
   "language": "python",
   "name": "python3"
  },
  "language_info": {
   "codemirror_mode": {
    "name": "ipython",
    "version": 3
   },
   "file_extension": ".py",
   "mimetype": "text/x-python",
   "name": "python",
   "nbconvert_exporter": "python",
   "pygments_lexer": "ipython3",
   "version": "3.5.0"
  }
 },
 "nbformat": 4,
 "nbformat_minor": 0
}
