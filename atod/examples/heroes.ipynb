{
 "cells": [
  {
   "cell_type": "code",
   "execution_count": 1,
   "metadata": {
    "collapsed": false
   },
   "outputs": [],
   "source": [
    "import numpy as np\n",
    "import pandas as pd\n",
    "\n",
    "from atod import Hero, Heroes, Ability, Abilities"
   ]
  },
  {
   "cell_type": "code",
   "execution_count": 2,
   "metadata": {
    "collapsed": false
   },
   "outputs": [
    {
     "name": "stdout",
     "output_type": "stream",
     "text": [
      "['Anti-Mage', 'Crystal Maiden', 'Slardar', 'Batrider', 'Phantom Lancer']\n",
      "armor_physical                    1.00\n",
      "attack_acquisition_range       3400.00\n",
      "attack_animation_point            2.01\n",
      "attack_damage_max               156.00\n",
      "attack_damage_min               112.00\n",
      "attack_range                   1425.00\n",
      "attack_rate                       8.25\n",
      "attribute_agility_gain           10.90\n",
      "attribute_base_agility           99.00\n",
      "attribute_base_intelligence      91.00\n",
      "attribute_base_strength         103.00\n",
      "attribute_intelligence_gain      10.70\n",
      "attribute_strength_gain           9.80\n",
      "movement_speed                 1465.00\n",
      "movement_turn_rate                3.10\n",
      "role_disabler                     5.00\n",
      "role_nuker                        4.00\n",
      "role_escape                       7.00\n",
      "role_durable                      2.00\n",
      "role_initiator                    5.00\n",
      "role_pusher                       1.00\n",
      "role_support                      3.00\n",
      "role_jungler                      3.00\n",
      "role_carry                        7.00\n",
      "primary_attribute_agility         2.00\n",
      "primary_attribute_intellect       2.00\n",
      "primary_attribute_strength        1.00\n",
      "type_ganker                       2.00\n",
      "type_hard_carry                   2.00\n",
      "type_nuker                        0.00\n",
      "type_pure_support                 1.00\n",
      "type_push_support                 1.00\n",
      "type_semi_carry                   0.00\n",
      "type_stun_support                 2.00\n",
      "type_tank                         1.00\n",
      "laning_provides_babysit           5.00\n",
      "laning_provides_setup             5.00\n",
      "laning_requires_babysit           5.00\n",
      "laning_requires_farm              8.00\n",
      "laning_requires_setup             2.00\n",
      "laning_solo_desire                4.00\n",
      "laning_survival_rating            8.00\n",
      "dtype: float64\n"
     ]
    }
   ],
   "source": [
    "# just random heroes ids\n",
    "pick = Heroes.from_ids([1, 5, 28, 65, 12])\n",
    "print(pick.get_names())\n",
    "print(pick.get_summary())"
   ]
  }
 ],
 "metadata": {
  "kernelspec": {
   "display_name": "Python 3",
   "language": "python",
   "name": "python3"
  },
  "language_info": {
   "codemirror_mode": {
    "name": "ipython",
    "version": 3
   },
   "file_extension": ".py",
   "mimetype": "text/x-python",
   "name": "python",
   "nbconvert_exporter": "python",
   "pygments_lexer": "ipython3",
   "version": "3.5.0"
  }
 },
 "nbformat": 4,
 "nbformat_minor": 0
}
