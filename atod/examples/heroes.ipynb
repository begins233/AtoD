{
 "cells": [
  {
   "cell_type": "code",
   "execution_count": 1,
   "metadata": {
    "collapsed": false
   },
   "outputs": [],
   "source": [
    "import numpy as np\n",
    "import pandas as pd\n",
    "\n",
    "from atod import Hero, Heroes, Ability, Abilities"
   ]
  },
  {
   "cell_type": "code",
   "execution_count": 2,
   "metadata": {
    "collapsed": false
   },
   "outputs": [
    {
     "name": "stdout",
     "output_type": "stream",
     "text": [
      "['Anti-Mage', 'Crystal Maiden', 'Slardar', 'Batrider', 'Phantom Lancer']\n",
      "Anti-Mage          1\n",
      "Batrider          65\n",
      "Crystal Maiden     5\n",
      "Phantom Lancer    12\n",
      "Slardar           28\n",
      "dtype: int64\n",
      "armor_physical                    1.00\n",
      "attack_acquisition_range       3400.00\n",
      "attack_animation_point            2.01\n",
      "attack_damage_max               156.00\n",
      "attack_damage_min               112.00\n",
      "attack_range                   1425.00\n",
      "attack_rate                       8.25\n",
      "attribute_agility_gain           10.90\n",
      "attribute_base_agility           99.00\n",
      "attribute_base_intelligence      91.00\n",
      "attribute_base_strength         103.00\n",
      "attribute_intelligence_gain      10.70\n",
      "attribute_strength_gain           9.80\n",
      "movement_speed                 1465.00\n",
      "movement_turn_rate                3.10\n",
      "role_disabler                     5.00\n",
      "role_nuker                        4.00\n",
      "role_escape                       7.00\n",
      "role_durable                      2.00\n",
      "role_initiator                    5.00\n",
      "role_pusher                       1.00\n",
      "role_support                      3.00\n",
      "role_jungler                      3.00\n",
      "role_carry                        7.00\n",
      "primary_attribute_agility         2.00\n",
      "primary_attribute_intellect       2.00\n",
      "primary_attribute_strength        1.00\n",
      "type_ganker                       2.00\n",
      "type_hard_carry                   2.00\n",
      "type_nuker                        0.00\n",
      "                                ...   \n",
      "label_attack_bonus                1.00\n",
      "label_attack_debuff               1.00\n",
      "label_attribute_gain              1.00\n",
      "label_based_on_attr               0.00\n",
      "label_chance                      2.00\n",
      "label_daytime_dependent           0.00\n",
      "label_durability                  1.00\n",
      "label_escape                      2.00\n",
      "label_global                      0.00\n",
      "label_heal                        0.00\n",
      "label_illusions                   2.00\n",
      "label_in_percents                 0.00\n",
      "label_invis                       3.00\n",
      "label_lifesteal                   0.00\n",
      "label_move_speed_buff             0.00\n",
      "label_multiply_heroes             1.00\n",
      "label_non_hero                    0.00\n",
      "label_nuke                        2.00\n",
      "label_period_damage               2.00\n",
      "label_purge                       1.00\n",
      "label_regen                       0.00\n",
      "label_save                        1.00\n",
      "label_shield                      0.00\n",
      "label_silence                     2.00\n",
      "label_slow                        3.00\n",
      "label_stacks                      0.00\n",
      "label_stun                        5.00\n",
      "label_summon_unit                 0.00\n",
      "label_transformation              1.00\n",
      "label_vision                      0.00\n",
      "dtype: float64\n"
     ]
    }
   ],
   "source": [
    "# just random heroes ids\n",
    "pick = Heroes.from_ids([1, 5, 28, 65, 12])\n",
    "print(pick.get_names())\n",
    "print(pick.get_ids())\n",
    "print(pick.get_summary())"
   ]
  },
  {
   "cell_type": "code",
   "execution_count": 3,
   "metadata": {
    "collapsed": false
   },
   "outputs": [
    {
     "name": "stdout",
     "output_type": "stream",
     "text": [
      "1      1\n",
      "2      0\n",
      "3      0\n",
      "4      0\n",
      "5      1\n",
      "6      0\n",
      "7      0\n",
      "8      0\n",
      "9      0\n",
      "10     0\n",
      "11     0\n",
      "12     1\n",
      "13     0\n",
      "14     0\n",
      "15     0\n",
      "16     0\n",
      "17     0\n",
      "18     0\n",
      "19     0\n",
      "20     0\n",
      "21     0\n",
      "22     0\n",
      "23     0\n",
      "25     0\n",
      "26     0\n",
      "27     0\n",
      "28     1\n",
      "29     0\n",
      "30     0\n",
      "31     0\n",
      "      ..\n",
      "85     0\n",
      "86     0\n",
      "87     0\n",
      "88     0\n",
      "89     0\n",
      "90     0\n",
      "91     0\n",
      "92     0\n",
      "93     0\n",
      "94     0\n",
      "95     0\n",
      "96     0\n",
      "97     0\n",
      "98     0\n",
      "99     0\n",
      "100    0\n",
      "101    0\n",
      "102    0\n",
      "103    0\n",
      "104    0\n",
      "105    0\n",
      "106    0\n",
      "107    0\n",
      "108    0\n",
      "109    0\n",
      "110    0\n",
      "111    0\n",
      "112    0\n",
      "113    0\n",
      "114    0\n",
      "dtype: int64\n"
     ]
    }
   ],
   "source": [
    "print(pick.get_ids(binarised=True))"
   ]
  }
 ],
 "metadata": {
  "kernelspec": {
   "display_name": "Python 3",
   "language": "python",
   "name": "python3"
  },
  "language_info": {
   "codemirror_mode": {
    "name": "ipython",
    "version": 3
   },
   "file_extension": ".py",
   "mimetype": "text/x-python",
   "name": "python",
   "nbconvert_exporter": "python",
   "pygments_lexer": "ipython3",
   "version": "3.5.0"
  }
 },
 "nbformat": 4,
 "nbformat_minor": 0
}
