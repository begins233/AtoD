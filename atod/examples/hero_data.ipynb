{
 "cells": [
  {
   "cell_type": "code",
   "execution_count": 1,
   "metadata": {
    "collapsed": false
   },
   "outputs": [],
   "source": [
    "from atod import Hero, Heroes"
   ]
  },
  {
   "cell_type": "code",
   "execution_count": 2,
   "metadata": {
    "collapsed": false
   },
   "outputs": [
    {
     "name": "stdout",
     "output_type": "stream",
     "text": [
      "ProvidesBabysit    0\n",
      "ProvidesSetup      0\n",
      "RequiresBabysit    2\n",
      "RequiresFarm       2\n",
      "RequiresSetup      1\n",
      "SoloDesire         1\n",
      "SurvivalRating     2\n",
      "dtype: int64\n"
     ]
    }
   ],
   "source": [
    "# create a hero. The same can be done with Hero.from_name('Anti-Mage')\n",
    "am = Hero(1)\n",
    "# get laninng info.\n",
    "# Note that laning, roles and hero type are read from the game files and sometimes can be strange.\n",
    "print(am.get_laning_info())"
   ]
  },
  {
   "cell_type": "code",
   "execution_count": 3,
   "metadata": {
    "collapsed": false
   },
   "outputs": [
    {
     "data": {
      "text/plain": [
       "Disabler     0\n",
       "Nuker        1\n",
       "Escape       3\n",
       "Durable      0\n",
       "Initiator    0\n",
       "Pusher       0\n",
       "Support      0\n",
       "Jungler      0\n",
       "Carry        3\n",
       "dtype: object"
      ]
     },
     "execution_count": 3,
     "metadata": {},
     "output_type": "execute_result"
    }
   ],
   "source": [
    "# TODO: class methods to get list of columns which represent type, role and laning.\n",
    "am.get_roles()"
   ]
  },
  {
   "cell_type": "code",
   "execution_count": 4,
   "metadata": {
    "collapsed": false
   },
   "outputs": [
    {
     "data": {
      "text/plain": [
       "ganker          0\n",
       "hard_carry      1\n",
       "nuker           0\n",
       "pure_support    0\n",
       "push_support    0\n",
       "semi_carry      0\n",
       "stun_support    0\n",
       "tank            0\n",
       "dtype: int64"
      ]
     },
     "execution_count": 4,
     "metadata": {},
     "output_type": "execute_result"
    }
   ],
   "source": [
    "am.get_hero_type()"
   ]
  },
  {
   "cell_type": "code",
   "execution_count": 5,
   "metadata": {
    "collapsed": false
   },
   "outputs": [
    {
     "name": "stdout",
     "output_type": "stream",
     "text": [
      "Anti-Mage stats on lvl 1\n",
      "\tstrength   = 22\n",
      "\tagility    = 22\n",
      "\tintellect  = 15\n",
      "\t...\n"
     ]
    }
   ],
   "source": [
    "# You can use attributes to get some hero properties which depends on lvl, examples:\n",
    "print('Anti-Mage stats on lvl {}'.format(am.lvl))\n",
    "print('\\tstrength   = {}'.format(am.str))\n",
    "print('\\tagility    = {}'.format(am.agi))\n",
    "print('\\tintellect  = {}'.format(am.int))\n",
    "print('\\t...')"
   ]
  },
  {
   "cell_type": "code",
   "execution_count": 13,
   "metadata": {
    "collapsed": false
   },
   "outputs": [
    {
     "name": "stdout",
     "output_type": "stream",
     "text": [
      "{'RequiresSetup': 1, 'AttributeIntelligenceGain': 1.8, 'HeroType': 'DOTA_BOT_HARD_CARRY', 'AttributeBaseStrength': 22, 'AttackDamageMin': 27, 'AttributeStrengthGain': 1.2, 'ProvidesBabysit': 0, 'SurvivalRating': 2, 'AttributeBaseIntelligence': 15, 'AttributePrimary': 'DOTA_ATTRIBUTE_AGILITY', 'AttackAcquisitionRange': 600, 'ProvidesSetup': 0, 'MovementTurnRate': 0.5, 'Role': 'Carry,Escape,Nuker', 'RequiresBabysit': 2, 'AttackRate': 1.45, 'Rolelevels': '3,3,1', 'AttributeBaseAgility': 22, 'aliases': 'am', 'AttackDamageMax': 31, 'SoloDesire': 1, 'MovementSpeed': 315, 'AttackCapabilities': 'DOTA_UNIT_CAP_MELEE_ATTACK', 'HeroID': 1, 'AttackRange': 150, 'RequiresFarm': 2, 'ArmorPhysical': -1.0, 'in_game_name': 'antimage', 'AttackAnimationPoint': 0.3, 'Team': 'Good', 'AttributeAgilityGain': 2.8}\n"
     ]
    }
   ],
   "source": [
    "# Also you can get all the specs. This is the dictionary with a lot of parameters.\n",
    "print(am.specs)"
   ]
  },
  {
   "cell_type": "code",
   "execution_count": 14,
   "metadata": {
    "collapsed": false
   },
   "outputs": [
    {
     "data": {
      "text/plain": [
       "ArmorPhysical                                        -1\n",
       "AttackAcquisitionRange                              600\n",
       "AttackAnimationPoint                                0.3\n",
       "AttackCapabilities           DOTA_UNIT_CAP_MELEE_ATTACK\n",
       "AttackDamageMax                                      31\n",
       "AttackDamageMin                                      27\n",
       "AttackRange                                         150\n",
       "AttackRate                                         1.45\n",
       "AttributeAgilityGain                                2.8\n",
       "AttributeBaseAgility                                 22\n",
       "AttributeBaseIntelligence                            15\n",
       "AttributeBaseStrength                                22\n",
       "AttributeIntelligenceGain                           1.8\n",
       "AttributePrimary                 DOTA_ATTRIBUTE_AGILITY\n",
       "AttributeStrengthGain                               1.2\n",
       "HeroID                                                1\n",
       "HeroType                            DOTA_BOT_HARD_CARRY\n",
       "MovementSpeed                                       315\n",
       "MovementTurnRate                                    0.5\n",
       "ProvidesBabysit                                       0\n",
       "ProvidesSetup                                         0\n",
       "RequiresBabysit                                       2\n",
       "RequiresFarm                                          2\n",
       "RequiresSetup                                         1\n",
       "Role                                 Carry,Escape,Nuker\n",
       "Rolelevels                                        3,3,1\n",
       "SoloDesire                                            1\n",
       "SurvivalRating                                        2\n",
       "Team                                               Good\n",
       "aliases                                              am\n",
       "                                        ...            \n",
       "label_attack_debuff                                   0\n",
       "label_attribute_gain                                  1\n",
       "label_based_on_attr                                   0\n",
       "label_chance                                          0\n",
       "label_daytime_dependent                               0\n",
       "label_durability                                      1\n",
       "label_escape                                          1\n",
       "label_global                                          0\n",
       "label_heal                                            0\n",
       "label_illusions                                       0\n",
       "label_in_percents                                     0\n",
       "label_invis                                           0\n",
       "label_lifesteal                                       0\n",
       "label_move_speed_buff                                 0\n",
       "label_multiply_heroes                                 0\n",
       "label_non_hero                                        0\n",
       "label_nuke                                            1\n",
       "label_period_damage                                   0\n",
       "label_purge                                           0\n",
       "label_regen                                           0\n",
       "label_save                                            0\n",
       "label_shield                                          0\n",
       "label_silence                                         0\n",
       "label_slow                                            0\n",
       "label_stacks                                          0\n",
       "label_stun                                            2\n",
       "label_summon_unit                                     0\n",
       "label_transformation                                  0\n",
       "label_vision                                          0\n",
       "name                                          Anti-Mage\n",
       "dtype: object"
      ]
     },
     "execution_count": 14,
     "metadata": {},
     "output_type": "execute_result"
    }
   ],
   "source": [
    "# Description contain not only information about the hero, \n",
    "# but also about its abilities. Abilities info represented by an\n",
    "# abstraction -- labels. They show what ability does and how.\n",
    "# All labels keys in the description starts with 'label_'.\n",
    "am.get_description()"
   ]
  },
  {
   "cell_type": "code",
   "execution_count": null,
   "metadata": {
    "collapsed": true
   },
   "outputs": [],
   "source": [
    ""
   ]
  }
 ],
 "metadata": {
  "kernelspec": {
   "display_name": "Python 3",
   "language": "python",
   "name": "python3"
  },
  "language_info": {
   "codemirror_mode": {
    "name": "ipython",
    "version": 3.0
   },
   "file_extension": ".py",
   "mimetype": "text/x-python",
   "name": "python",
   "nbconvert_exporter": "python",
   "pygments_lexer": "ipython3",
   "version": "3.5.0"
  }
 },
 "nbformat": 4,
 "nbformat_minor": 0
}