{
 "cells": [
  {
   "cell_type": "code",
   "execution_count": 1,
   "metadata": {
    "collapsed": false
   },
   "outputs": [],
   "source": [
    "from atod import Hero, Heroes"
   ]
  },
  {
   "cell_type": "code",
   "execution_count": 2,
   "metadata": {
    "collapsed": false
   },
   "outputs": [
    {
     "name": "stdout",
     "output_type": "stream",
     "text": [
      "Anti-Mage stats on lvl 1\n",
      "\tstrength   = 22\n",
      "\tagility    = 22\n",
      "\tintellect  = 15\n",
      "\t...\n"
     ]
    }
   ],
   "source": [
    "# create a hero. The same can be done with Hero.from_name('Anti-Mage')\n",
    "am = Hero(1)\n",
    "# You can use attributes to get some hero properties which depends on lvl, examples:\n",
    "print('Anti-Mage stats on lvl {}'.format(am.lvl))\n",
    "print('\\tstrength   = {}'.format(am.str))\n",
    "print('\\tagility    = {}'.format(am.agi))\n",
    "print('\\tintellect  = {}'.format(am.int))\n",
    "print('\\t...')"
   ]
  },
  {
   "cell_type": "code",
   "execution_count": 3,
   "metadata": {
    "collapsed": false
   },
   "outputs": [
    {
     "name": "stdout",
     "output_type": "stream",
     "text": [
      "{'HeroID': 1, 'ProvidesSetup': 0, 'ArmorPhysical': -1.0, 'RequiresBabysit': 2, 'AttributeBaseIntelligence': 15, 'RequiresSetup': 1, 'MovementSpeed': 315, 'AttributeBaseStrength': 22, 'SoloDesire': 1, 'MovementTurnRate': 0.5, 'name': 'Anti-Mage', 'AttackAnimationPoint': 0.3, 'in_game_name': 'antimage', 'AttackRate': 1.45, 'AttributePrimary': 'DOTA_ATTRIBUTE_AGILITY', 'ProvidesBabysit': 0, 'aliases': 'am', 'AttributeAgilityGain': 2.8, 'AttackCapabilities': 'DOTA_UNIT_CAP_MELEE_ATTACK', 'AttackDamageMax': 31, 'AttackAcquisitionRange': 600, 'AttributeIntelligenceGain': 1.8, 'SurvivalRating': 2, 'AttributeBaseAgility': 22, 'AttackRange': 150, 'AttackDamageMin': 27, 'Team': 'Good', 'AttributeStrengthGain': 1.2, 'RequiresFarm': 2, 'Role': 'Carry,Escape,Nuker', 'HeroType': 'DOTA_BOT_HARD_CARRY', 'Rolelevels': '3,3,1'}\n"
     ]
    }
   ],
   "source": [
    "# Also you can get all the specs. This is the dictionary with a lot of parameters.\n",
    "print(am.specs)"
   ]
  },
  {
   "cell_type": "code",
   "execution_count": 4,
   "metadata": {
    "collapsed": false
   },
   "outputs": [
    {
     "name": "stdout",
     "output_type": "stream",
     "text": [
      "laning_provides_babysit    0\n",
      "laning_provides_setup      0\n",
      "laning_requires_babysit    2\n",
      "laning_requires_farm       2\n",
      "laning_requires_setup      1\n",
      "laning_solo_desire         1\n",
      "laning_survival_rating     2\n",
      "dtype: int64\n"
     ]
    }
   ],
   "source": [
    "# Get laninng info.\n",
    "# Note that laning, roles and hero type are read from the game files and sometimes can be strange.\n",
    "print(am.get_description(include=['laning']))"
   ]
  },
  {
   "cell_type": "code",
   "execution_count": 5,
   "metadata": {
    "collapsed": false,
    "scrolled": true
   },
   "outputs": [
    {
     "data": {
      "text/plain": [
       "role_disabler     0.0\n",
       "role_nuker        1.0\n",
       "role_escape       3.0\n",
       "role_durable      0.0\n",
       "role_initiator    0.0\n",
       "role_pusher       0.0\n",
       "role_support      0.0\n",
       "role_jungler      0.0\n",
       "role_carry        3.0\n",
       "dtype: float64"
      ]
     },
     "execution_count": 5,
     "metadata": {},
     "output_type": "execute_result"
    }
   ],
   "source": [
    "am.get_description(include=['role'])"
   ]
  },
  {
   "cell_type": "code",
   "execution_count": 6,
   "metadata": {
    "collapsed": false
   },
   "outputs": [
    {
     "data": {
      "text/plain": [
       "type_ganker          0\n",
       "type_hard_carry      1\n",
       "type_nuker           0\n",
       "type_pure_support    0\n",
       "type_push_support    0\n",
       "type_semi_carry      0\n",
       "type_stun_support    0\n",
       "type_tank            0\n",
       "dtype: int64"
      ]
     },
     "execution_count": 6,
     "metadata": {},
     "output_type": "execute_result"
    }
   ],
   "source": [
    "am.get_description(include=['type'])"
   ]
  }
 ],
 "metadata": {
  "kernelspec": {
   "display_name": "Python 3",
   "language": "python",
   "name": "python3"
  },
  "language_info": {
   "codemirror_mode": {
    "name": "ipython",
    "version": 3
   },
   "file_extension": ".py",
   "mimetype": "text/x-python",
   "name": "python",
   "nbconvert_exporter": "python",
   "pygments_lexer": "ipython3",
   "version": "3.5.0"
  }
 },
 "nbformat": 4,
 "nbformat_minor": 0
}
