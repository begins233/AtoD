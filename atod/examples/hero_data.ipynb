{
 "cells": [
  {
   "cell_type": "code",
   "execution_count": 1,
   "metadata": {
    "collapsed": false
   },
   "outputs": [],
   "source": [
    "from atod import Hero, Heroes"
   ]
  },
  {
   "cell_type": "code",
   "execution_count": 2,
   "metadata": {
    "collapsed": false
   },
   "outputs": [
    {
     "name": "stdout",
     "output_type": "stream",
     "text": [
      "laning_provides_babysit    0\n",
      "laning_provides_setup      0\n",
      "laning_requires_babysit    2\n",
      "laning_requires_farm       2\n",
      "laning_requires_setup      1\n",
      "laning_solo_desire         1\n",
      "laning_survival_rating     2\n",
      "dtype: int64\n"
     ]
    }
   ],
   "source": [
    "# create a hero. The same can be done with Hero.from_name('Anti-Mage')\n",
    "am = Hero(1)\n",
    "# get laninng info.\n",
    "# Note that laning, roles and hero type are read from the game files and sometimes can be strange.\n",
    "print(am.get_laning_info())"
   ]
  },
  {
   "cell_type": "code",
   "execution_count": 3,
   "metadata": {
    "collapsed": false,
    "scrolled": true
   },
   "outputs": [
    {
     "data": {
      "text/plain": [
       "role_carry     3\n",
       "role_escape    3\n",
       "role_nuker     1\n",
       "dtype: int64"
      ]
     },
     "execution_count": 3,
     "metadata": {},
     "output_type": "execute_result"
    }
   ],
   "source": [
    "# TODO: class methods to get list of columns which represent type, role and laning.\n",
    "am.get_roles()"
   ]
  },
  {
   "cell_type": "code",
   "execution_count": 4,
   "metadata": {
    "collapsed": false
   },
   "outputs": [
    {
     "data": {
      "text/plain": [
       "type_ganker          0\n",
       "type_hard_carry      1\n",
       "type_nuker           0\n",
       "type_pure_support    0\n",
       "type_push_support    0\n",
       "type_semi_carry      0\n",
       "type_stun_support    0\n",
       "type_tank            0\n",
       "dtype: int64"
      ]
     },
     "execution_count": 4,
     "metadata": {},
     "output_type": "execute_result"
    }
   ],
   "source": [
    "am.get_hero_type()"
   ]
  },
  {
   "cell_type": "code",
   "execution_count": 5,
   "metadata": {
    "collapsed": false
   },
   "outputs": [
    {
     "name": "stdout",
     "output_type": "stream",
     "text": [
      "Anti-Mage stats on lvl 1\n",
      "\tstrength   = 22\n",
      "\tagility    = 22\n",
      "\tintellect  = 15\n",
      "\t...\n"
     ]
    }
   ],
   "source": [
    "# You can use attributes to get some hero properties which depends on lvl, examples:\n",
    "print('Anti-Mage stats on lvl {}'.format(am.lvl))\n",
    "print('\\tstrength   = {}'.format(am.str))\n",
    "print('\\tagility    = {}'.format(am.agi))\n",
    "print('\\tintellect  = {}'.format(am.int))\n",
    "print('\\t...')"
   ]
  },
  {
   "cell_type": "code",
   "execution_count": 6,
   "metadata": {
    "collapsed": false
   },
   "outputs": [
    {
     "name": "stdout",
     "output_type": "stream",
     "text": [
      "{'AttackDamageMax': 31, 'AttackAcquisitionRange': 600, 'SurvivalRating': 2, 'RequiresSetup': 1, 'RequiresFarm': 2, 'AttackRate': 1.45, 'in_game_name': 'antimage', 'AttributeStrengthGain': 1.2, 'AttributePrimary': 'DOTA_ATTRIBUTE_AGILITY', 'AttackDamageMin': 27, 'AttributeBaseAgility': 22, 'ProvidesSetup': 0, 'HeroID': 1, 'MovementTurnRate': 0.5, 'aliases': 'am', 'AttackCapabilities': 'DOTA_UNIT_CAP_MELEE_ATTACK', 'AttributeBaseStrength': 22, 'AttackAnimationPoint': 0.3, 'RequiresBabysit': 2, 'ArmorPhysical': -1.0, 'Team': 'Good', 'AttributeAgilityGain': 2.8, 'Role': 'Carry,Escape,Nuker', 'SoloDesire': 1, 'MovementSpeed': 315, 'AttackRange': 150, 'AttributeBaseIntelligence': 15, 'Rolelevels': '3,3,1', 'ProvidesBabysit': 0, 'AttributeIntelligenceGain': 1.8, 'HeroType': 'DOTA_BOT_HARD_CARRY'}\n"
     ]
    }
   ],
   "source": [
    "# Also you can get all the specs. This is the dictionary with a lot of parameters.\n",
    "print(am.specs)"
   ]
  },
  {
   "cell_type": "code",
   "execution_count": 7,
   "metadata": {
    "collapsed": false
   },
   "outputs": [
    {
     "data": {
      "text/plain": [
       "ArmorPhysical                                                  -1\n",
       "AttackAcquisitionRange                                        600\n",
       "AttackAnimationPoint                                          0.3\n",
       "AttackCapabilities                     DOTA_UNIT_CAP_MELEE_ATTACK\n",
       "AttackDamageMax                                                31\n",
       "AttackDamageMin                                                27\n",
       "AttackRange                                                   150\n",
       "AttackRate                                                   1.45\n",
       "AttributeAgilityGain                                          2.8\n",
       "AttributeBaseAgility                                           22\n",
       "AttributeBaseIntelligence                                      15\n",
       "AttributeBaseStrength                                          22\n",
       "AttributeIntelligenceGain                                     1.8\n",
       "AttributePrimary                           DOTA_ATTRIBUTE_AGILITY\n",
       "AttributeStrengthGain                                         1.2\n",
       "HeroID                                                          1\n",
       "HeroType                                      DOTA_BOT_HARD_CARRY\n",
       "MovementSpeed                                                 315\n",
       "MovementTurnRate                                              0.5\n",
       "ProvidesBabysit                                                 0\n",
       "ProvidesSetup                                                   0\n",
       "RequiresBabysit                                                 2\n",
       "RequiresFarm                                                    2\n",
       "RequiresSetup                                                   1\n",
       "Role                                           Carry,Escape,Nuker\n",
       "Rolelevels                                                  3,3,1\n",
       "SoloDesire                                                      1\n",
       "SurvivalRating                                                  2\n",
       "Team                                                         Good\n",
       "aliases                                                        am\n",
       "                                             ...                 \n",
       "label_attack_debuff                                             0\n",
       "label_attribute_gain                                            1\n",
       "label_based_on_attr                                             0\n",
       "label_chance                                                    0\n",
       "label_daytime_dependent                                         0\n",
       "label_durability                                                1\n",
       "label_escape                                                    1\n",
       "label_global                                                    0\n",
       "label_heal                                                      0\n",
       "label_illusions                                                 0\n",
       "label_in_percents                                               0\n",
       "label_invis                                                     0\n",
       "label_lifesteal                                                 0\n",
       "label_move_speed_buff                                           0\n",
       "label_multiply_heroes                                           0\n",
       "label_non_hero                                                  0\n",
       "label_nuke                                                      1\n",
       "label_period_damage                                             0\n",
       "label_purge                                                     0\n",
       "label_regen                                                     0\n",
       "label_save                                                      0\n",
       "label_shield                                                    0\n",
       "label_silence                                                   0\n",
       "label_slow                                                      0\n",
       "label_stacks                                                    0\n",
       "label_stun                                                      2\n",
       "label_summon_unit                                               0\n",
       "label_transformation                                            0\n",
       "label_vision                                                    0\n",
       "name                         mana_breakblinkspell_shieldmana_void\n",
       "dtype: object"
      ]
     },
     "execution_count": 7,
     "metadata": {},
     "output_type": "execute_result"
    }
   ],
   "source": [
    "# Description contain not only information about the hero, \n",
    "# but also about its abilities. Abilities info represented by an\n",
    "# abstraction -- labels. They show what ability does and how.\n",
    "# All labels keys in the description starts with 'label_'.\n",
    "am.get_description()"
   ]
  },
  {
   "cell_type": "code",
   "execution_count": 8,
   "metadata": {
    "collapsed": false
   },
   "outputs": [
    {
     "data": {
      "text/plain": [
       "armor_physical                        -1\n",
       "attack_acquisition_range             600\n",
       "attack_animation_point               0.3\n",
       "attack_damage_max                     31\n",
       "attack_damage_min                     27\n",
       "attack_range                         150\n",
       "attack_rate                         1.45\n",
       "attribute_agility_gain               2.8\n",
       "attribute_base_agility                22\n",
       "attribute_base_intelligence           15\n",
       "attribute_base_strength               22\n",
       "attribute_intelligence_gain          1.8\n",
       "attribute_strength_gain              1.2\n",
       "movement_speed                       315\n",
       "movement_turn_rate                   0.5\n",
       "role_carry                             3\n",
       "role_escape                            3\n",
       "role_nuker                             1\n",
       "primary_attribute_agility              1\n",
       "primary_attribute_intellect            0\n",
       "primary_attribute_strength             0\n",
       "type_ganker                            0\n",
       "type_hard_carry                        1\n",
       "type_nuker                             0\n",
       "type_pure_support                      0\n",
       "type_push_support                      0\n",
       "type_semi_carry                        0\n",
       "type_stun_support                      0\n",
       "type_tank                              0\n",
       "laning_provides_babysit                0\n",
       "laning_provides_setup                  0\n",
       "laning_requires_babysit                2\n",
       "laning_requires_farm                   2\n",
       "laning_requires_setup                  1\n",
       "laning_solo_desire                     1\n",
       "laning_survival_rating                 2\n",
       "name                           Anti-Mage\n",
       "dtype: object"
      ]
     },
     "execution_count": 8,
     "metadata": {},
     "output_type": "execute_result"
    }
   ],
   "source": [
    "am.get_bin_description()"
   ]
  },
  {
   "cell_type": "code",
   "execution_count": null,
   "metadata": {
    "collapsed": true
   },
   "outputs": [],
   "source": []
  }
 ],
 "metadata": {
  "kernelspec": {
   "display_name": "Python 3",
   "language": "python",
   "name": "python3"
  },
  "language_info": {
   "codemirror_mode": {
    "name": "ipython",
    "version": 3
   },
   "file_extension": ".py",
   "mimetype": "text/x-python",
   "name": "python",
   "nbconvert_exporter": "python",
   "pygments_lexer": "ipython3",
   "version": "3.5.0"
  }
 },
 "nbformat": 4,
 "nbformat_minor": 0
}
