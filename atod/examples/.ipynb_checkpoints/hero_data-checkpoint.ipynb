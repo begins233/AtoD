{
 "cells": [
  {
   "cell_type": "code",
   "execution_count": 1,
   "metadata": {
    "collapsed": false
   },
   "outputs": [],
   "source": [
    "from atod import Hero, Heroes"
   ]
  },
  {
   "cell_type": "code",
   "execution_count": 2,
   "metadata": {
    "collapsed": false
   },
   "outputs": [
    {
     "name": "stdout",
     "output_type": "stream",
     "text": [
      "Anti-Mage stats on lvl 1\n",
      "\tstrength   = 22\n",
      "\tagility    = 22\n",
      "\tintellect  = 15\n",
      "\t...\n"
     ]
    }
   ],
   "source": [
    "# create a hero. The same can be done with Hero.from_name('Anti-Mage')\n",
    "am = Hero(1)\n",
    "# You can use attributes to get some hero properties which depends on lvl, examples:\n",
    "print('Anti-Mage stats on lvl {}'.format(am.lvl))\n",
    "print('\\tstrength   = {}'.format(am.str))\n",
    "print('\\tagility    = {}'.format(am.agi))\n",
    "print('\\tintellect  = {}'.format(am.int))\n",
    "print('\\t...')"
   ]
  },
  {
   "cell_type": "code",
   "execution_count": 3,
   "metadata": {
    "collapsed": false
   },
   "outputs": [
    {
     "name": "stdout",
     "output_type": "stream",
     "text": [
      "{'AttributeIntelligenceGain': 1.8, 'SoloDesire': 1, 'AttributePrimary': 'DOTA_ATTRIBUTE_AGILITY', 'AttackDamageMax': 31, 'MovementTurnRate': 0.5, 'in_game_name': 'antimage', 'AttackRate': 1.45, 'AttackRange': 150, 'AttackAcquisitionRange': 600, 'name': 'Anti-Mage', 'Team': 'Good', 'HeroType': 'DOTA_BOT_HARD_CARRY', 'Role': 'Carry,Escape,Nuker', 'RequiresBabysit': 2, 'SurvivalRating': 2, 'AttributeStrengthGain': 1.2, 'RequiresFarm': 2, 'ProvidesSetup': 0, 'ProvidesBabysit': 0, 'AttackAnimationPoint': 0.3, 'aliases': 'am', 'AttributeBaseAgility': 22, 'AttributeBaseStrength': 22, 'AttackDamageMin': 27, 'RequiresSetup': 1, 'MovementSpeed': 315, 'AttackCapabilities': 'DOTA_UNIT_CAP_MELEE_ATTACK', 'AttributeBaseIntelligence': 15, 'Rolelevels': '3,3,1', 'ArmorPhysical': -1.0, 'HeroID': 1, 'AttributeAgilityGain': 2.8}\n"
     ]
    }
   ],
   "source": [
    "# Also you can get all the specs. This is the dictionary with a lot of parameters.\n",
    "print(am.specs)"
   ]
  },
  {
   "cell_type": "code",
   "execution_count": 4,
   "metadata": {
    "collapsed": false
   },
   "outputs": [
    {
     "name": "stdout",
     "output_type": "stream",
     "text": [
      "laning_provides_babysit    0\n",
      "laning_provides_setup      0\n",
      "laning_requires_babysit    2\n",
      "laning_requires_farm       2\n",
      "laning_requires_setup      1\n",
      "laning_solo_desire         1\n",
      "laning_survival_rating     2\n",
      "dtype: int64\n"
     ]
    }
   ],
   "source": [
    "# Get laninng info.\n",
    "# Note that laning, roles and hero type are read from the game files and sometimes can be strange.\n",
    "print(am.get_description(include=['laning']))"
   ]
  },
  {
   "cell_type": "code",
   "execution_count": 5,
   "metadata": {
    "collapsed": false,
    "scrolled": true
   },
   "outputs": [
    {
     "data": {
      "text/plain": [
       "role_disabler     0.0\n",
       "role_nuker        1.0\n",
       "role_escape       3.0\n",
       "role_durable      0.0\n",
       "role_initiator    0.0\n",
       "role_pusher       0.0\n",
       "role_support      0.0\n",
       "role_jungler      0.0\n",
       "role_carry        3.0\n",
       "dtype: float64"
      ]
     },
     "execution_count": 5,
     "metadata": {},
     "output_type": "execute_result"
    }
   ],
   "source": [
    "am.get_description(include=['role'])"
   ]
  },
  {
   "cell_type": "code",
   "execution_count": 6,
   "metadata": {
    "collapsed": false
   },
   "outputs": [
    {
     "ename": "SyntaxError",
     "evalue": "invalid syntax (<ipython-input-6-8c6372c7d0db>, line 1)",
     "output_type": "error",
     "traceback": [
      "\u001b[0;36m  File \u001b[0;32m\"<ipython-input-6-8c6372c7d0db>\"\u001b[0;36m, line \u001b[0;32m1\u001b[0m\n\u001b[0;31m    am.get_description(include=['type']))\u001b[0m\n\u001b[0m                                        ^\u001b[0m\n\u001b[0;31mSyntaxError\u001b[0m\u001b[0;31m:\u001b[0m invalid syntax\n"
     ]
    }
   ],
   "source": [
    "am.get_description(include=['type'])"
   ]
  }
 ],
 "metadata": {
  "kernelspec": {
   "display_name": "Python 3",
   "language": "python",
   "name": "python3"
  },
  "language_info": {
   "codemirror_mode": {
    "name": "ipython",
    "version": 3
   },
   "file_extension": ".py",
   "mimetype": "text/x-python",
   "name": "python",
   "nbconvert_exporter": "python",
   "pygments_lexer": "ipython3",
   "version": "3.5.0"
  }
 },
 "nbformat": 4,
 "nbformat_minor": 0
}
