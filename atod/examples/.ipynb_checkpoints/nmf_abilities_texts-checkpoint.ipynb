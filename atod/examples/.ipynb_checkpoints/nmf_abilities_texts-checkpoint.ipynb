{
 "cells": [
  {
   "cell_type": "markdown",
   "metadata": {
    "collapsed": true
   },
   "source": [
    "# Topic modeling of abilities texts\n",
    "In this file I'm trying to cluster the abilities by performing topic modeling (with NMF decomposition) on their descriptions."
   ]
  },
  {
   "cell_type": "code",
   "execution_count": 1,
   "metadata": {
    "collapsed": false
   },
   "outputs": [],
   "source": [
    "import pandas as pd\n",
    "from sklearn.feature_extraction.text import TfidfVectorizer\n",
    "from sklearn.decomposition import NMF, LatentDirichletAllocation\n",
    "from nltk.stem.snowball import EnglishStemmer\n",
    "\n",
    "from atod import Abilities, Heroes"
   ]
  },
  {
   "cell_type": "markdown",
   "metadata": {},
   "source": [
    "## NMF"
   ]
  },
  {
   "cell_type": "code",
   "execution_count": 2,
   "metadata": {
    "collapsed": false
   },
   "outputs": [
    {
     "name": "stdout",
     "output_type": "stream",
     "text": [
      "No abilities for this HeroID == 16\n"
     ]
    }
   ],
   "source": [
    "# create stop-words list\n",
    "heroes = Heroes.all()\n",
    "heroes_names = [h.name for h in heroes]\n",
    "# names of heroes commonly occur in descriptions, so\n",
    "# deleting them is a good idea\n",
    "words_in_heroes_names = [word.lower() for name in heroes_names for word in name.split(' ')]\n",
    "\n",
    "eng_stop_words = TfidfVectorizer(stop_words='english').get_stop_words()\n",
    "stop_words = set(words_in_heroes_names + list(eng_stop_words) \n",
    "                 + ['font', 'color', '7998b5', 'target', 'enemy', 'friendly', 'allied',\n",
    "                    'remnant', 'aghanim', 'scepter', 'units', 'deal damage'])"
   ]
  },
  {
   "cell_type": "code",
   "execution_count": 3,
   "metadata": {
    "collapsed": false
   },
   "outputs": [],
   "source": [
    "# get all texts for all abilities\n",
    "texts = Abilities.all().get_texts()\n",
    "# get abilities names and  descriptions\n",
    "descriptions = texts[['description', 'name']]\n",
    "corpus = [a.replace('\\\\n', ' ').replace('%%', '%') for a in descriptions['description']]\n",
    "corpus.extend(['stun', 'silence', 'short distance teleportation', \n",
    "               'prevents casting spells', 'invisibility', 'area',\n",
    "               'critical damage'])\n",
    "\n",
    "stemmer = EnglishStemmer()\n",
    "stemmed_corpus = []\n",
    "for doc in corpus:\n",
    "    stemmed_corpus.append(' '.join([stemmer.stem(word) for word in doc.split(' ')]))\n",
    "\n",
    "corpus = stemmed_corpus"
   ]
  },
  {
   "cell_type": "code",
   "execution_count": 4,
   "metadata": {
    "collapsed": false
   },
   "outputs": [
    {
     "data": {
      "text/plain": [
       "(495, 1556)"
      ]
     },
     "execution_count": 4,
     "metadata": {},
     "output_type": "execute_result"
    }
   ],
   "source": [
    "tfidf_vectorizer = TfidfVectorizer(max_df=0.95, min_df=2,  \n",
    "                                   stop_words=stop_words,\n",
    "                                   ngram_range=(1,3))\n",
    "tfidf_vectorizer.fit(corpus)\n",
    "tf_corpus = tfidf_vectorizer.transform(corpus)\n",
    "tf_features_names = tfidf_vectorizer.get_feature_names()\n",
    "\n",
    "tf_corpus.shape"
   ]
  },
  {
   "cell_type": "code",
   "execution_count": 5,
   "metadata": {
    "collapsed": false,
    "scrolled": true
   },
   "outputs": [
    {
     "name": "stdout",
     "output_type": "stream",
     "text": [
      "Topic 0:\n",
      "unit, enemi unit, enemi, send, beast, swarm, radius, deal random, unit damag, upgrad\n",
      "Topic 1:\n",
      "movement speed, movement, speed, increas movement speed, increas movement, increas, movement speed attack, speed attack, attack movement speed, bonus movement speed\n",
      "Topic 2:\n",
      "dispel, type, dispel type, type basic dispel, type basic, basic dispel, dispel type basic, basic, upgrad dispel, upgrad dispel type\n",
      "Topic 3:\n",
      "damag enemi, damag enemi unit, deal damag enemi, damag, enemi unit, deal damag, deal, wave, enemi, unit\n",
      "Topic 4:\n",
      "nearbi enemi, nearbi, enemi, nearbi enemi unit, burn, damag nearbi enemi, damag nearbi, radius, struck, damag\n",
      "Topic 5:\n",
      "level, base level, base, invok, quas, base level quas, level quas, cabe68, cabe68 exort, exort\n",
      "Topic 6:\n",
      "alli, nearbi alli, magic, heal, grant, resistance, protect, nearbi, heal nearbi, heal nearbi alli\n",
      "Topic 7:\n",
      "slow, damag slow, slow movement, damag slow movement, slow movement speed, slow enemi, movement, damag, deal damag slow, slow enemi unit\n",
      "Topic 8:\n",
      "area, unit area, enemi unit area, deton, area effect, area deal, raze area deal, raze area, raze, area deal damag\n",
      "Topic 9:\n",
      "stun, damag stun, deal damag stun, damag, throw, deal, deal damag, stun deal, stun enemi, damag stun enemi\n",
      "Topic 10:\n",
      "damage, deal damage, deal, damage upgrad, physic damage, upgrad, magic damage, magic, physic, suck\n",
      "Topic 11:\n",
      "increas attack, attack speed, increas attack speed, increas, speed, attack, gain increas, gain increas attack, allies, furi\n",
      "Topic 12:\n",
      "armor, reduc, reduc armor, imag, presenc, seconds, enemi armor, reduct, armor seconds, water\n",
      "Topic 13:\n",
      "hero, enemi hero, enemi, upgrad, true sight, true, sight, steal, alli hero, kill\n",
      "Topic 14:\n",
      "health, percentag, current health, current, life, heal, drain, beam, heal percentag, enemi heal\n",
      "Topic 15:\n",
      "critic, strike, critic strike, ad, hit, chanc, victim, strike enemi, bounti, chanc deal\n",
      "Topic 16:\n",
      "gain, gain bonus, bonus, abilities, item, bonus damage, die, gain bonus damage, kill, damage\n",
      "Topic 17:\n",
      "mana, equal, mana pool, pool, uniqu, uniqu attack, lose, point mana, total mana, cost\n",
      "Topic 18:\n",
      "enemies, nearbi enemies, nearbi, damag nearbi enemies, damag nearbi, attacked, slow nearbi enemies, loos, let loos, let\n",
      "Topic 19:\n",
      "seconds, seconds upgrad, channel, upgrad, arriv, exist, everi, vortex, deal massiv, massiv\n",
      "Topic 20:\n",
      "friend, friend unit, heal, heal friend unit, heal friend, unit, friend unit damag, unit damag, unit heal, friend hero\n",
      "Topic 21:\n",
      "bonus, bonus damag, deal bonus, deal bonus damag, damag, grant, grant bonus, deal, buildings, attack enemi\n",
      "Topic 22:\n",
      "teleport, short distanc teleport, short distanc, distanc teleport, distanc, short, allow, teleport allow, distanc teleport allow, combat\n",
      "Topic 23:\n",
      "attack, slow attack, allow, great, attack movement, poison slow, slow, slow attack movement, attack slow, element\n",
      "Topic 24:\n",
      "path, spike, burst, stun damag, straight path, straight, hurl, stun damag fall, damag fall, air stun damag\n",
      "Topic 25:\n",
      "second, damag second, burn, deal damag second, golem, everi, damag, hp, max hp, everi second\n",
      "Topic 26:\n",
      "extra, extra damag, damag attack, deal extra, deal extra damag, chanc deal, chanc, deal, damag, briefli\n",
      "Topic 27:\n",
      "creat, illus, energi, creat illus, terrorblad, deal damage, fractur, banish, creat shield, barrier\n",
      "Topic 28:\n",
      "damag time, deal damag, time, deal, deal damag time, damag, poison, damag time slow, time slow, time enemi\n",
      "Topic 29:\n",
      "ward, summon, immun, ward attack, ward attack enemi, attack enemi, enemi unit structures, unit structures, structures, attack enemi unit\n",
      "Topic 30:\n",
      "invis, becom, hawk, becom invis, trap, plant invis, plant, attack use, attack use ability, use ability\n",
      "Topic 31:\n",
      "stone, grip, invulnerable, recharg, travel, stunned, smash, enemi hit, use abilities, location\n",
      "Topic 32:\n",
      "caus, miss, caus miss, attacks, silenc, miss attacks, caus miss attacks, blind, caus attack, chanc miss\n",
      "Topic 33:\n",
      "cast, spell, cast spell, prevent, spells, cast spells, silenc, prevent enemi, enchant, spells upgrad\n",
      "Topic 34:\n",
      "rang, attack rang, use, transform, vision, power, end, terrorblad, mele, form\n",
      "Topic 35:\n",
      "tree, place, trap, unit tree, trap place, path, unit trap, enemi unit tree, ring, tree path\n",
      "Topic 36:\n",
      "morphl, point, strength, agility, addit, shift, morph, form, grant bonus, morphl shift form\n",
      "Topic 37:\n",
      "ground, slam, slam ground, stun, stun damag, ground stun, slam ground stun, land, enemi land, stun damag nearbi\n",
      "Topic 38:\n",
      "creep, control, lifesteal, enemi creep, health, neutral, neutral creep, consum, host, bodi\n",
      "Topic 39:\n",
      "ani, ani enemi, snowbal, launch, teleport, teleport ani, path, tether, caught, locat\n"
     ]
    }
   ],
   "source": [
    "nmf = NMF(n_components=40, init='nndsvd').fit(tf_corpus)\n",
    "\n",
    "for topic_idx, topic in enumerate(nmf.components_):\n",
    "    print(\"Topic %d:\" % (topic_idx))\n",
    "    print(\", \".join([tf_features_names[i]\n",
    "                    for i in topic.argsort()[:-10 - 1:-1]]))"
   ]
  },
  {
   "cell_type": "code",
   "execution_count": 6,
   "metadata": {
    "collapsed": false,
    "scrolled": false
   },
   "outputs": [
    {
     "name": "stdout",
     "output_type": "stream",
     "text": [
      "fissure\n",
      "Slams the ground with a mighty totem, creating an impassable ridge of stone while stunning and damaging enemy units along its line.\n",
      "-------\n",
      "damag attack, extra damag, extra, \n",
      "slam ground, slam, ground, \n",
      "invulnerable, grip, stone, \n"
     ]
    }
   ],
   "source": [
    "# find the ability with `index` in descriptions DataFrame\n",
    "# and define categories of this ability\n",
    "index = 19\n",
    "test = tfidf_vectorizer.transform([descriptions['description'][index]])\n",
    "weights = nmf.transform(test)\n",
    "topics = weights.argsort()[0][-3:]\n",
    "\n",
    "print(descriptions['name'][index])\n",
    "print(descriptions['description'][index])\n",
    "print('-' * len(descriptions['name'][index]))\n",
    "\n",
    "for topic in topics:\n",
    "    for i in nmf.components_[topic].argsort()[-3:]:\n",
    "        print(tf_features_names[i], end=', ')\n",
    "        \n",
    "    print()"
   ]
  },
  {
   "cell_type": "code",
   "execution_count": 7,
   "metadata": {
    "collapsed": false
   },
   "outputs": [
    {
     "data": {
      "text/plain": [
       "<matplotlib.axes._subplots.AxesSubplot at 0x10d5190f0>"
      ]
     },
     "execution_count": 7,
     "metadata": {},
     "output_type": "execute_result"
    },
    {
     "data": {
      "image/png": "[encoded data removed]",
      "text/plain": [
       "<matplotlib.figure.Figure at 0x10bdc3e10>"
      ]
     },
     "metadata": {},
     "output_type": "display_data"
    }
   ],
   "source": [
    "# distribution of categories\n",
    "%matplotlib inline\n",
    "categories_dist = dict()\n",
    "skills_by_category = dict()\n",
    "\n",
    "for index, text in enumerate(descriptions['description']):\n",
    "    vect = tfidf_vectorizer.transform([text])\n",
    "    weights = nmf.transform(vect)\n",
    "    topics = weights.argsort()[0][-3:]\n",
    "    \n",
    "    for topic in topics:\n",
    "        # find words describing topic\n",
    "        for i in nmf.components_[topic].argsort()[-1:]:\n",
    "            skills_by_category.setdefault(tf_features_names[i], [])\n",
    "            skills_by_category[tf_features_names[i]].append(descriptions['name'][index])\n",
    "            \n",
    "# categories_dist = categories_dist.dropna()\n",
    "categories_dist = pd.Series({k: len(skills_by_category[k]) for k in skills_by_category})\n",
    "categories_dist.plot()"
   ]
  },
  {
   "cell_type": "code",
   "execution_count": 8,
   "metadata": {
    "collapsed": false
   },
   "outputs": [
    {
     "name": "stdout",
     "output_type": "stream",
     "text": [
      "NOTE: the name of category can be misleading, check the above example with fissure\n",
      "#categories 40\n",
      "alli               21\n",
      "ani                46\n",
      "area               59\n",
      "armor              23\n",
      "attack             85\n",
      "bonus              45\n",
      "cast               52\n",
      "caus               40\n",
      "creat              16\n",
      "creep              34\n",
      "critic             14\n",
      "damag enemi         9\n",
      "damag time         47\n",
      "damage            174\n",
      "dispel             25\n",
      "enemies            64\n",
      "extra              18\n",
      "friend             17\n",
      "gain               48\n",
      "ground             17\n",
      "health             53\n",
      "hero               25\n",
      "increas attack     30\n",
      "invis              24\n",
      "level              28\n",
      "mana               25\n",
      "morphl             26\n",
      "movement speed     77\n",
      "nearbi enemi        5\n",
      "path               24\n",
      "rang               37\n",
      "second             32\n",
      "seconds            56\n",
      "slow               16\n",
      "stone              45\n",
      "stun                9\n",
      "teleport           17\n",
      "tree               27\n",
      "unit               38\n",
      "ward               16\n",
      "dtype: int64\n"
     ]
    }
   ],
   "source": [
    "print('NOTE: the name of category can be misleading, check the above example with fissure')\n",
    "print('#categories', categories_dist.shape[0])\n",
    "print(categories_dist)"
   ]
  },
  {
   "cell_type": "code",
   "execution_count": 9,
   "metadata": {
    "collapsed": false
   },
   "outputs": [
    {
     "name": "stdout",
     "output_type": "stream",
     "text": [
      "['invis', 'phantom_edge', 'thundergods_wrath', 'sprint', 'tricks_of_the_trade', 'call_of_the_wild', 'hawk_invisibility', 'chronosphere', 'blur', 'meld', 'trap', 'wind_walk', 'darkness', 'wind_walk', 'shukuchi', 'flaming_lasso', 'storm_cyclone', 'earthbind', 'natures_guise', 'overgrowth', 'land_mines', 'stasis_trap', 'remote_mines', 'sunder']\n"
     ]
    }
   ],
   "source": [
    "# print abilities by category\n",
    "print(skills_by_category['invis'])"
   ]
  },
  {
   "cell_type": "code",
   "execution_count": 28,
   "metadata": {
    "collapsed": false
   },
   "outputs": [],
   "source": [
    "# print categories which were separated good enough from others\n",
    "unsorted_abilities = set()\n",
    "sorted_abilities = set()\n",
    "for category in skills_by_category:\n",
    "    if len(skills_by_category[category]) <= 30:\n",
    "        print(category)"
   ]
  }
 ],
 "metadata": {
  "kernelspec": {
   "display_name": "Python 3",
   "language": "python",
   "name": "python3"
  },
  "language_info": {
   "codemirror_mode": {
    "name": "ipython",
    "version": 3
   },
   "file_extension": ".py",
   "mimetype": "text/x-python",
   "name": "python",
   "nbconvert_exporter": "python",
   "pygments_lexer": "ipython3",
   "version": "3.5.0"
  }
 },
 "nbformat": 4,
 "nbformat_minor": 0
}
