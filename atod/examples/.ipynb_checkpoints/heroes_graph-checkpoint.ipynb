{
 "cells": [
  {
   "cell_type": "markdown",
   "metadata": {},
   "source": [
    "## IDEA\n",
    "Would be nice to find how good one hero works in combination with another. I thought it is possible to count such metric by doing the following:\n",
    "1. Get matches ids (for a patch, a year or any period)\n",
    "2. For all the ids create 2 vectors, representing a team (with help of Match class). Vector contain ids and result.\n",
    "3. Create an adjacency matrix W of the size (n_heroes X n_heroes)\n",
    "4. Go through all the vectors creted on the step 2 and\n",
    "    - add some small weight to the W\\[i\\][j] where i and j are heroes ids if the combination won. Do so for all posible combinations\n",
    "    - subtract the same small weight if a team lost"
   ]
  },
  {
   "cell_type": "code",
   "execution_count": null,
   "metadata": {
    "collapsed": true
   },
   "outputs": [],
   "source": []
  }
 ],
 "metadata": {
  "kernelspec": {
   "display_name": "Python 3",
   "language": "python",
   "name": "python3"
  },
  "language_info": {
   "codemirror_mode": {
    "name": "ipython",
    "version": 3
   },
   "file_extension": ".py",
   "mimetype": "text/x-python",
   "name": "python",
   "nbconvert_exporter": "python",
   "pygments_lexer": "ipython3",
   "version": "3.5.0"
  }
 },
 "nbformat": 4,
 "nbformat_minor": 0
}
