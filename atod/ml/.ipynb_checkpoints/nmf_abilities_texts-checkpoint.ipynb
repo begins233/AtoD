{
 "cells": [
  {
   "cell_type": "markdown",
   "metadata": {
    "collapsed": true
   },
   "source": [
    "# Topic modeling of abilities texts\n",
    "In this file I'm trying to cluster the abilities by performing topic modeling (with NMF decomposition) on their descriptions."
   ]
  },
  {
   "cell_type": "code",
   "execution_count": 1,
   "metadata": {
    "collapsed": false
   },
   "outputs": [],
   "source": [
    "from sklearn.feature_extraction.text import TfidfVectorizer\n",
    "from sklearn.decomposition import NMF\n",
    "from nltk.stem.snowball import EnglishStemmer\n",
    "\n",
    "from atod import Abilities, Heroes"
   ]
  },
  {
   "cell_type": "code",
   "execution_count": 2,
   "metadata": {
    "collapsed": false
   },
   "outputs": [
    {
     "name": "stdout",
     "output_type": "stream",
     "text": [
      "No abilities for this HeroID == 16\n"
     ]
    }
   ],
   "source": [
    "# create stop-words list\n",
    "heroes = Heroes.all()\n",
    "heroes_names = [h.name for h in heroes]\n",
    "# names of heroes commonly occur in descriptions, so\n",
    "# deleting them is a good idea\n",
    "words_in_heroes_names = [word.lower() for name in heroes_names for word in name.split(' ')]\n",
    "\n",
    "eng_stop_words = TfidfVectorizer(stop_words='english').get_stop_words()\n",
    "stop_words = set(words_in_heroes_names + list(eng_stop_words) \n",
    "                 + ['font', 'color', '7998b5'])"
   ]
  },
  {
   "cell_type": "code",
   "execution_count": 3,
   "metadata": {
    "collapsed": false
   },
   "outputs": [],
   "source": [
    "# get all texts for all abilities\n",
    "texts = Abilities.all().get_texts()\n",
    "# get abilities names and  descriptions\n",
    "descriptions = texts[['description', 'name']]\n",
    "corpus = [a.replace('\\\\n', ' ').replace('%%', '%') for a in descriptions['description']]\n",
    "corpus.extend(['stun', 'silence', 'short distance teleportation', 'casting spells'])\n",
    "\n",
    "stemmer = EnglishStemmer()\n",
    "stemmed_corpus = []\n",
    "for doc in corpus:\n",
    "    stemmed_corpus.append(' '.join([stemmer.stem(word) for word in doc.split(' ')])])\n",
    "\n",
    "corpus = stemmed_corpus"
   ]
  },
  {
   "cell_type": "code",
   "execution_count": 4,
   "metadata": {
    "collapsed": false
   },
   "outputs": [
    {
     "data": {
      "text/plain": [
       "(492, 1627)"
      ]
     },
     "execution_count": 4,
     "metadata": {},
     "output_type": "execute_result"
    }
   ],
   "source": [
    "tfidf_vectorizer = TfidfVectorizer(max_df=0.95, min_df=2,  \n",
    "                                   stop_words=stop_words,\n",
    "                                   ngram_range=(1,3))\n",
    "tfidf_vectorizer.fit(corpus)\n",
    "tf_corpus = tfidf_vectorizer.transform(corpus)\n",
    "tf_features_names = tfidf_vectorizer.get_feature_names()\n",
    "\n",
    "tf_corpus.shape"
   ]
  },
  {
   "cell_type": "code",
   "execution_count": 5,
   "metadata": {
    "collapsed": false,
    "scrolled": true
   },
   "outputs": [
    {
     "name": "stdout",
     "output_type": "stream",
     "text": [
      "Topic 0:\n",
      "unit, enemi unit, enemi, target, target unit, target enemi, target enemi unit, send, damag, unit damag\n",
      "Topic 1:\n",
      "upgrad aghanim scepter, scepter, upgrad aghanim, upgrad, aghanim, aghanim scepter, seconds upgrad aghanim, seconds upgrad, damage upgrad aghanim, damage upgrad\n",
      "Topic 2:\n",
      "movement speed, movement, speed, increas movement, increas movement speed, increas, slow movement, slow movement speed, movement speed attack, caus\n",
      "Topic 3:\n",
      "units, enemi units, nearbi enemi units, nearbi enemi, nearbi, enemi, damag nearbi, damag nearbi enemi, burn, damag\n",
      "Topic 4:\n",
      "dispel, type, dispel type, basic dispel, type basic dispel, type basic, dispel type basic, basic, strong dispel, strong\n",
      "Topic 5:\n",
      "bonus, bonus damag, deal bonus, deal bonus damag, damag, grant, grant bonus, deal, buildings, doubl\n",
      "Topic 6:\n",
      "level, base level, base, invok, quas, base level quas, level quas, exort, cabe68, cabe68 exort\n",
      "Topic 7:\n",
      "friend, friend unit, heal, heal friend, heal friend unit, unit, target friend, unit heal, target friend unit, friend unit damag\n",
      "Topic 8:\n",
      "slow, damag slow, slow enemi, slow movement, damag slow movement, slow movement speed, slow enemi unit, damag slow enemi, poison, damag\n",
      "Topic 9:\n",
      "target area, area, target, deton, enemi unit target, unit target area, unit target, caus, target area cast, area cast\n",
      "Topic 10:\n",
      "area, damag enemi, damag enemi unit, enemi unit area, unit area, deal damag enemi, area deal, raze, raze area, area deal damag\n",
      "Topic 11:\n",
      "stun, damag stun, stun damag, ground, slam, slam ground, damag, deal damag stun, stun damag enemi, throw\n",
      "Topic 12:\n",
      "attack, allow, rang, great, damag attack, attack rang, slow attack, attack slow, attack movement, element\n",
      "Topic 13:\n",
      "nearbi enemi unit, nearbi enemi, nearbi, radius, enemi unit, enemi, unit, seconds, rocket, trap\n",
      "Topic 14:\n",
      "hero, enemi hero, enemi, alli hero, alli, true sight, true, sight, steal, duration\n",
      "Topic 15:\n",
      "damage, deal damage, deal, creat, illus, creat illus, damage upgrad aghanim, damage upgrad, terrorblad, extra\n",
      "Topic 16:\n",
      "enemies, nearbi enemies, nearbi, damag nearbi, damag nearbi enemies, attacked, slow nearbi enemies, let loos, let, loos\n",
      "Topic 17:\n",
      "health, creep, percentag, control, current, current health, heal, lifesteal, life, heal percentag\n",
      "Topic 18:\n",
      "remnant, stone, stone remnant, arriv, grip, target, travel, smash, target location, recharg\n",
      "Topic 19:\n",
      "path, tree, ani enemi, ani, enemi path, enemi, hits, launch, snowbal, damag\n",
      "Topic 20:\n",
      "increas attack, increas, increas attack speed, attack speed, speed, attack, gain increas, alli, gain increas attack, alli heroes\n",
      "Topic 21:\n",
      "strike, critic, critic strike, chanc, chanc deal, ad, hit, victim, bounti, strike enemi\n",
      "Topic 22:\n",
      "mana, target, equal, pool, mana pool, lose, uniqu attack, uniqu, cost, total mana\n",
      "Topic 23:\n",
      "teleport, ani, point, teleport ani, ani point, orb, allow, short distanc, distanc teleport allow, distanc teleport\n",
      "Topic 24:\n",
      "deal damag, deal, damag time, damag, time, deal damag time, poison, damag time slow, time slow, seconds\n",
      "Topic 25:\n",
      "gain, gain bonus, bonus, item, bonus damage, abilities, die, gain bonus damage, use, damage\n",
      "Topic 26:\n",
      "ward, summon, immun, ward attack enemi, ward attack, attack enemi, enemi unit structures, unit structures, structures, magic\n",
      "Topic 27:\n",
      "second, damag second, burn, deal damag second, everi, hp, max hp, everi second, golem, damag\n",
      "Topic 28:\n",
      "spell, cast, cast spell, silenc, enchant, caus damag, caus, damag silenc, target caus damag, time cast\n",
      "Topic 29:\n",
      "armor, reduc, reduc armor, seconds, imag, presenc, armor seconds, water, enemi unit reduc, unit reduc\n"
     ]
    }
   ],
   "source": [
    "nmf = NMF(n_components=30, init='nndsvd').fit(tf_corpus)\n",
    "\n",
    "for topic_idx, topic in enumerate(nmf.components_):\n",
    "    print(\"Topic %d:\" % (topic_idx))\n",
    "    print(\", \".join([tf_features_names[i]\n",
    "                    for i in topic.argsort()[:-10 - 1:-1]]))"
   ]
  },
  {
   "cell_type": "code",
   "execution_count": 46,
   "metadata": {
    "collapsed": false,
    "scrolled": true
   },
   "outputs": [
    {
     "name": "stdout",
     "output_type": "stream",
     "text": [
      "shadowraze1\n",
      "-----------\n",
      "nearbi enemi units, enemi units, units, \n",
      "damag enemi unit, damag enemi, area, \n",
      "target, area, target area, \n"
     ]
    }
   ],
   "source": [
    "# find the ability with `index` in descriptions DataFrame\n",
    "# and define categories of this ability\n",
    "index = 49\n",
    "test = tfidf_vectorizer.transform([descriptions['description'][index]])\n",
    "weights = nmf.transform(test)\n",
    "topics = weights.argsort()[0][-3:]\n",
    "\n",
    "print(descriptions['name'][index])\n",
    "print('-' * len(descriptions['name'][index]))\n",
    "\n",
    "for topic in topics:\n",
    "    for i in nmf.components_[topic].argsort()[-3:]:\n",
    "        print(tf_features_names[i], end=', ')\n",
    "        \n",
    "    print()"
   ]
  },
  {
   "cell_type": "markdown",
   "metadata": {
    "collapsed": true
   },
   "source": [
    "## Conclusion\n",
    "NMF is able to define categories of abilities pretty well by taking the most important words in 3 the most valuable topics of the ability description."
   ]
  }
 ],
 "metadata": {
  "kernelspec": {
   "display_name": "Python 3",
   "language": "python",
   "name": "python3"
  },
  "language_info": {
   "codemirror_mode": {
    "name": "ipython",
    "version": 3
   },
   "file_extension": ".py",
   "mimetype": "text/x-python",
   "name": "python",
   "nbconvert_exporter": "python",
   "pygments_lexer": "ipython3",
   "version": "3.5.0"
  }
 },
 "nbformat": 4,
 "nbformat_minor": 0
}
