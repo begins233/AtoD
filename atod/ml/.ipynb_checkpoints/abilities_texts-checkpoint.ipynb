{
 "cells": [
  {
   "cell_type": "markdown",
   "metadata": {
    "collapsed": true
   },
   "source": [
    "# Abilities texts\n",
    "This file shows how to get access to abilities texts."
   ]
  },
  {
   "cell_type": "code",
   "execution_count": 1,
   "metadata": {
    "collapsed": false
   },
   "outputs": [],
   "source": [
    "from sklearn.feature_extraction.text import TfidfVectorizer\n",
    "from sklearn.decomposition import NMF\n",
    "\n",
    "from atod import Abilities, Heroes"
   ]
  },
  {
   "cell_type": "code",
   "execution_count": 2,
   "metadata": {
    "collapsed": false
   },
   "outputs": [
    {
     "name": "stdout",
     "output_type": "stream",
     "text": [
      "No abilities for this HeroID == 16\n"
     ]
    }
   ],
   "source": [
    "# create stop-words list\n",
    "heroes = Heroes.all()\n",
    "heroes_names = [h.name for h in heroes]\n",
    "words_in_heroes_names = [word.lower() for name in heroes_names for word in name.split(' ')]\n",
    "\n",
    "eng_stop_words = TfidfVectorizer(stop_words='english').get_stop_words()\n",
    "stop_words = set(words_in_heroes_names + list(eng_stop_words) \n",
    "                 + ['font', 'color', '7998b5'])"
   ]
  },
  {
   "cell_type": "code",
   "execution_count": 3,
   "metadata": {
    "collapsed": false
   },
   "outputs": [],
   "source": [
    "# get all texts for all abilities\n",
    "texts = Abilities.all().get_texts()\n",
    "# get descriptions\n",
    "descriptions = texts[['description', 'name']]\n",
    "corpus = [a.replace('\\\\n', ' ').replace('%%', '%') for a in descriptions['description']]"
   ]
  },
  {
   "cell_type": "code",
   "execution_count": 4,
   "metadata": {
    "collapsed": true
   },
   "outputs": [],
   "source": [
    "tfidf_vectorizer = TfidfVectorizer(max_df=0.95, min_df=2,  \n",
    "                                   stop_words=stop_words,\n",
    "                                   ngram_range=(1,3))\n",
    "tf_corpus = tfidf_vectorizer.fit_transform(corpus)\n",
    "tf_features_names = tfidf_vectorizer.get_feature_names()"
   ]
  },
  {
   "cell_type": "code",
   "execution_count": 5,
   "metadata": {
    "collapsed": false,
    "scrolled": true
   },
   "outputs": [
    {
     "name": "stdout",
     "output_type": "stream",
     "text": [
      "Topic 0:\n",
      "unit enemy unit enemy target dealing damage dealing damage seconds stunning friendly\n",
      "Topic 1:\n",
      "upgradable aghanim scepter upgradable upgradable aghanim scepter aghanim aghanim scepter seconds upgradable seconds upgradable aghanim damage upgradable damage upgradable aghanim\n",
      "Topic 2:\n",
      "enemy units units nearby enemy nearby enemy units nearby enemy damaging damaging enemy damaging enemy units ground\n",
      "Topic 3:\n",
      "dispel type dispel type basic dispel dispel type basic type basic type basic dispel basic type strong type strong dispel\n",
      "Topic 4:\n",
      "speed movement movement speed attack attack speed slowing movement slowing increased increases slowing movement speed\n",
      "Topic 5:\n",
      "bonus damage bonus damage deals attacks deal chance attack deals bonus damage deals bonus\n",
      "Topic 6:\n",
      "area units area enemy units area enemy units damage enemy units dealing dealing damage units damage enemy dealing damage enemy\n",
      "Topic 7:\n",
      "level based level based quas cabe68 exort cabe68 exort based level quas level quas level cabe68\n",
      "Topic 8:\n",
      "enemies nearby enemies nearby damage slowing stuns damaging attacked ice damages\n",
      "Topic 9:\n",
      "hero mana health target enemy hero creep enemy heroes current percentage\n"
     ]
    }
   ],
   "source": [
    "nmf = NMF(n_components=10, init='nndsvd').fit(tf_corpus)\n",
    "\n",
    "for topic_idx, topic in enumerate(nmf.components_):\n",
    "    print(\"Topic %d:\" % (topic_idx))\n",
    "    print(\" \".join([tf_features_names[i]\n",
    "                    for i in topic.argsort()[:-10 - 1:-1]]))"
   ]
  }
 ],
 "metadata": {
  "kernelspec": {
   "display_name": "Python 3",
   "language": "python",
   "name": "python3"
  },
  "language_info": {
   "codemirror_mode": {
    "name": "ipython",
    "version": 3
   },
   "file_extension": ".py",
   "mimetype": "text/x-python",
   "name": "python",
   "nbconvert_exporter": "python",
   "pygments_lexer": "ipython3",
   "version": "3.5.0"
  }
 },
 "nbformat": 4,
 "nbformat_minor": 0
}
