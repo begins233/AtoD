{
 "cells": [
  {
   "cell_type": "markdown",
   "metadata": {
    "collapsed": true
   },
   "source": [
    "# Abilities texts\n",
    "This file shows how to get access to abilities texts."
   ]
  },
  {
   "cell_type": "code",
   "execution_count": 1,
   "metadata": {
    "collapsed": false
   },
   "outputs": [],
   "source": [
    "from sklearn.feature_extraction.text import TfidfVectorizer\n",
    "from sklearn.decomposition import NMF\n",
    "\n",
    "from atod import Abilities, Heroes"
   ]
  },
  {
   "cell_type": "code",
   "execution_count": 2,
   "metadata": {
    "collapsed": false
   },
   "outputs": [
    {
     "name": "stdout",
     "output_type": "stream",
     "text": [
      "No abilities for this HeroID == 16\n"
     ]
    }
   ],
   "source": [
    "# create stop-words list\n",
    "heroes = Heroes.all()\n",
    "heroes_names = [h.name for h in heroes]\n",
    "words_in_heroes_names = [word.lower() for name in heroes_names for word in name.split(' ')]\n",
    "\n",
    "eng_stop_words = TfidfVectorizer(stop_words='english').get_stop_words()\n",
    "stop_words = set(words_in_heroes_names + list(eng_stop_words))"
   ]
  },
  {
   "cell_type": "code",
   "execution_count": 3,
   "metadata": {
    "collapsed": false
   },
   "outputs": [],
   "source": [
    "# get all texts for all abilities\n",
    "texts = Abilities.all().get_texts()\n",
    "# get descriptions\n",
    "descriptions = texts[['description', 'name']]\n",
    "corpus = [a.replace('\\\\n', ' ').replace('%%', '%') for a in descriptions['description']]"
   ]
  },
  {
   "cell_type": "code",
   "execution_count": 4,
   "metadata": {
    "collapsed": true
   },
   "outputs": [],
   "source": [
    "tfidf_vectorizer = TfidfVectorizer(max_df=0.95, min_df=2,  \n",
    "                                   stop_words=stop_words,\n",
    "                                   ngram_range=(1,3))\n",
    "tf_corpus = tfidf_vectorizer.fit_transform(corpus)\n",
    "tf_features_names = tfidf_vectorizer.get_feature_names()"
   ]
  },
  {
   "cell_type": "code",
   "execution_count": 5,
   "metadata": {
    "collapsed": false,
    "scrolled": true
   },
   "outputs": [
    {
     "name": "stdout",
     "output_type": "stream",
     "text": [
      "Topic 0:\n",
      "unit enemy unit enemy friendly friendly unit targeted unit targeted target enemy unit target enemy unit location\n",
      "Topic 1:\n",
      "upgradable upgradable aghanim scepter upgradable aghanim aghanim scepter aghanim scepter damage upgradable damage upgradable aghanim seconds upgradable seconds upgradable aghanim\n",
      "Topic 2:\n",
      "font font color color level font level font color based level font based level level based quas\n",
      "Topic 3:\n",
      "units damaging enemy damaging enemy units damaging enemy units enemy sends wave hit axes\n",
      "Topic 4:\n",
      "dispel dispel type type basic dispel type basic dispel type basic dispel type basic basic strong dispel type strong dispel\n",
      "Topic 5:\n",
      "nearby enemy units nearby enemy nearby enemy units units enemy burns lightning strikes gains bonus\n",
      "Topic 6:\n",
      "bonus bonus damage damage deals bonus damage deals bonus chance grants deal bonus deal bonus damage gains\n",
      "Topic 7:\n",
      "area units area enemy units area damage enemy units damage enemy dealing damage enemy area dealing area dealing damage razes razes area\n",
      "Topic 8:\n",
      "enemies nearby enemies nearby damage nearby enemies damage nearby presence slowing nearby enemies slowing nearby reduces damaging nearby enemies\n",
      "Topic 9:\n",
      "causing miss miss attacks causing miss causing miss attacks attacks blinding enemy units causing units causing causing attacks\n",
      "Topic 10:\n",
      "attacks damage attacks slowing attacks slowing allows attacked burns enemies burns hit enemy enemies\n",
      "Topic 11:\n",
      "dealing dealing damage damage stunning dealing damage time damage time time stunning dealing stunning dealing damage damage stunning\n",
      "Topic 12:\n",
      "movement movement speed speed slowing movement slowing slowing movement speed increasing movement increasing movement speed increasing bonus movement\n",
      "Topic 13:\n",
      "critical strike critical strike chance hit adding chance deal passively victim lifesteal\n",
      "Topic 14:\n",
      "seconds lasts seconds upgradable seconds upgradable aghanim lasts seconds channeled 16 seconds lasts 16 lasts 16 seconds 16\n",
      "Topic 15:\n",
      "health creep percentage current current health life heal control points max health\n",
      "Topic 16:\n",
      "remnant stone stone remnant arrive stone remnants remnants target target location charge invulnerable\n",
      "Topic 17:\n",
      "mana mana pool pool unique attack unique cooldown total mana cost spell total\n",
      "Topic 18:\n",
      "magic resistance magic damage magic damage resistance damage resistance allies resistance magic granting resistance magic damage increases\n",
      "Topic 19:\n",
      "hero enemy hero enemy duration dies true sight true sight short short duration\n",
      "Topic 20:\n",
      "extra extra damage deal damage arrows deal extra deal extra damage attack damage attack chance deal\n",
      "Topic 21:\n",
      "path damages damages enemies enemies path ice air trees ice path enemy stuns\n",
      "Topic 22:\n",
      "area effect area effect targeted area targeted targeted area effect affected damage time independently targeted area independently targeted\n",
      "Topic 23:\n",
      "heroes allied allied heroes enemy heroes control units control increases nearby allied map field\n",
      "Topic 24:\n",
      "target target unit teleports point random armor reduces snowball teleports target images\n",
      "Topic 25:\n",
      "attack attack speed speed increased increased attack increased attack speed gains gains increased increases attack gains increased attack\n",
      "Topic 26:\n",
      "spells target area enemy units target units target area units target casting spells casting area casting area casting spells target area casting\n",
      "Topic 27:\n",
      "stunning ground slams slams ground damaging stunning damaging ground stunning slams ground stunning enemy land units land units\n",
      "Topic 28:\n",
      "ward immune summons wards structures attack enemy enemy units structures units structures attack enemy units immune magic\n",
      "Topic 29:\n",
      "invisible hawk attacking hawk invisible moving invisibility blinking afflicted great radius\n",
      "Topic 30:\n",
      "allows distance short teleportation allows short distance teleportation short distance teleportation distance teleportation allows distance teleportation combat\n",
      "Topic 31:\n",
      "slows poison attack movement slows attack slows attack movement poison slows poison slows attack attack movement speeds speeds inflicts poison\n",
      "Topic 32:\n",
      "range attack range attack illusions ranged transforms powerful gaining long range melee\n",
      "Topic 33:\n",
      "deals deals damage damage stuns damage stuns deals damage stuns illusion creates random dealt\n",
      "Topic 34:\n",
      "second damage second damage deals damage second max hp hp golem attacked max slow\n",
      "Topic 35:\n",
      "agility points strength shifts form grants bonus grants additional morph increase\n"
     ]
    }
   ],
   "source": [
    "nmf = NMF(n_components=36, init='nndsvd').fit(tf_corpus)\n",
    "\n",
    "for topic_idx, topic in enumerate(nmf.components_):\n",
    "    print(\"Topic %d:\" % (topic_idx))\n",
    "    print(\" \".join([tf_features_names[i]\n",
    "                    for i in topic.argsort()[:-10 - 1:-1]]))"
   ]
  },
  {
   "cell_type": "code",
   "execution_count": 6,
   "metadata": {
    "collapsed": false
   },
   "outputs": [
    {
     "name": "stdout",
     "output_type": "stream",
     "text": [
      "{'stalker', 'kunkka', 'himself', 'well', 'whose', 'where', 'disruptor', 'than', 'who', 'none', 'down', 'five', 'next', 'viper', 'such', 'had', 'everyone', 'here', 'my', 'bane', 'any', 'couldnt', 'even', 'once', 'sometime', 'describe', 'also', 'from', 'faceless', 'hereby', 'see', 'an', 'made', 'anyhow', 'his', 'about', 'seeming', 'afterwards', 'are', 'go', 'beforehand', 'themselves', 'timbersaw', 'legion', 'back', 'should', 'always', 'warlord', 'windranger', 'venomancer', 'razor', 'thereby', 'never', 'bounty', 'forty', 'her', 'several', 'eleven', 'in', 'side', 'often', 'dragon', 'breaker', 'indeed', 'name', 'up', 'chaos', 'nobody', 'same', 'slark', 'nothing', 'prophet', 'will', 'titan', 'oracle', 'ever', 'their', 'via', 'necrophos', 'a', 'dazzle', 'bill', 'clockwerk', 'behind', 'off', 'some', 'those', 'upon', 'with', 'riki', 'only', 'thereafter', 'formerly', 'somewhere', 'therein', 'naga', 'beyond', 'find', 'whenever', 'ie', 'batrider', 'whether', 'nyx', 'phantom', 'however', 'shadow', 'con', 'yourself', 'ursa', 'sven', 'anyone', 'if', 'wherever', 'give', 'underlord', 'towards', 'it', 'hereafter', 'wyvern', 'troll', 'ancient', 'amongst', 'have', 'seem', 'front', 'to', 'no', 'pain', 'others', 'meepo', 'interest', 'ranger', 'besides', 'pudge', 'call', 'therefore', 'latterly', 'knight', 'fill', 'too', 'yet', 'whereafter', 'winter', 'wraith', 'done', 'sometimes', 'except', 'moreover', 'take', 'enough', 'spectre', 'meanwhile', 'lich', 'herein', 'him', 'show', 'by', 'or', 'very', 'without', 'top', 'three', 'another', 'other', 'the', 'whereas', 'own', 'gyrocopter', 'below', 'dark', 'me', 'until', 'that', 'nine', 'twenty', 'you', 'was', 'outworld', 'treant', 'huskar', 'out', 'apparition', 'elder', 'someone', 'anyway', 'two', 'together', 'these', 'light', 'as', 'everywhere', 'wherein', 'jakiro', 're', 'siren', 'commander', 'king', 'crystal', 'least', 'anti-mage', 'again', 'cry', 'he', 'cant', 'bottom', 'most', 'whole', 'there', 'void', 'may', 'lion', 'due', 'since', 'after', 'morphling', 'during', 'against', 'anything', 'ten', 'at', 'serious', 'noone', 'around', 'thus', 'terrorblade', 'storm', 'fifty', 'lancer', 'arc', 'magi', 'keep', 'why', 'whatever', 'sincere', 'hence', 'onto', 'everything', 'must', 'mill', 'move', 'us', 'thereupon', 'though', 'bloodseeker', 'hereupon', 'under', 'become', 'each', 'latter', 'them', 'keeper', 'became', 'seems', 'system', 'across', 'this', 'luna', 'they', 'tinker', 'whoever', 'further', 'rather', 'becomes', 'nor', 'slardar', 'whereupon', 'co', 'doctor', 'of', 'inc', 'ltd', 'mine', 'centaur', 'lycan', 'part', 'its', 'still', 'hunter', 'might', 'amount', 'both', 'elsewhere', 'cannot', 'otherwise', 'demon', 'anywhere', 'techies', 'skywrath', 'ours', 'could', 'namely', 'get', 'juggernaut', 'de', 'much', 'per', 'drow', 'but', 'rubick', 'would', 'whither', 'warrunner', 'magnus', 'shaman', 'seemed', 'mostly', 'then', 'for', 'last', 'mage', 'beastmaster', 'natures', 'whence', 'whereby', 'six', 'and', 'brewmaster', 'neither', 'detail', 'twelve', 'how', 'among', 'io', 'enchantress', 'do', 'although', 'leshrac', 'hasnt', 'perhaps', 'assassin', 'queen', 'because', 'which', 'hers', 'myself', 'nevertheless', 'were', 'warden', 'is', 'ogre', 'our', 'else', 'enigma', 'thick', 'tusk', 'earthshaker', 'can', 'protector', 'fire', 'thin', 'now', 'through', 'be', 'she', 'druid', 'phoenix', 'devourer', 'yourselves', 'first', 'mirana', 'herself', 'lifestealer', 'vengeful', 'above', 'itself', 'tidehunter', 'spirit', 'amoungst', 'fifteen', 'while', 'along', 'over', 'silencer', 'zeus', 'monkey', 'sniper', 'few', 'puck', 'warlock', 'toward', 'found', 'one', 'your', 'invoker', 'night', 'broodmother', 'so', 'already', 'more', 'thru', 'every', 'alone', 'witch', 'on', 'doom', 'beside', 'throughout', 'undying', 'into', 'all', 'pugna', 'medusa', 'abaddon', 'when', 'maiden', 'lone', 'before', 'less', 'fiend', 'hundred', 'something', 'visage', 'sixty', 'between', 'alchemist', 'within', 'empty', 'weaver', 'yours', 'has', 'bristleback', 'thence', 'ourselves', 'omniknight', 'four', 'am', 'lina', 'i', 'being', 'been', 'ember', 'becoming', 'etc', 'please', 'put', 'eight', 'whom', 'former', 'nowhere', 'somehow', 'full', 'not', 'death', 'we', 'axe', 'many', 'un', 'clinkz', 'seer', 'tiny', 'almost', 'eg', 'earth', 'either', 'third', 'chen', 'templar', 'what'}\n"
     ]
    }
   ],
   "source": [
    "print(stop_words)"
   ]
  },
  {
   "cell_type": "code",
   "execution_count": null,
   "metadata": {
    "collapsed": true
   },
   "outputs": [],
   "source": []
  }
 ],
 "metadata": {
  "kernelspec": {
   "display_name": "Python 3",
   "language": "python",
   "name": "python3"
  },
  "language_info": {
   "codemirror_mode": {
    "name": "ipython",
    "version": 3
   },
   "file_extension": ".py",
   "mimetype": "text/x-python",
   "name": "python",
   "nbconvert_exporter": "python",
   "pygments_lexer": "ipython3",
   "version": "3.5.0"
  }
 },
 "nbformat": 4,
 "nbformat_minor": 0
}
