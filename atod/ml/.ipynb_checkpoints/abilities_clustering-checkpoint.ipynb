{
 "cells": [
  {
   "cell_type": "markdown",
   "metadata": {},
   "source": [
    "This file shows how good (or bad) I marked the labels.\n",
    "\n",
    "To check labeling I'm trying to cluster all the abilities\n",
    "based on the labels they have and check results manually."
   ]
  },
  {
   "cell_type": "markdown",
   "metadata": {},
   "source": [
    "## TODO\n",
    "1. (One day) Write distance function which is going to use nmf classification of abilities texts."
   ]
  },
  {
   "cell_type": "code",
   "execution_count": 1,
   "metadata": {
    "collapsed": true
   },
   "outputs": [],
   "source": [
    "import numpy as np\n",
    "import pandas as pd\n",
    "from sklearn.cluster import KMeans\n",
    "from sklearn.preprocessing import MultiLabelBinarizer, LabelBinarizer\n",
    "\n",
    "from atod import Abilities"
   ]
  },
  {
   "cell_type": "code",
   "execution_count": 2,
   "metadata": {
    "collapsed": false
   },
   "outputs": [
    {
     "data": {
      "text/html": [
       "<div>\n",
       "<table border=\"1\" class=\"dataframe\">\n",
       "  <thead>\n",
       "    <tr style=\"text-align: right;\">\n",
       "      <th></th>\n",
       "      <th>2_times</th>\n",
       "      <th>3_times</th>\n",
       "      <th>4_times</th>\n",
       "      <th>AbilityBehavior</th>\n",
       "      <th>AbilityCastPoint</th>\n",
       "      <th>AbilityCastRange</th>\n",
       "      <th>AbilityCastRangeBuffer</th>\n",
       "      <th>AbilityChannelTime</th>\n",
       "      <th>AbilityCooldown</th>\n",
       "      <th>AbilityDamage</th>\n",
       "      <th>...</th>\n",
       "      <th>wolf_bat</th>\n",
       "      <th>wolf_damage</th>\n",
       "      <th>wolf_duration</th>\n",
       "      <th>wolf_hp</th>\n",
       "      <th>wolf_index</th>\n",
       "      <th>zombie_interval</th>\n",
       "      <th>ID</th>\n",
       "      <th>damage_per_burn</th>\n",
       "      <th>lvl</th>\n",
       "      <th>per_hit</th>\n",
       "    </tr>\n",
       "  </thead>\n",
       "  <tbody>\n",
       "    <tr>\n",
       "      <th>0</th>\n",
       "      <td>NaN</td>\n",
       "      <td>NaN</td>\n",
       "      <td>NaN</td>\n",
       "      <td>DOTA_ABILITY_BEHAVIOR_PASSIVE</td>\n",
       "      <td>NaN</td>\n",
       "      <td>NaN</td>\n",
       "      <td>NaN</td>\n",
       "      <td>NaN</td>\n",
       "      <td>NaN</td>\n",
       "      <td>NaN</td>\n",
       "      <td>...</td>\n",
       "      <td>NaN</td>\n",
       "      <td>NaN</td>\n",
       "      <td>NaN</td>\n",
       "      <td>NaN</td>\n",
       "      <td>NaN</td>\n",
       "      <td>NaN</td>\n",
       "      <td>5003.0</td>\n",
       "      <td>0.6</td>\n",
       "      <td>2.5</td>\n",
       "      <td>46.0</td>\n",
       "    </tr>\n",
       "    <tr>\n",
       "      <th>1</th>\n",
       "      <td>NaN</td>\n",
       "      <td>NaN</td>\n",
       "      <td>NaN</td>\n",
       "      <td>DOTA_ABILITY_BEHAVIOR_POINT | DOTA_ABILITY_BEH...</td>\n",
       "      <td>0.4</td>\n",
       "      <td>1037.5</td>\n",
       "      <td>NaN</td>\n",
       "      <td>NaN</td>\n",
       "      <td>8.25</td>\n",
       "      <td>NaN</td>\n",
       "      <td>...</td>\n",
       "      <td>NaN</td>\n",
       "      <td>NaN</td>\n",
       "      <td>NaN</td>\n",
       "      <td>NaN</td>\n",
       "      <td>NaN</td>\n",
       "      <td>NaN</td>\n",
       "      <td>5004.0</td>\n",
       "      <td>NaN</td>\n",
       "      <td>2.5</td>\n",
       "      <td>NaN</td>\n",
       "    </tr>\n",
       "    <tr>\n",
       "      <th>2</th>\n",
       "      <td>NaN</td>\n",
       "      <td>NaN</td>\n",
       "      <td>NaN</td>\n",
       "      <td>DOTA_ABILITY_BEHAVIOR_PASSIVE</td>\n",
       "      <td>NaN</td>\n",
       "      <td>NaN</td>\n",
       "      <td>NaN</td>\n",
       "      <td>NaN</td>\n",
       "      <td>NaN</td>\n",
       "      <td>NaN</td>\n",
       "      <td>...</td>\n",
       "      <td>NaN</td>\n",
       "      <td>NaN</td>\n",
       "      <td>NaN</td>\n",
       "      <td>NaN</td>\n",
       "      <td>NaN</td>\n",
       "      <td>NaN</td>\n",
       "      <td>5005.0</td>\n",
       "      <td>NaN</td>\n",
       "      <td>2.5</td>\n",
       "      <td>NaN</td>\n",
       "    </tr>\n",
       "    <tr>\n",
       "      <th>3</th>\n",
       "      <td>NaN</td>\n",
       "      <td>NaN</td>\n",
       "      <td>NaN</td>\n",
       "      <td>DOTA_ABILITY_BEHAVIOR_UNIT_TARGET | DOTA_ABILI...</td>\n",
       "      <td>0.3</td>\n",
       "      <td>600.0</td>\n",
       "      <td>NaN</td>\n",
       "      <td>NaN</td>\n",
       "      <td>70.00</td>\n",
       "      <td>NaN</td>\n",
       "      <td>...</td>\n",
       "      <td>NaN</td>\n",
       "      <td>NaN</td>\n",
       "      <td>NaN</td>\n",
       "      <td>NaN</td>\n",
       "      <td>NaN</td>\n",
       "      <td>NaN</td>\n",
       "      <td>5006.0</td>\n",
       "      <td>NaN</td>\n",
       "      <td>2.5</td>\n",
       "      <td>NaN</td>\n",
       "    </tr>\n",
       "    <tr>\n",
       "      <th>4</th>\n",
       "      <td>NaN</td>\n",
       "      <td>NaN</td>\n",
       "      <td>NaN</td>\n",
       "      <td>DOTA_ABILITY_BEHAVIOR_NO_TARGET | DOTA_ABILITY...</td>\n",
       "      <td>0.4</td>\n",
       "      <td>NaN</td>\n",
       "      <td>NaN</td>\n",
       "      <td>NaN</td>\n",
       "      <td>13.00</td>\n",
       "      <td>0.0</td>\n",
       "      <td>...</td>\n",
       "      <td>NaN</td>\n",
       "      <td>NaN</td>\n",
       "      <td>NaN</td>\n",
       "      <td>NaN</td>\n",
       "      <td>NaN</td>\n",
       "      <td>NaN</td>\n",
       "      <td>5007.0</td>\n",
       "      <td>NaN</td>\n",
       "      <td>2.5</td>\n",
       "      <td>NaN</td>\n",
       "    </tr>\n",
       "  </tbody>\n",
       "</table>\n",
       "<p>5 rows × 837 columns</p>\n",
       "</div>"
      ],
      "text/plain": [
       "   2_times  3_times  4_times  \\\n",
       "0      NaN      NaN      NaN   \n",
       "1      NaN      NaN      NaN   \n",
       "2      NaN      NaN      NaN   \n",
       "3      NaN      NaN      NaN   \n",
       "4      NaN      NaN      NaN   \n",
       "\n",
       "                                     AbilityBehavior  AbilityCastPoint  \\\n",
       "0                      DOTA_ABILITY_BEHAVIOR_PASSIVE               NaN   \n",
       "1  DOTA_ABILITY_BEHAVIOR_POINT | DOTA_ABILITY_BEH...               0.4   \n",
       "2                      DOTA_ABILITY_BEHAVIOR_PASSIVE               NaN   \n",
       "3  DOTA_ABILITY_BEHAVIOR_UNIT_TARGET | DOTA_ABILI...               0.3   \n",
       "4  DOTA_ABILITY_BEHAVIOR_NO_TARGET | DOTA_ABILITY...               0.4   \n",
       "\n",
       "   AbilityCastRange  AbilityCastRangeBuffer  AbilityChannelTime  \\\n",
       "0               NaN                     NaN                 NaN   \n",
       "1            1037.5                     NaN                 NaN   \n",
       "2               NaN                     NaN                 NaN   \n",
       "3             600.0                     NaN                 NaN   \n",
       "4               NaN                     NaN                 NaN   \n",
       "\n",
       "   AbilityCooldown  AbilityDamage   ...    wolf_bat  wolf_damage  \\\n",
       "0              NaN            NaN   ...         NaN          NaN   \n",
       "1             8.25            NaN   ...         NaN          NaN   \n",
       "2              NaN            NaN   ...         NaN          NaN   \n",
       "3            70.00            NaN   ...         NaN          NaN   \n",
       "4            13.00            0.0   ...         NaN          NaN   \n",
       "\n",
       "   wolf_duration  wolf_hp wolf_index zombie_interval      ID damage_per_burn  \\\n",
       "0            NaN      NaN        NaN             NaN  5003.0             0.6   \n",
       "1            NaN      NaN        NaN             NaN  5004.0             NaN   \n",
       "2            NaN      NaN        NaN             NaN  5005.0             NaN   \n",
       "3            NaN      NaN        NaN             NaN  5006.0             NaN   \n",
       "4            NaN      NaN        NaN             NaN  5007.0             NaN   \n",
       "\n",
       "   lvl per_hit  \n",
       "0  2.5    46.0  \n",
       "1  2.5     NaN  \n",
       "2  2.5     NaN  \n",
       "3  2.5     NaN  \n",
       "4  2.5     NaN  \n",
       "\n",
       "[5 rows x 837 columns]"
      ]
     },
     "execution_count": 2,
     "metadata": {},
     "output_type": "execute_result"
    }
   ],
   "source": [
    "specs = pd.read_csv('../data/702/abilities_specs.csv')\n",
    "specs.head()"
   ]
  },
  {
   "cell_type": "code",
   "execution_count": 3,
   "metadata": {
    "collapsed": false
   },
   "outputs": [
    {
     "data": {
      "text/plain": [
       "(519, 249)"
      ]
     },
     "execution_count": 3,
     "metadata": {},
     "output_type": "execute_result"
    }
   ],
   "source": [
    "columns_to_drop = ['lvl', 'AbilityCastRangeBuffer', 'levelkey', \n",
    "                   'HotKeyOverride', 'AbilityTextureName',\n",
    "                   'LevelsBetweenUpgrades', '_sa_instance_state',\n",
    "                   'OnCastbar', 'OnLearnbar']\n",
    "specs = specs.drop(columns_to_drop, axis=1)\n",
    "specs = specs.dropna(axis=1, thresh=2)\n",
    "specs.shape"
   ]
  },
  {
   "cell_type": "code",
   "execution_count": 4,
   "metadata": {
    "collapsed": false
   },
   "outputs": [],
   "source": [
    "# encode AbilityBehavior\n",
    "# get all possible values\n",
    "behavior = specs.AbilityBehavior\n",
    "behavior = behavior.str.split('|').apply(lambda x: [y.strip() for y in x])\n",
    "\n",
    "mlb = MultiLabelBinarizer().fit(behavior)\n",
    "binary_behavior = pd.DataFrame(mlb.transform(behavior),\n",
    "                               columns=mlb.classes_).drop([''], axis=1)\n",
    "\n",
    "X = pd.concat([specs.drop(['AbilityBehavior'], axis=1), binary_behavior], axis=1)"
   ]
  },
  {
   "cell_type": "code",
   "execution_count": 5,
   "metadata": {
    "collapsed": false
   },
   "outputs": [
    {
     "ename": "ValueError",
     "evalue": "labels [''] not contained in axis",
     "output_type": "error",
     "traceback": [
      "\u001b[0;31m---------------------------------------------------------------------------\u001b[0m",
      "\u001b[0;31mValueError\u001b[0m                                Traceback (most recent call last)",
      "\u001b[0;32m<ipython-input-5-be20a3e64a12>\u001b[0m in \u001b[0;36m<module>\u001b[0;34m()\u001b[0m\n\u001b[1;32m      6\u001b[0m \u001b[0mmlb\u001b[0m \u001b[0;34m=\u001b[0m \u001b[0mMultiLabelBinarizer\u001b[0m\u001b[0;34m(\u001b[0m\u001b[0;34m)\u001b[0m\u001b[0;34m.\u001b[0m\u001b[0mfit\u001b[0m\u001b[0;34m(\u001b[0m\u001b[0mflags\u001b[0m\u001b[0;34m)\u001b[0m\u001b[0;34m\u001b[0m\u001b[0m\n\u001b[1;32m      7\u001b[0m binary_flags = pd.DataFrame(mlb.transform(flags),\n\u001b[0;32m----> 8\u001b[0;31m                                columns=mlb.classes_).drop([''], axis=1)\n\u001b[0m\u001b[1;32m      9\u001b[0m \u001b[0;34m\u001b[0m\u001b[0m\n\u001b[1;32m     10\u001b[0m \u001b[0mX\u001b[0m \u001b[0;34m=\u001b[0m \u001b[0mpd\u001b[0m\u001b[0;34m.\u001b[0m\u001b[0mconcat\u001b[0m\u001b[0;34m(\u001b[0m\u001b[0;34m[\u001b[0m\u001b[0mX\u001b[0m\u001b[0;34m.\u001b[0m\u001b[0mdrop\u001b[0m\u001b[0;34m(\u001b[0m\u001b[0;34m[\u001b[0m\u001b[0;34m'AbilityUnitTargetFlags'\u001b[0m\u001b[0;34m]\u001b[0m\u001b[0;34m,\u001b[0m \u001b[0maxis\u001b[0m\u001b[0;34m=\u001b[0m\u001b[0;36m1\u001b[0m\u001b[0;34m)\u001b[0m\u001b[0;34m,\u001b[0m \u001b[0mbinary_flags\u001b[0m\u001b[0;34m]\u001b[0m\u001b[0;34m,\u001b[0m \u001b[0maxis\u001b[0m\u001b[0;34m=\u001b[0m\u001b[0;36m1\u001b[0m\u001b[0;34m)\u001b[0m\u001b[0;34m\u001b[0m\u001b[0m\n",
      "\u001b[0;32m/Users/gasabr/.virtualenvs/AtoD/lib/python3.5/site-packages/pandas/core/generic.py\u001b[0m in \u001b[0;36mdrop\u001b[0;34m(self, labels, axis, level, inplace, errors)\u001b[0m\n\u001b[1;32m   1905\u001b[0m                 \u001b[0mnew_axis\u001b[0m \u001b[0;34m=\u001b[0m \u001b[0maxis\u001b[0m\u001b[0;34m.\u001b[0m\u001b[0mdrop\u001b[0m\u001b[0;34m(\u001b[0m\u001b[0mlabels\u001b[0m\u001b[0;34m,\u001b[0m \u001b[0mlevel\u001b[0m\u001b[0;34m=\u001b[0m\u001b[0mlevel\u001b[0m\u001b[0;34m,\u001b[0m \u001b[0merrors\u001b[0m\u001b[0;34m=\u001b[0m\u001b[0merrors\u001b[0m\u001b[0;34m)\u001b[0m\u001b[0;34m\u001b[0m\u001b[0m\n\u001b[1;32m   1906\u001b[0m             \u001b[0;32melse\u001b[0m\u001b[0;34m:\u001b[0m\u001b[0;34m\u001b[0m\u001b[0m\n\u001b[0;32m-> 1907\u001b[0;31m                 \u001b[0mnew_axis\u001b[0m \u001b[0;34m=\u001b[0m \u001b[0maxis\u001b[0m\u001b[0;34m.\u001b[0m\u001b[0mdrop\u001b[0m\u001b[0;34m(\u001b[0m\u001b[0mlabels\u001b[0m\u001b[0;34m,\u001b[0m \u001b[0merrors\u001b[0m\u001b[0;34m=\u001b[0m\u001b[0merrors\u001b[0m\u001b[0;34m)\u001b[0m\u001b[0;34m\u001b[0m\u001b[0m\n\u001b[0m\u001b[1;32m   1908\u001b[0m             \u001b[0mdropped\u001b[0m \u001b[0;34m=\u001b[0m \u001b[0mself\u001b[0m\u001b[0;34m.\u001b[0m\u001b[0mreindex\u001b[0m\u001b[0;34m(\u001b[0m\u001b[0;34m**\u001b[0m\u001b[0;34m{\u001b[0m\u001b[0maxis_name\u001b[0m\u001b[0;34m:\u001b[0m \u001b[0mnew_axis\u001b[0m\u001b[0;34m}\u001b[0m\u001b[0;34m)\u001b[0m\u001b[0;34m\u001b[0m\u001b[0m\n\u001b[1;32m   1909\u001b[0m             \u001b[0;32mtry\u001b[0m\u001b[0;34m:\u001b[0m\u001b[0;34m\u001b[0m\u001b[0m\n",
      "\u001b[0;32m/Users/gasabr/.virtualenvs/AtoD/lib/python3.5/site-packages/pandas/indexes/base.py\u001b[0m in \u001b[0;36mdrop\u001b[0;34m(self, labels, errors)\u001b[0m\n\u001b[1;32m   3260\u001b[0m             \u001b[0;32mif\u001b[0m \u001b[0merrors\u001b[0m \u001b[0;34m!=\u001b[0m \u001b[0;34m'ignore'\u001b[0m\u001b[0;34m:\u001b[0m\u001b[0;34m\u001b[0m\u001b[0m\n\u001b[1;32m   3261\u001b[0m                 raise ValueError('labels %s not contained in axis' %\n\u001b[0;32m-> 3262\u001b[0;31m                                  labels[mask])\n\u001b[0m\u001b[1;32m   3263\u001b[0m             \u001b[0mindexer\u001b[0m \u001b[0;34m=\u001b[0m \u001b[0mindexer\u001b[0m\u001b[0;34m[\u001b[0m\u001b[0;34m~\u001b[0m\u001b[0mmask\u001b[0m\u001b[0;34m]\u001b[0m\u001b[0;34m\u001b[0m\u001b[0m\n\u001b[1;32m   3264\u001b[0m         \u001b[0;32mreturn\u001b[0m \u001b[0mself\u001b[0m\u001b[0;34m.\u001b[0m\u001b[0mdelete\u001b[0m\u001b[0;34m(\u001b[0m\u001b[0mindexer\u001b[0m\u001b[0;34m)\u001b[0m\u001b[0;34m\u001b[0m\u001b[0m\n",
      "\u001b[0;31mValueError\u001b[0m: labels [''] not contained in axis"
     ]
    }
   ],
   "source": [
    "# print(set(X.AbilityUnitTargetFlags.values))\n",
    "flags = X.AbilityUnitTargetFlags\n",
    "flags = flags.fillna(value='DOTA_UNIT_TARGET_FLAG_NONE')\n",
    "flags = flags.str.split('|').apply(lambda x: [y.strip() for y in x])\n",
    "\n",
    "mlb = MultiLabelBinarizer().fit(flags)\n",
    "binary_flags = pd.DataFrame(mlb.transform(flags), columns=mlb.classes_)\n",
    "\n",
    "X = pd.concat([X.drop(['AbilityUnitTargetFlags'], axis=1), binary_flags], axis=1)"
   ]
  },
  {
   "cell_type": "code",
   "execution_count": null,
   "metadata": {
    "collapsed": false
   },
   "outputs": [],
   "source": [
    "str_columns = []\n",
    "\n",
    "for column in X:\n",
    "    if X[column].dtype != np.float64 and X[column].dtype != np.int64:\n",
    "        str_columns.append(column)"
   ]
  },
  {
   "cell_type": "code",
   "execution_count": null,
   "metadata": {
    "collapsed": false
   },
   "outputs": [],
   "source": [
    "X['AbilityType'] = X['AbilityType'].apply(\n",
    "                    lambda x: 1 if x == 'DOTA_ABILITY_TYPE_ULTIMATE' else 0)\n",
    "\n",
    "X['isUltimate'] = X['AbilityType']\n",
    "X = X.drop(['AbilityType'], axis=1)"
   ]
  },
  {
   "cell_type": "code",
   "execution_count": null,
   "metadata": {
    "collapsed": false
   },
   "outputs": [],
   "source": [
    "X['AbilityUnitDamageType'] = X['AbilityUnitDamageType'].apply(\n",
    "                              lambda x: 'DAMAGE_TYPE_NONE' if x is np.NaN else x)\n",
    "\n",
    "lb = LabelBinarizer().fit(X['AbilityUnitDamageType'])\n",
    "dmg_type = pd.DataFrame(lb.transform(X['AbilityUnitDamageType']),\n",
    "                        columns=lb.classes_)\n",
    "\n",
    "X = pd.concat([X.drop(['AbilityUnitDamageType'], axis=1), dmg_type], axis=1)"
   ]
  },
  {
   "cell_type": "code",
   "execution_count": null,
   "metadata": {
    "collapsed": false
   },
   "outputs": [],
   "source": [
    "set(X['AbilityUnitTargetFlags'])"
   ]
  },
  {
   "cell_type": "code",
   "execution_count": null,
   "metadata": {
    "collapsed": false
   },
   "outputs": [],
   "source": [
    "X['MaxLevel'] = X['MaxLevel'].fillna(value=4)\n",
    "X = X.fillna(value=0)"
   ]
  },
  {
   "cell_type": "code",
   "execution_count": null,
   "metadata": {
    "collapsed": false
   },
   "outputs": [],
   "source": [
    "X.head()"
   ]
  }
 ],
 "metadata": {
  "kernelspec": {
   "display_name": "Python 3",
   "language": "python",
   "name": "python3"
  },
  "language_info": {
   "codemirror_mode": {
    "name": "ipython",
    "version": 3
   },
   "file_extension": ".py",
   "mimetype": "text/x-python",
   "name": "python",
   "nbconvert_exporter": "python",
   "pygments_lexer": "ipython3",
   "version": "3.5.0"
  }
 },
 "nbformat": 4,
 "nbformat_minor": 0
}
