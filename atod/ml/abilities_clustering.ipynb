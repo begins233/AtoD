{
 "cells": [
  {
   "cell_type": "markdown",
   "metadata": {},
   "source": [
    "This file shows how good (or bad) I marked the labels.\n",
    "\n",
    "To check labeling I'm trying to cluster all the abilities\n",
    "based on the labels they have and check results manually."
   ]
  },
  {
   "cell_type": "markdown",
   "metadata": {},
   "source": [
    "## TODO\n",
    "1. (One day) Write distance function which is going to use nmf classification of abilities texts."
   ]
  },
  {
   "cell_type": "code",
   "execution_count": 1,
   "metadata": {
    "collapsed": true
   },
   "outputs": [],
   "source": [
    "import numpy as np\n",
    "import pandas as pd\n",
    "from sklearn.cluster import KMeans\n",
    "from sklearn.preprocessing import MultiLabelBinarizer\n",
    "\n",
    "from atod import Abilities"
   ]
  },
  {
   "cell_type": "code",
   "execution_count": 2,
   "metadata": {
    "collapsed": false
   },
   "outputs": [
    {
     "data": {
      "text/plain": [
       "(519, 837)"
      ]
     },
     "execution_count": 2,
     "metadata": {},
     "output_type": "execute_result"
    }
   ],
   "source": [
    "specs = Abilities.all().get_specs_list()\n",
    "specs.shape"
   ]
  },
  {
   "cell_type": "code",
   "execution_count": 4,
   "metadata": {
    "collapsed": false
   },
   "outputs": [
    {
     "data": {
      "text/plain": [
       "(519, 253)"
      ]
     },
     "execution_count": 4,
     "metadata": {},
     "output_type": "execute_result"
    }
   ],
   "source": [
    "columns_to_drop = ['lvl', 'AbilityCastRangeBuffer', 'levelkey', \n",
    "                   'HotKeyOverride', 'AbilityTextureName']\n",
    "specs = specs.drop(columns_to_drop, axis=1)\n",
    "specs = specs.dropna(axis=1, thresh=2)\n",
    "specs = specs.fillna(value=0)\n",
    "specs.shape"
   ]
  },
  {
   "cell_type": "code",
   "execution_count": 5,
   "metadata": {
    "collapsed": false
   },
   "outputs": [],
   "source": [
    "# encode AbilityBehavior\n",
    "# get all possible values\n",
    "behavior = specs.AbilityBehavior\n",
    "behavior = behavior.str.split('|').apply(lambda x: [y.strip() for y in x])\n",
    "\n",
    "mlb = MultiLabelBinarizer().fit(behavior)\n",
    "binary_behavior = pd.DataFrame(mlb.transform(behavior),\n",
    "                               columns=mlb.classes_).drop([''], axis=1)\n",
    "\n",
    "binary_behavior.head()\n",
    "X = pd.concat([specs.drop(['AbilityBehavior'], axis=1), binary_behavior], axis=1)"
   ]
  },
  {
   "cell_type": "code",
   "execution_count": 6,
   "metadata": {
    "collapsed": false
   },
   "outputs": [
    {
     "name": "stdout",
     "output_type": "stream",
     "text": [
      "['AbilityType', 'AbilityUnitDamageType', 'AbilityUnitTargetFlags', 'AbilityUnitTargetTeam', 'AbilityUnitTargetType', 'LinkedSpecialBonus', 'SpellDispellableType', 'SpellImmunityType', '_sa_instance_state', 'name', 'pk']\n"
     ]
    }
   ],
   "source": [
    "str_columns = []\n",
    "\n",
    "for column in X:\n",
    "    if X[column].dtype != np.float64 and X[column].dtype != np.int64:\n",
    "        str_columns.append(column)\n",
    "        \n",
    "print(str_columns)"
   ]
  },
  {
   "cell_type": "code",
   "execution_count": 7,
   "metadata": {
    "collapsed": false
   },
   "outputs": [],
   "source": [
    "X['AbilityType'] = X['AbilityType'].apply(\n",
    "                    lambda x: 1 if x == 'DOTA_ABILITY_TYPE_ULTIMATE' else 0)\n",
    "\n",
    "X['isUltimate'] = X['AbilityType']\n",
    "X = X.drop(['AbilityType'], axis=1)"
   ]
  },
  {
   "cell_type": "code",
   "execution_count": 8,
   "metadata": {
    "collapsed": false
   },
   "outputs": [
    {
     "ename": "TypeError",
     "evalue": "'int' object is not iterable",
     "output_type": "error",
     "traceback": [
      "\u001b[0;31m---------------------------------------------------------------------------\u001b[0m",
      "\u001b[0;31mTypeError\u001b[0m                                 Traceback (most recent call last)",
      "\u001b[0;32m<ipython-input-8-87fa1974a50a>\u001b[0m in \u001b[0;36m<module>\u001b[0;34m()\u001b[0m\n\u001b[1;32m      2\u001b[0m                               lambda x: 'DAMAGE_TYPE_NONE' if x is None else x)\n\u001b[1;32m      3\u001b[0m \u001b[0;34m\u001b[0m\u001b[0m\n\u001b[0;32m----> 4\u001b[0;31m \u001b[0mmlb\u001b[0m \u001b[0;34m=\u001b[0m \u001b[0mMultiLabelBinarizer\u001b[0m\u001b[0;34m(\u001b[0m\u001b[0;34m)\u001b[0m\u001b[0;34m.\u001b[0m\u001b[0mfit\u001b[0m\u001b[0;34m(\u001b[0m\u001b[0mX\u001b[0m\u001b[0;34m[\u001b[0m\u001b[0;34m'AbilityUnitDamageType'\u001b[0m\u001b[0;34m]\u001b[0m\u001b[0;34m)\u001b[0m\u001b[0;34m\u001b[0m\u001b[0m\n\u001b[0m\u001b[1;32m      5\u001b[0m dmg_type = pd.DataFrame(mlb.transform(X['AbilityUnitDamageType']),\n\u001b[1;32m      6\u001b[0m                         columns=mlb.classes_)\n",
      "\u001b[0;32m/Users/gasabr/.virtualenvs/AtoD/lib/python3.5/site-packages/sklearn/preprocessing/label.py\u001b[0m in \u001b[0;36mfit\u001b[0;34m(self, y)\u001b[0m\n\u001b[1;32m    693\u001b[0m         \"\"\"\n\u001b[1;32m    694\u001b[0m         \u001b[0;32mif\u001b[0m \u001b[0mself\u001b[0m\u001b[0;34m.\u001b[0m\u001b[0mclasses\u001b[0m \u001b[0;32mis\u001b[0m \u001b[0;32mNone\u001b[0m\u001b[0;34m:\u001b[0m\u001b[0;34m\u001b[0m\u001b[0m\n\u001b[0;32m--> 695\u001b[0;31m             \u001b[0mclasses\u001b[0m \u001b[0;34m=\u001b[0m \u001b[0msorted\u001b[0m\u001b[0;34m(\u001b[0m\u001b[0mset\u001b[0m\u001b[0;34m(\u001b[0m\u001b[0mitertools\u001b[0m\u001b[0;34m.\u001b[0m\u001b[0mchain\u001b[0m\u001b[0;34m.\u001b[0m\u001b[0mfrom_iterable\u001b[0m\u001b[0;34m(\u001b[0m\u001b[0my\u001b[0m\u001b[0;34m)\u001b[0m\u001b[0;34m)\u001b[0m\u001b[0;34m)\u001b[0m\u001b[0;34m\u001b[0m\u001b[0m\n\u001b[0m\u001b[1;32m    696\u001b[0m         \u001b[0;32melse\u001b[0m\u001b[0;34m:\u001b[0m\u001b[0;34m\u001b[0m\u001b[0m\n\u001b[1;32m    697\u001b[0m             \u001b[0mclasses\u001b[0m \u001b[0;34m=\u001b[0m \u001b[0mself\u001b[0m\u001b[0;34m.\u001b[0m\u001b[0mclasses\u001b[0m\u001b[0;34m\u001b[0m\u001b[0m\n",
      "\u001b[0;31mTypeError\u001b[0m: 'int' object is not iterable"
     ]
    }
   ],
   "source": [
    "X['AbilityUnitDamageType'] = X['AbilityUnitDamageType'].apply(\n",
    "                              lambda x: 'DAMAGE_TYPE_NONE' if x is None else x)\n",
    "\n",
    "mlb = MultiLabelBinarizer().fit(X['AbilityUnitDamageType'])\n",
    "dmg_type = pd.DataFrame(mlb.transform(X['AbilityUnitDamageType']),\n",
    "                        columns=mlb.classes_)\n",
    "\n",
    "dmg_type.head()\n",
    "X = pd.concat([X.drop(['AbilityUnitDamageType'], axis=1), binary_behavior], axis=1)"
   ]
  },
  {
   "cell_type": "code",
   "execution_count": null,
   "metadata": {
    "collapsed": false
   },
   "outputs": [],
   "source": [
    "X.head()"
   ]
  },
  {
   "cell_type": "code",
   "execution_count": null,
   "metadata": {
    "collapsed": true
   },
   "outputs": [],
   "source": []
  }
 ],
 "metadata": {
  "kernelspec": {
   "display_name": "Python 3",
   "language": "python",
   "name": "python3"
  },
  "language_info": {
   "codemirror_mode": {
    "name": "ipython",
    "version": 3
   },
   "file_extension": ".py",
   "mimetype": "text/x-python",
   "name": "python",
   "nbconvert_exporter": "python",
   "pygments_lexer": "ipython3",
   "version": "3.5.0"
  }
 },
 "nbformat": 4,
 "nbformat_minor": 0
}
