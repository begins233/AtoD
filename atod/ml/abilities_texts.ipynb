{
 "cells": [
  {
   "cell_type": "markdown",
   "metadata": {
    "collapsed": true
   },
   "source": [
    "# Abilities texts\n",
    "This file shows how to get access to abilities texts."
   ]
  },
  {
   "cell_type": "code",
   "execution_count": 1,
   "metadata": {
    "collapsed": false
   },
   "outputs": [],
   "source": [
    "from sklearn.feature_extraction.text import TfidfVectorizer\n",
    "from sklearn.decomposition import NMF\n",
    "from stemming.porter2 import stem\n",
    "\n",
    "from atod import Abilities, Heroes"
   ]
  },
  {
   "cell_type": "code",
   "execution_count": 2,
   "metadata": {
    "collapsed": false
   },
   "outputs": [
    {
     "name": "stdout",
     "output_type": "stream",
     "text": [
      "No abilities for this HeroID == 16\n"
     ]
    }
   ],
   "source": [
    "# create stop-words list\n",
    "heroes = Heroes.all()\n",
    "heroes_names = [h.name for h in heroes]\n",
    "words_in_heroes_names = [word.lower() for name in heroes_names for word in name.split(' ')]\n",
    "\n",
    "eng_stop_words = TfidfVectorizer(stop_words='english').get_stop_words()\n",
    "stop_words = set(words_in_heroes_names + list(eng_stop_words) \n",
    "                 + ['font', 'color', '7998b5'])"
   ]
  },
  {
   "cell_type": "code",
   "execution_count": 3,
   "metadata": {
    "collapsed": false
   },
   "outputs": [],
   "source": [
    "# get all texts for all abilities\n",
    "texts = Abilities.all().get_texts()\n",
    "# get descriptions\n",
    "descriptions = texts[['description', 'name']]\n",
    "corpus = [a.replace('\\\\n', ' ').replace('%%', '%') for a in descriptions['description']]\n",
    "corpus = [stem(word) for doc in corpus for word in doc.split(' ')]\n",
    "corpus.extend(['stun', 'silence', 'blink'])"
   ]
  },
  {
   "cell_type": "code",
   "execution_count": 6,
   "metadata": {
    "collapsed": false
   },
   "outputs": [
    {
     "data": {
      "text/plain": [
       "(14143, 758)"
      ]
     },
     "execution_count": 6,
     "metadata": {},
     "output_type": "execute_result"
    }
   ],
   "source": [
    "tfidf_vectorizer = TfidfVectorizer(max_df=0.95, min_df=2,  \n",
    "                                   stop_words=stop_words,\n",
    "                                   ngram_range=(1,3))\n",
    "tfidf_vectorizer.fit(corpus)\n",
    "tf_corpus = tfidf_vectorizer.transform(corpus)\n",
    "tf_features_names = tfidf_vectorizer.get_feature_names()\n",
    "\n",
    "tf_corpus.shape"
   ]
  },
  {
   "cell_type": "code",
   "execution_count": 7,
   "metadata": {
    "collapsed": false,
    "scrolled": true
   },
   "outputs": [
    {
     "name": "stdout",
     "output_type": "stream",
     "text": [
      "Topic 0:\n",
      "damag, zombi, everi, explod, expired, expire, experience, experi, exort, exist\n",
      "Topic 1:\n",
      "enemi, everi, explod, expired, expire, experience, experi, exort, exist, exhal\n",
      "Topic 2:\n",
      "unit, zombi, evasion, expired, expire, experience, experi, exort, exist, exhal\n",
      "Topic 3:\n",
      "attack, zombi, everi, explod, expired, expire, experience, experi, exort, exist\n",
      "Topic 4:\n",
      "deal, zombi, everi, explod, expired, expire, experience, experi, exort, exist\n",
      "Topic 5:\n",
      "target, duration, zombi, everi, expired, expire, experience, experi, exort, exist\n",
      "Topic 6:\n",
      "speed, units, creat, level, effect, grant, summon, duration, hit, type\n",
      "Topic 7:\n",
      "scepter, cast, level, summon, power, enemies, armor, energi, creep, current\n",
      "Topic 8:\n",
      "aghanim, magic, heal, effect, strike, duration, spell, friend, type, path\n",
      "Topic 9:\n",
      "upgradabl, units, heal, effect, strike, grant, hit, reduc, type, use\n",
      "Topic 10:\n",
      "hero, creat, cast, level, grant, summon, power, enemies, spell, type\n",
      "Topic 11:\n",
      "damage, cast, magic, effect, heal, power, enemies, duration, armor, friend\n",
      "Topic 12:\n",
      "movement, harm, heal, grant, duration, enemies, spell, type, path, hit\n",
      "Topic 13:\n",
      "slow, magic, effect, strike, duration, power, armor, friend, type, path\n",
      "Topic 14:\n",
      "nearbi, cast, magic, creat, level, summon, power, enemies, armor, friend\n",
      "Topic 15:\n",
      "bonus, units, creat, heal, grant, strike, spell, hit, reduc, use\n",
      "Topic 16:\n",
      "area, units, creat, heal, grant, strike, effect, duration, hit, spell\n",
      "Topic 17:\n",
      "seconds, creat, level, grant, summon, enemies, duration, type, hit, path\n",
      "Topic 18:\n",
      "health, cast, magic, heal, effect, strike, power, duration, spell, hit\n",
      "Topic 19:\n",
      "base, cast, magic, heal, effect, strike, power, armor, friend, spell\n",
      "Topic 20:\n",
      "increas, cast, magic, effect, strike, power, summon, enemies, armor, duration\n",
      "Topic 21:\n",
      "stun, mini stun, mini, mini stunned, stunned, stuns, cast, magic, effect, power\n",
      "Topic 22:\n",
      "ani, creat, cast, level, grant, summon, power, enemies, armor, type\n",
      "Topic 23:\n",
      "time, magic, cast, heal, effect, strike, power, duration, spell, friend\n",
      "Topic 24:\n",
      "caus, creat, cast, level, summon, grant, power, enemies, friend, type\n",
      "Topic 25:\n",
      "second, half, magic, cast, heal, effect, power, enemies, duration, spell\n",
      "Topic 26:\n",
      "dispel, cast, magic, heal, effect, strike, power, spell, type, use\n",
      "Topic 27:\n",
      "alli, cast, power, enemies, hit, path, durat, heroes, current, max\n",
      "Topic 28:\n",
      "gain, units, creat, heal, grant, spell, reduc, hit, use, energi\n",
      "Topic 29:\n",
      "mana, units, magic, heal, effect, strike, duration, spell, reduc, friend\n"
     ]
    }
   ],
   "source": [
    "nmf = NMF(n_components=30, init='nndsvd').fit(tf_corpus)\n",
    "\n",
    "for topic_idx, topic in enumerate(nmf.components_):\n",
    "    print(\"Topic %d:\" % (topic_idx))\n",
    "    print(\", \".join([tf_features_names[i]\n",
    "                    for i in topic.argsort()[:-10 - 1:-1]]))"
   ]
  },
  {
   "cell_type": "code",
   "execution_count": null,
   "metadata": {
    "collapsed": false,
    "scrolled": true
   },
   "outputs": [],
   "source": [
    "test = tfidf_vectorizer.transform([descriptions['description'][1]])\n",
    "weights = nmf.transform(test)\n",
    "\n",
    "print(weights)\n",
    "print(weights.argsort())\n",
    "\n",
    "topic_index = weights.argsort()[0][-1]\n",
    "\n",
    "for i in nmf.components_[topic_index].argsort()[-1:]:\n",
    "    print(tf_features_names[i])"
   ]
  },
  {
   "cell_type": "code",
   "execution_count": null,
   "metadata": {
    "collapsed": true
   },
   "outputs": [],
   "source": []
  }
 ],
 "metadata": {
  "kernelspec": {
   "display_name": "Python 3",
   "language": "python",
   "name": "python3"
  },
  "language_info": {
   "codemirror_mode": {
    "name": "ipython",
    "version": 3
   },
   "file_extension": ".py",
   "mimetype": "text/x-python",
   "name": "python",
   "nbconvert_exporter": "python",
   "pygments_lexer": "ipython3",
   "version": "3.5.0"
  }
 },
 "nbformat": 4,
 "nbformat_minor": 0
}
