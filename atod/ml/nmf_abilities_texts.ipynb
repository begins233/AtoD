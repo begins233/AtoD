{
 "cells": [
  {
   "cell_type": "markdown",
   "metadata": {
    "collapsed": true
   },
   "source": [
    "# Topic modeling of abilities texts\n",
    "In this file I'm trying to cluster the abilities by performing topic modeling (with NMF decomposition) on their descriptions."
   ]
  },
  {
   "cell_type": "code",
   "execution_count": 1,
   "metadata": {
    "collapsed": false
   },
   "outputs": [],
   "source": [
    "import pandas as pd\n",
    "from sklearn.feature_extraction.text import TfidfVectorizer\n",
    "from sklearn.decomposition import NMF\n",
    "from nltk.stem.snowball import EnglishStemmer\n",
    "\n",
    "from atod import Abilities, Heroes"
   ]
  },
  {
   "cell_type": "code",
   "execution_count": 2,
   "metadata": {
    "collapsed": false
   },
   "outputs": [
    {
     "name": "stdout",
     "output_type": "stream",
     "text": [
      "No abilities for this HeroID == 16\n"
     ]
    }
   ],
   "source": [
    "# create stop-words list\n",
    "heroes = Heroes.all()\n",
    "heroes_names = [h.name for h in heroes]\n",
    "# names of heroes commonly occur in descriptions, so\n",
    "# deleting them is a good idea\n",
    "words_in_heroes_names = [word.lower() for name in heroes_names for word in name.split(' ')]\n",
    "\n",
    "eng_stop_words = TfidfVectorizer(stop_words='english').get_stop_words()\n",
    "stop_words = set(words_in_heroes_names + list(eng_stop_words) \n",
    "                 + ['font', 'color', '7998b5', 'target', 'enemy', 'friendly', 'allied'])"
   ]
  },
  {
   "cell_type": "code",
   "execution_count": 3,
   "metadata": {
    "collapsed": false
   },
   "outputs": [],
   "source": [
    "# get all texts for all abilities\n",
    "texts = Abilities.all().get_texts()\n",
    "# get abilities names and  descriptions\n",
    "descriptions = texts[['description', 'name']]\n",
    "corpus = [a.replace('\\\\n', ' ').replace('%%', '%') for a in descriptions['description']]\n",
    "corpus.extend(['stun', 'silence', 'short distance teleportation', \n",
    "               'prevents casting spells', 'invisibility', 'area',\n",
    "               'critical damage'])\n",
    "\n",
    "stemmer = EnglishStemmer()\n",
    "stemmed_corpus = []\n",
    "for doc in corpus:\n",
    "    stemmed_corpus.append(' '.join([stemmer.stem(word) for word in doc.split(' ')]))\n",
    "\n",
    "corpus = stemmed_corpus"
   ]
  },
  {
   "cell_type": "code",
   "execution_count": 4,
   "metadata": {
    "collapsed": false
   },
   "outputs": [
    {
     "data": {
      "text/plain": [
       "(495, 1584)"
      ]
     },
     "execution_count": 4,
     "metadata": {},
     "output_type": "execute_result"
    }
   ],
   "source": [
    "tfidf_vectorizer = TfidfVectorizer(max_df=0.95, min_df=2,  \n",
    "                                   stop_words=stop_words,\n",
    "                                   ngram_range=(1,3))\n",
    "tfidf_vectorizer.fit(corpus)\n",
    "tf_corpus = tfidf_vectorizer.transform(corpus)\n",
    "tf_features_names = tfidf_vectorizer.get_feature_names()\n",
    "\n",
    "tf_corpus.shape"
   ]
  },
  {
   "cell_type": "code",
   "execution_count": 5,
   "metadata": {
    "collapsed": false,
    "scrolled": true
   },
   "outputs": [
    {
     "name": "stdout",
     "output_type": "stream",
     "text": [
      "Topic 0:\n",
      "unit, enemi unit, enemi, nearbi enemi unit, send, radius, beast, nearbi enemi, damag, swarm\n",
      "Topic 1:\n",
      "scepter, upgrad aghanim, aghanim, aghanim scepter, upgrad, upgrad aghanim scepter, damage upgrad aghanim, damage upgrad, summon, end\n",
      "Topic 2:\n",
      "movement speed, movement, speed, increas movement, increas movement speed, increas, slow movement, slow movement speed, movement speed attack, speed attack\n",
      "Topic 3:\n",
      "units, enemi units, nearbi enemi, nearbi enemi units, nearbi, enemi, damag nearbi enemi, damag nearbi, burn, damag\n",
      "Topic 4:\n",
      "dispel, type, dispel type, dispel type basic, basic dispel, type basic dispel, type basic, basic, dispel type strong, strong\n",
      "Topic 5:\n",
      "bonus, bonus damag, deal bonus, deal bonus damag, attack, damag, deal, chanc, grant, doubl\n",
      "Topic 6:\n",
      "level, base level, base, invok, level quas, base level quas, quas, base level cabe68, level cabe68, level cabe68 exort\n",
      "Topic 7:\n",
      "friend, friend unit, heal, heal friend unit, heal friend, unit, friend unit damag, unit heal, unit damag, friend hero\n",
      "Topic 8:\n",
      "damag enemi, damag enemi unit, deal damag enemi, damag, enemi unit area, enemi unit, unit area, area deal, raze area deal, raze area\n",
      "Topic 9:\n",
      "hero, enemi hero, enemi, true sight, true, sight, steal, alli hero, kill, essenc\n",
      "Topic 10:\n",
      "stun, damag stun, ground, stun damag, slam, damag, deal damag stun, slam ground, throw, stun damag enemi\n",
      "Topic 11:\n",
      "attack, attack speed, increas attack, increas attack speed, increas, speed, gain increas, gain increas attack, arrows, short time\n",
      "Topic 12:\n",
      "mana, uniqu, uniqu attack, equal, pool, mana pool, lose, point mana, total mana, cost\n",
      "Topic 13:\n",
      "ani, ani enemi, snowbal, teleport, launch, teleport ani, path, tether, ani point, location\n",
      "Topic 14:\n",
      "enemies, nearbi enemies, nearbi, damag nearbi, damag nearbi enemies, attacked, let, loos, let loos, slow nearbi enemies\n",
      "Topic 15:\n",
      "health, percentag, current health, current, heal, life, beam, drain, enemi heal, damag enemi heal\n",
      "Topic 16:\n",
      "damage, deal damage, deal, damage upgrad aghanim, damage upgrad, extra, physic damage, magic damage, magic, physic\n",
      "Topic 17:\n",
      "armor, reduc, reduc armor, imag, presenc, reduct, armor enemi, armor seconds, enemi reduc, teleport ani\n",
      "Topic 18:\n",
      "critic, strike, critic strike, ad, chanc, hit, attack, chanc deal, bounti, victim\n",
      "Topic 19:\n",
      "tree, trap, place, unit tree, trap place, path, unit trap, enemi unit tree, ring, tree path\n",
      "Topic 20:\n",
      "teleport, distanc teleport, short distanc, short distanc teleport, distanc, short, teleport allow, distanc teleport allow, allow, combat\n",
      "Topic 21:\n",
      "creat, illus, creat illus, energi, terrorblad, fractur, deal damage, banish, creat shield, barrier\n",
      "Topic 22:\n",
      "remnant, stone, stone remnant, grip, arriv, travel, smash, recharg, invulnerable, stunned\n",
      "Topic 23:\n",
      "area, unit area, deton, enemi unit area, area effect, enemi area, effect, destroy enemi, destroy, area damag\n",
      "Topic 24:\n",
      "second, damag second, burn, deal damag second, everi, max hp, hp, golem, everi second, damag\n",
      "Topic 25:\n",
      "spell, cast, cast spell, prevent, enchant, caus damag, whenev, proport, time cast spell, time cast\n",
      "Topic 26:\n",
      "seconds, seconds upgrad, seconds upgrad aghanim, channel, arriv, everi, dead, seconds enemi, vortex, conjur\n",
      "Topic 27:\n",
      "alli, nearbi alli, magic, grant, resistance, heal, protect, nearbi, alli units, nearbi alli units\n",
      "Topic 28:\n",
      "deal damag, deal, damag time, damag, time, deal damag time, poison, damag time slow, time slow, stunning\n",
      "Topic 29:\n",
      "slow, damag slow, slow enemi, poison, slow movement, attack, poison slow, slow attack, damag slow movement, slow enemi unit\n",
      "Topic 30:\n",
      "invis, becom, hawk, becom invis, attack use, attack use ability, use ability, trap, plant invis, plant\n",
      "Topic 31:\n",
      "caus, miss, caus miss, attacks, miss attacks, silenc, caus miss attacks, blind, caus attack, chanc miss\n",
      "Topic 32:\n",
      "creep, control, lifesteal, enemi creep, health, consum, host, neutral, neutral creep, bodi\n",
      "Topic 33:\n",
      "gain, gain bonus, bonus, bonus damage, abilities, item, gain bonus damage, die, kill, avoid\n",
      "Topic 34:\n",
      "morphl, point, strength, agility, grant bonus, form, morph, addit, shift, grant\n",
      "Topic 35:\n",
      "rang, attack rang, attack, transform, terrorblad, vision, mele, power, vision rang, form\n",
      "Topic 36:\n",
      "spells, cast spells, immun, unit area cast, area cast spells, area cast, enemi unit area, unit area, cast, stop\n",
      "Topic 37:\n",
      "ward, summon, ward attack enemi, ward attack, attack enemi, immun, unit structures, enemi unit structures, structures, attack enemi unit\n",
      "Topic 38:\n",
      "allow, elements, instanc provid increas, instanc provid, allow manipul, provid increas, instanc, provid, manipul, allow manipul elements\n",
      "Topic 39:\n",
      "path, spike, burst, straight path, straight, stun damag, air, path enemi unit, enemi unit hurl, air stun\n"
     ]
    }
   ],
   "source": [
    "nmf = NMF(n_components=40, init='nndsvd').fit(tf_corpus)\n",
    "\n",
    "for topic_idx, topic in enumerate(nmf.components_):\n",
    "    print(\"Topic %d:\" % (topic_idx))\n",
    "    print(\", \".join([tf_features_names[i]\n",
    "                    for i in topic.argsort()[:-10 - 1:-1]]))"
   ]
  },
  {
   "cell_type": "code",
   "execution_count": 6,
   "metadata": {
    "collapsed": false,
    "scrolled": false
   },
   "outputs": [
    {
     "name": "stdout",
     "output_type": "stream",
     "text": [
      "fissure\n",
      "Slams the ground with a mighty totem, creating an impassable ridge of stone while stunning and damaging enemy units along its line.\n",
      "-------\n",
      "ground, damag stun, stun, \n",
      "nearbi enemi, enemi units, units, \n",
      "stone remnant, stone, remnant, \n"
     ]
    }
   ],
   "source": [
    "# find the ability with `index` in descriptions DataFrame\n",
    "# and define categories of this ability\n",
    "index = 19\n",
    "test = tfidf_vectorizer.transform([descriptions['description'][index]])\n",
    "weights = nmf.transform(test)\n",
    "topics = weights.argsort()[0][-3:]\n",
    "\n",
    "print(descriptions['name'][index])\n",
    "print(descriptions['description'][index])\n",
    "print('-' * len(descriptions['name'][index]))\n",
    "\n",
    "for topic in topics:\n",
    "    for i in nmf.components_[topic].argsort()[-3:]:\n",
    "        print(tf_features_names[i], end=', ')\n",
    "        \n",
    "    print()"
   ]
  },
  {
   "cell_type": "markdown",
   "metadata": {
    "collapsed": true
   },
   "source": [
    "## Conclusion\n",
    "NMF is able to define categories of abilities pretty well by taking the most important words in 3 the most valuable topics of the ability description."
   ]
  },
  {
   "cell_type": "code",
   "execution_count": 7,
   "metadata": {
    "collapsed": false
   },
   "outputs": [
    {
     "data": {
      "text/plain": [
       "<matplotlib.axes._subplots.AxesSubplot at 0x10d3c7160>"
      ]
     },
     "execution_count": 7,
     "metadata": {},
     "output_type": "execute_result"
    },
    {
     "data": {
      "image/png": "[encoded data removed]",
      "text/plain": [
       "<matplotlib.figure.Figure at 0x10bdc5ba8>"
      ]
     },
     "metadata": {},
     "output_type": "display_data"
    }
   ],
   "source": [
    "# distribution of categories\n",
    "%matplotlib inline\n",
    "categories_dist = dict()\n",
    "skills_by_category = dict()\n",
    "\n",
    "for index, text in enumerate(descriptions['description']):\n",
    "    vect = tfidf_vectorizer.transform([text])\n",
    "    weights = nmf.transform(vect)\n",
    "    topics = weights.argsort()[0][-3:]\n",
    "    \n",
    "    for topic in topics:\n",
    "        # find words describing topic\n",
    "        for i in nmf.components_[topic].argsort()[-1:]:\n",
    "            skills_by_category.setdefault(tf_features_names[i], [])\n",
    "            skills_by_category[tf_features_names[i]].append(descriptions['name'][index])\n",
    "            \n",
    "# categories_dist = categories_dist.dropna()\n",
    "categories_dist = pd.Series({k: len(skills_by_category[k]) for k in skills_by_category})\n",
    "categories_dist.plot()"
   ]
  },
  {
   "cell_type": "code",
   "execution_count": 8,
   "metadata": {
    "collapsed": false
   },
   "outputs": [
    {
     "name": "stdout",
     "output_type": "stream",
     "text": [
      "#categories 40\n",
      "alli               10\n",
      "allow              11\n",
      "ani                 1\n",
      "area               44\n",
      "armor              17\n",
      "attack              7\n",
      "bonus              12\n",
      "caus               19\n",
      "creat               4\n",
      "creep              20\n",
      "critic             11\n",
      "damag enemi         1\n",
      "damage            119\n",
      "deal damag         15\n",
      "dispel             24\n",
      "enemies            56\n",
      "friend              5\n",
      "gain               46\n",
      "health             20\n",
      "hero               32\n",
      "invis              14\n",
      "level              21\n",
      "mana               20\n",
      "morphl             14\n",
      "movement speed     62\n",
      "path               22\n",
      "rang               14\n",
      "remnant            12\n",
      "scepter            87\n",
      "second             15\n",
      "seconds            39\n",
      "slow               15\n",
      "spell              25\n",
      "spells             17\n",
      "stun                4\n",
      "teleport            7\n",
      "tree                9\n",
      "unit               17\n",
      "units              77\n",
      "ward               11\n",
      "dtype: int64\n"
     ]
    }
   ],
   "source": [
    "print('NOTE: the name of category can be misleading, check the above example with fissure')\n",
    "print('#categories', categories_dist.shape[0])\n",
    "print(categories_dist)"
   ]
  },
  {
   "cell_type": "code",
   "execution_count": 9,
   "metadata": {
    "collapsed": false
   },
   "outputs": [
    {
     "name": "stdout",
     "output_type": "stream",
     "text": [
      "['slithereen_crush', 'bash', 'shackleshot', 'unstable_concoction']\n"
     ]
    }
   ],
   "source": [
    "# print abilities by category\n",
    "print(skills_by_category['stun'])"
   ]
  },
  {
   "cell_type": "code",
   "execution_count": null,
   "metadata": {
    "collapsed": true
   },
   "outputs": [],
   "source": []
  }
 ],
 "metadata": {
  "kernelspec": {
   "display_name": "Python 3",
   "language": "python",
   "name": "python3"
  },
  "language_info": {
   "codemirror_mode": {
    "name": "ipython",
    "version": 3
   },
   "file_extension": ".py",
   "mimetype": "text/x-python",
   "name": "python",
   "nbconvert_exporter": "python",
   "pygments_lexer": "ipython3",
   "version": "3.5.0"
  }
 },
 "nbformat": 4,
 "nbformat_minor": 0
}
