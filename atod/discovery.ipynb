{
 "cells": [
  {
   "cell_type": "code",
   "execution_count": 1,
   "metadata": {
    "collapsed": false
   },
   "outputs": [],
   "source": [
    "from atod import Hero, Heroes"
   ]
  },
  {
   "cell_type": "code",
   "execution_count": 4,
   "metadata": {
    "collapsed": false
   },
   "outputs": [
    {
     "name": "stdout",
     "output_type": "stream",
     "text": [
      "                ArmorPhysical  AttackAcquisitionRange  AttackAnimationPoint  \\\n",
      "Phantom Lancer            0.0                     600                   0.5   \n",
      "Puck                     -1.0                     800                   0.5   \n",
      "Pudge                    -1.0                     600                   0.5   \n",
      "Razor                    -1.0                     800                   0.3   \n",
      "Storm Spirit              2.0                     800                   0.5   \n",
      "\n",
      "                         AttackCapabilities  AttackDamageMax  AttackDamageMin  \\\n",
      "Phantom Lancer   DOTA_UNIT_CAP_MELEE_ATTACK               44               22   \n",
      "Puck            DOTA_UNIT_CAP_RANGED_ATTACK               33               22   \n",
      "Pudge            DOTA_UNIT_CAP_MELEE_ATTACK               33               27   \n",
      "Razor           DOTA_UNIT_CAP_RANGED_ATTACK               25               23   \n",
      "Storm Spirit    DOTA_UNIT_CAP_RANGED_ATTACK               32               22   \n",
      "\n",
      "                AttackRange  AttackRate  AttributeAgilityGain  \\\n",
      "Phantom Lancer          150         1.7                   2.6   \n",
      "Puck                    550         1.7                   1.7   \n",
      "Pudge                   150         1.7                   1.5   \n",
      "Razor                   475         1.7                   2.0   \n",
      "Storm Spirit            480         1.7                   1.8   \n",
      "\n",
      "                AttributeBaseAgility  ...    regen  save  shield silence  \\\n",
      "Phantom Lancer                    29  ...        0     0       0       0   \n",
      "Puck                              22  ...        0     0       0       0   \n",
      "Pudge                             14  ...        0     0       0       0   \n",
      "Razor                             22  ...        0     0       0       0   \n",
      "Storm Spirit                      22  ...        0     0       0       0   \n",
      "\n",
      "                slow  stacks  stun  summon_unit transformation vision  \n",
      "Phantom Lancer     0       0     0            0              0      0  \n",
      "Puck               0       0     1            0              0      0  \n",
      "Pudge              0       0     1            0              0      0  \n",
      "Razor              1       0     0            0              0      0  \n",
      "Storm Spirit       2       0     1            0              0      0  \n",
      "\n",
      "[5 rows x 59 columns]\n",
      "CPU times: user 1.38 s, sys: 58.7 ms, total: 1.44 s\n",
      "Wall time: 1.44 s\n"
     ]
    }
   ],
   "source": [
    "%%time\n",
    "heroes = Heroes([Hero(id_) for id_ in [12,13,14,15,17]])\n",
    "print(heroes.to_dataframe().head())"
   ]
  },
  {
   "cell_type": "code",
   "execution_count": 3,
   "metadata": {
    "collapsed": false
   },
   "outputs": [
    {
     "data": {
      "text/plain": [
       "ArmorPhysical                                      -1\n",
       "AttackAcquisitionRange                            800\n",
       "AttackAnimationPoint                              0.3\n",
       "AttackCapabilities        DOTA_UNIT_CAP_RANGED_ATTACK\n",
       "AttackDamageMax                                    29\n",
       "dtype: object"
      ]
     },
     "execution_count": 3,
     "metadata": {},
     "output_type": "execute_result"
    }
   ],
   "source": [
    "hero = Hero(9)\n",
    "hero.to_series().head()"
   ]
  },
  {
   "cell_type": "code",
   "execution_count": null,
   "metadata": {
    "collapsed": true
   },
   "outputs": [],
   "source": [
    ""
   ]
  }
 ],
 "metadata": {
  "kernelspec": {
   "display_name": "Python 3",
   "language": "python",
   "name": "python3"
  },
  "language_info": {
   "codemirror_mode": {
    "name": "ipython",
    "version": 3.0
   },
   "file_extension": ".py",
   "mimetype": "text/x-python",
   "name": "python",
   "nbconvert_exporter": "python",
   "pygments_lexer": "ipython3",
   "version": "3.5.0"
  }
 },
 "nbformat": 4,
 "nbformat_minor": 0
}